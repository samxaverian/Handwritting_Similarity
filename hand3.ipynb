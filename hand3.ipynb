{
 "cells": [
  {
   "cell_type": "code",
   "execution_count": 1,
   "metadata": {},
   "outputs": [],
   "source": [
    "import cv2\n",
    "import numpy as np\n",
    "import pandas as pd\n",
    "from tqdm import tqdm\n",
    "import matplotlib.pyplot as plt\n",
    "from imutils.object_detection import non_max_suppression\n",
    "import os\n",
    "import sys\n",
    "net = cv2.dnn.readNet('frozen_east_text_detection.pb')\n"
   ]
  },
  {
   "cell_type": "code",
   "execution_count": 19,
   "metadata": {},
   "outputs": [],
   "source": [
    "def to_knn(image):\n",
    "    data = np.reshape(image,(image.shape[0]*image.shape[1],3))\n",
    "    data = np.float32(data)\n",
    "    criteria = (cv2.TERM_CRITERIA_EPS + cv2.TERM_CRITERIA_MAX_ITER, 10, 1.0)\n",
    "    K = 2\n",
    "    ret,label,center=cv2.kmeans(data,K,None,criteria,10,cv2.KMEANS_RANDOM_CENTERS)\n",
    "    center = np.uint8(center)\n",
    "    res = center[label.flatten()]\n",
    "    res2 = res.reshape(image.shape)\n",
    "    res3 = cv2.cvtColor(res2,cv2.COLOR_BGR2GRAY)\n",
    "    _, threshold = cv2.threshold(res3, 0, 255, cv2.THRESH_BINARY + cv2.THRESH_OTSU)\n",
    "    output = cv2.merge([threshold,threshold,threshold])\n",
    "\n",
    "\n",
    "    return output"
   ]
  },
  {
   "cell_type": "code",
   "execution_count": 25,
   "metadata": {},
   "outputs": [],
   "source": [
    "def detect_text_region(image):\n",
    " \n",
    "\torig = image.copy()\n",
    "\t(H, W) = image.shape[:2]\n",
    "\n",
    "# set the new width and height and then determine the ratio in change\n",
    "# for both the width and height\n",
    "\tnewW, newH = 320, 320\n",
    "\trW = W / float(newW)\n",
    "\trH = H / float(newH)\n",
    "\n",
    "# resize the image and grab the new image dimensions\n",
    "\timage = cv2.resize(image, (newW, newH))\n",
    "\t(H, W) = image.shape[:2]\n",
    "\tlayerNames = [\n",
    "\t\"feature_fusion/Conv_7/Sigmoid\",\n",
    "\t\"feature_fusion/concat_3\"]\n",
    "\tblob = cv2.dnn.blobFromImage(image, 1.0, (W, H),\n",
    "\t(123.68, 116.78, 103.94), swapRB=True, crop=False)\n",
    "\tnet.setInput(blob)\n",
    "\t(scores, geometry) = net.forward(layerNames)\n",
    "\t(numRows, numCols) = scores.shape[2:4]\n",
    "\trects = []\n",
    "\tconfidences = []\n",
    "\tdetections =[]\n",
    "\n",
    "\n",
    "\tfor y in range(0, numRows):\n",
    "\t\t# extract the scores (probabilities), followed by the geometrical\n",
    "\t\t# data used to derive potential bounding box coordinates that\n",
    "\t\t# surround text\n",
    "\t\tscoresData = scores[0, 0, y]\n",
    "\t\txData0 = geometry[0, 0, y]\n",
    "\t\txData1 = geometry[0, 1, y]\n",
    "\t\txData2 = geometry[0, 2, y]\n",
    "\t\txData3 = geometry[0, 3, y]\n",
    "\t\tanglesData = geometry[0, 4, y]\n",
    "\n",
    "\t\t# loop over the number of columns\n",
    "\t\tfor x in range(0, numCols):\n",
    "\t\t\t# if our score does not have sufficient probability, ignore it\n",
    "\t\t\tif scoresData[x] < 0.5:\n",
    "\t\t\t\tcontinue\n",
    "\n",
    "\t\t\t# compute the offset factor as our resulting feature maps will\n",
    "\t\t\t# be 4x smaller than the input image\n",
    "\t\t\t(offsetX, offsetY) = (x * 4.0, y * 4.0)\n",
    "\n",
    "\t\t\t# extract the rotation angle for the prediction and then\n",
    "\t\t\t# compute the sin and cosine\n",
    "\t\t\tangle = anglesData[x]\n",
    "\t\t\tcos = np.cos(angle)\n",
    "\t\t\tsin = np.sin(angle)\n",
    "\n",
    "\t\t\t# use the geometry volume to derive the width and height of\n",
    "\t\t\t# the bounding box\n",
    "\t\t\th = xData0[x] + xData2[x]\n",
    "\t\t\tw = xData1[x] + xData3[x]\n",
    "\n",
    "\t\t\t# compute both the starting and ending (x, y)-coordinates for\n",
    "\t\t\t# the text prediction bounding box\n",
    "\t\t\tendX = int(offsetX + (cos * xData1[x]) + (sin * xData2[x]))\n",
    "\t\t\tendY = int(offsetY - (sin * xData1[x]) + (cos * xData2[x]))\n",
    "\t\t\tstartX = int(endX - w)\n",
    "\t\t\tstartY = int(endY - h)\n",
    "\n",
    "\t\t\t# add the bounding box coordinates and probability score to\n",
    "\t\t\t# our respective lists\n",
    "\t\t\trects.append((startX, startY, endX, endY))\n",
    "\t\t\tconfidences.append(scoresData[x])\n",
    "\n",
    "\t# apply non-maxima suppression to suppress weak, overlapping bounding\n",
    "\t# boxes\n",
    "\tif len(rects)==0:\n",
    "\t\treturn None\n",
    "\tboxes = non_max_suppression(np.array(rects), probs=confidences)\n",
    "\t\n",
    "\tfor (startX, startY, endX, endY) in boxes:\n",
    "\t# scale the bounding box coordinates based on the respective\n",
    "\t# ratios\n",
    "\t\tstartX = int(startX * rW)\n",
    "\t\tstartY = int(startY * rH)\n",
    "\t\tendX = int(endX * rW)\n",
    "\t\tendY = int(endY * rH)\n",
    "\n",
    "\t\tdetections.append([startY,endY,startX,endX])\n",
    "  \n",
    "\treturn detections\n"
   ]
  },
  {
   "cell_type": "code",
   "execution_count": 32,
   "metadata": {},
   "outputs": [],
   "source": [
    "data_east = pd.DataFrame(columns=[\"filename\",\"folder\",\"imagename\",\"cropped\"])"
   ]
  },
  {
   "cell_type": "code",
   "execution_count": 5,
   "metadata": {},
   "outputs": [],
   "source": [
    "subfolders =[]\n",
    "for folder_name, subs, filenames in os.walk('./dataset/train/'):\n",
    "        # Print the subfolder name\n",
    "        # print(f\"Subfolder: {subfolders}\")\n",
    "        subfolders.extend(subs)\n",
    "        break"
   ]
  },
  {
   "attachments": {},
   "cell_type": "markdown",
   "metadata": {},
   "source": [
    "## Preprocessing the Train folder"
   ]
  },
  {
   "cell_type": "code",
   "execution_count": 33,
   "metadata": {},
   "outputs": [
    {
     "name": "stderr",
     "output_type": "stream",
     "text": [
      "  1%|          | 11/1352 [00:55<1:52:51,  5.05s/it]"
     ]
    },
    {
     "name": "stdout",
     "output_type": "stream",
     "text": [
      "total: 100, count1: 74, count2: 50\n"
     ]
    },
    {
     "name": "stderr",
     "output_type": "stream",
     "text": [
      "  2%|▏         | 24/1352 [01:57<1:36:56,  4.38s/it]"
     ]
    },
    {
     "name": "stdout",
     "output_type": "stream",
     "text": [
      "total: 200, count1: 145, count2: 86\n"
     ]
    },
    {
     "name": "stderr",
     "output_type": "stream",
     "text": [
      "  3%|▎         | 35/1352 [02:54<1:41:30,  4.62s/it]"
     ]
    },
    {
     "name": "stdout",
     "output_type": "stream",
     "text": [
      "total: 300, count1: 226, count2: 138\n"
     ]
    },
    {
     "name": "stderr",
     "output_type": "stream",
     "text": [
      "  4%|▎         | 48/1352 [03:55<1:34:36,  4.35s/it]"
     ]
    },
    {
     "name": "stdout",
     "output_type": "stream",
     "text": [
      "total: 400, count1: 308, count2: 191\n"
     ]
    },
    {
     "name": "stderr",
     "output_type": "stream",
     "text": [
      "  4%|▍         | 59/1352 [04:50<1:52:37,  5.23s/it]"
     ]
    },
    {
     "name": "stdout",
     "output_type": "stream",
     "text": [
      "total: 500, count1: 378, count2: 228\n"
     ]
    },
    {
     "name": "stderr",
     "output_type": "stream",
     "text": [
      "  5%|▌         | 72/1352 [05:55<1:30:31,  4.24s/it]"
     ]
    },
    {
     "name": "stdout",
     "output_type": "stream",
     "text": [
      "total: 600, count1: 463, count2: 288\n"
     ]
    },
    {
     "name": "stderr",
     "output_type": "stream",
     "text": [
      "  6%|▌         | 84/1352 [06:59<1:53:07,  5.35s/it]"
     ]
    },
    {
     "name": "stdout",
     "output_type": "stream",
     "text": [
      "total: 700, count1: 548, count2: 343\n"
     ]
    },
    {
     "name": "stderr",
     "output_type": "stream",
     "text": [
      "  7%|▋         | 95/1352 [08:00<2:07:59,  6.11s/it]"
     ]
    },
    {
     "name": "stdout",
     "output_type": "stream",
     "text": [
      "total: 800, count1: 630, count2: 407\n"
     ]
    },
    {
     "name": "stderr",
     "output_type": "stream",
     "text": [
      "  8%|▊         | 108/1352 [08:56<1:39:45,  4.81s/it]"
     ]
    },
    {
     "name": "stdout",
     "output_type": "stream",
     "text": [
      "total: 900, count1: 711, count2: 456\n"
     ]
    },
    {
     "name": "stderr",
     "output_type": "stream",
     "text": [
      "  9%|▉         | 121/1352 [10:03<2:16:43,  6.66s/it]"
     ]
    },
    {
     "name": "stdout",
     "output_type": "stream",
     "text": [
      "total: 1000, count1: 788, count2: 506\n"
     ]
    },
    {
     "name": "stderr",
     "output_type": "stream",
     "text": [
      " 10%|▉         | 134/1352 [11:06<1:35:05,  4.68s/it]"
     ]
    },
    {
     "name": "stdout",
     "output_type": "stream",
     "text": [
      "total: 1100, count1: 865, count2: 561\n"
     ]
    },
    {
     "name": "stderr",
     "output_type": "stream",
     "text": [
      " 11%|█         | 148/1352 [12:06<1:25:14,  4.25s/it]"
     ]
    },
    {
     "name": "stdout",
     "output_type": "stream",
     "text": [
      "total: 1200, count1: 939, count2: 605\n"
     ]
    },
    {
     "name": "stderr",
     "output_type": "stream",
     "text": [
      " 12%|█▏        | 158/1352 [13:02<2:00:56,  6.08s/it]"
     ]
    },
    {
     "name": "stdout",
     "output_type": "stream",
     "text": [
      "total: 1300, count1: 1022, count2: 650\n"
     ]
    },
    {
     "name": "stderr",
     "output_type": "stream",
     "text": [
      " 13%|█▎        | 172/1352 [14:06<1:27:56,  4.47s/it]"
     ]
    },
    {
     "name": "stdout",
     "output_type": "stream",
     "text": [
      "total: 1400, count1: 1105, count2: 708\n"
     ]
    },
    {
     "name": "stderr",
     "output_type": "stream",
     "text": [
      " 14%|█▎        | 185/1352 [15:08<1:41:46,  5.23s/it]"
     ]
    },
    {
     "name": "stdout",
     "output_type": "stream",
     "text": [
      "total: 1500, count1: 1181, count2: 756\n"
     ]
    },
    {
     "name": "stderr",
     "output_type": "stream",
     "text": [
      " 15%|█▍        | 197/1352 [16:05<1:30:48,  4.72s/it]"
     ]
    },
    {
     "name": "stdout",
     "output_type": "stream",
     "text": [
      "total: 1600, count1: 1251, count2: 805\n"
     ]
    },
    {
     "name": "stderr",
     "output_type": "stream",
     "text": [
      " 15%|█▌        | 209/1352 [17:05<1:32:18,  4.85s/it]"
     ]
    },
    {
     "name": "stdout",
     "output_type": "stream",
     "text": [
      "total: 1700, count1: 1323, count2: 851\n"
     ]
    },
    {
     "name": "stderr",
     "output_type": "stream",
     "text": [
      " 16%|█▋        | 222/1352 [18:03<1:28:03,  4.68s/it]"
     ]
    },
    {
     "name": "stdout",
     "output_type": "stream",
     "text": [
      "total: 1800, count1: 1404, count2: 903\n"
     ]
    },
    {
     "name": "stderr",
     "output_type": "stream",
     "text": [
      " 17%|█▋        | 234/1352 [19:02<1:41:59,  5.47s/it]"
     ]
    },
    {
     "name": "stdout",
     "output_type": "stream",
     "text": [
      "total: 1900, count1: 1480, count2: 946\n"
     ]
    },
    {
     "name": "stderr",
     "output_type": "stream",
     "text": [
      " 18%|█▊        | 247/1352 [20:09<1:17:25,  4.20s/it]"
     ]
    },
    {
     "name": "stdout",
     "output_type": "stream",
     "text": [
      "total: 2000, count1: 1565, count2: 1000\n"
     ]
    },
    {
     "name": "stderr",
     "output_type": "stream",
     "text": [
      " 19%|█▉        | 260/1352 [21:08<1:08:15,  3.75s/it]"
     ]
    },
    {
     "name": "stdout",
     "output_type": "stream",
     "text": [
      "total: 2100, count1: 1642, count2: 1039\n"
     ]
    },
    {
     "name": "stderr",
     "output_type": "stream",
     "text": [
      " 20%|██        | 272/1352 [22:19<1:46:28,  5.91s/it]"
     ]
    },
    {
     "name": "stdout",
     "output_type": "stream",
     "text": [
      "total: 2200, count1: 1716, count2: 1088\n"
     ]
    },
    {
     "name": "stderr",
     "output_type": "stream",
     "text": [
      " 21%|██        | 285/1352 [23:24<1:33:23,  5.25s/it]"
     ]
    },
    {
     "name": "stdout",
     "output_type": "stream",
     "text": [
      "total: 2300, count1: 1799, count2: 1141\n"
     ]
    },
    {
     "name": "stderr",
     "output_type": "stream",
     "text": [
      " 22%|██▏       | 295/1352 [24:35<2:03:03,  6.98s/it]"
     ]
    },
    {
     "name": "stdout",
     "output_type": "stream",
     "text": [
      "total: 2400, count1: 1878, count2: 1201\n"
     ]
    },
    {
     "name": "stderr",
     "output_type": "stream",
     "text": [
      " 23%|██▎       | 308/1352 [25:36<1:12:33,  4.17s/it]"
     ]
    },
    {
     "name": "stdout",
     "output_type": "stream",
     "text": [
      "total: 2500, count1: 1941, count2: 1239\n"
     ]
    },
    {
     "name": "stderr",
     "output_type": "stream",
     "text": [
      " 24%|██▎       | 321/1352 [26:33<1:08:42,  4.00s/it]"
     ]
    },
    {
     "name": "stdout",
     "output_type": "stream",
     "text": [
      "total: 2600, count1: 2016, count2: 1286\n"
     ]
    },
    {
     "name": "stderr",
     "output_type": "stream",
     "text": [
      " 25%|██▍       | 334/1352 [27:39<1:27:13,  5.14s/it]"
     ]
    },
    {
     "name": "stdout",
     "output_type": "stream",
     "text": [
      "total: 2700, count1: 2088, count2: 1331\n"
     ]
    },
    {
     "name": "stderr",
     "output_type": "stream",
     "text": [
      " 26%|██▌       | 347/1352 [28:42<1:19:46,  4.76s/it]"
     ]
    },
    {
     "name": "stdout",
     "output_type": "stream",
     "text": [
      "total: 2800, count1: 2159, count2: 1376\n"
     ]
    },
    {
     "name": "stderr",
     "output_type": "stream",
     "text": [
      " 27%|██▋       | 359/1352 [29:45<1:33:46,  5.67s/it]"
     ]
    },
    {
     "name": "stdout",
     "output_type": "stream",
     "text": [
      "total: 2900, count1: 2232, count2: 1430\n"
     ]
    },
    {
     "name": "stderr",
     "output_type": "stream",
     "text": [
      " 27%|██▋       | 371/1352 [30:56<1:22:51,  5.07s/it]"
     ]
    },
    {
     "name": "stdout",
     "output_type": "stream",
     "text": [
      "total: 3000, count1: 2308, count2: 1475\n"
     ]
    },
    {
     "name": "stderr",
     "output_type": "stream",
     "text": [
      " 28%|██▊       | 383/1352 [31:53<1:30:56,  5.63s/it]"
     ]
    },
    {
     "name": "stdout",
     "output_type": "stream",
     "text": [
      "total: 3100, count1: 2389, count2: 1528\n"
     ]
    },
    {
     "name": "stderr",
     "output_type": "stream",
     "text": [
      " 29%|██▉       | 394/1352 [32:58<1:39:52,  6.26s/it]"
     ]
    },
    {
     "name": "stdout",
     "output_type": "stream",
     "text": [
      "total: 3200, count1: 2470, count2: 1588\n"
     ]
    },
    {
     "name": "stderr",
     "output_type": "stream",
     "text": [
      " 30%|███       | 406/1352 [34:02<1:28:03,  5.58s/it]"
     ]
    },
    {
     "name": "stdout",
     "output_type": "stream",
     "text": [
      "total: 3300, count1: 2547, count2: 1643\n"
     ]
    },
    {
     "name": "stderr",
     "output_type": "stream",
     "text": [
      " 31%|███       | 419/1352 [35:02<1:21:54,  5.27s/it]"
     ]
    },
    {
     "name": "stdout",
     "output_type": "stream",
     "text": [
      "total: 3400, count1: 2626, count2: 1687\n"
     ]
    },
    {
     "name": "stderr",
     "output_type": "stream",
     "text": [
      " 32%|███▏      | 432/1352 [36:12<1:29:26,  5.83s/it]"
     ]
    },
    {
     "name": "stdout",
     "output_type": "stream",
     "text": [
      "total: 3500, count1: 2705, count2: 1742\n"
     ]
    },
    {
     "name": "stderr",
     "output_type": "stream",
     "text": [
      " 33%|███▎      | 446/1352 [37:18<1:06:20,  4.39s/it]"
     ]
    },
    {
     "name": "stdout",
     "output_type": "stream",
     "text": [
      "total: 3600, count1: 2784, count2: 1787\n"
     ]
    },
    {
     "name": "stderr",
     "output_type": "stream",
     "text": [
      " 34%|███▍      | 458/1352 [38:25<1:14:54,  5.03s/it]"
     ]
    },
    {
     "name": "stdout",
     "output_type": "stream",
     "text": [
      "total: 3700, count1: 2862, count2: 1840\n"
     ]
    },
    {
     "name": "stderr",
     "output_type": "stream",
     "text": [
      " 35%|███▍      | 470/1352 [39:31<1:17:49,  5.29s/it]"
     ]
    },
    {
     "name": "stdout",
     "output_type": "stream",
     "text": [
      "total: 3800, count1: 2937, count2: 1884\n"
     ]
    },
    {
     "name": "stderr",
     "output_type": "stream",
     "text": [
      " 36%|███▌      | 482/1352 [40:32<1:08:26,  4.72s/it]"
     ]
    },
    {
     "name": "stdout",
     "output_type": "stream",
     "text": [
      "total: 3900, count1: 3018, count2: 1933\n"
     ]
    },
    {
     "name": "stderr",
     "output_type": "stream",
     "text": [
      " 36%|███▋      | 492/1352 [41:32<1:34:02,  6.56s/it]"
     ]
    },
    {
     "name": "stdout",
     "output_type": "stream",
     "text": [
      "total: 4000, count1: 3096, count2: 1982\n"
     ]
    },
    {
     "name": "stderr",
     "output_type": "stream",
     "text": [
      " 37%|███▋      | 504/1352 [42:41<1:10:15,  4.97s/it]"
     ]
    },
    {
     "name": "stdout",
     "output_type": "stream",
     "text": [
      "total: 4100, count1: 3175, count2: 2034\n"
     ]
    },
    {
     "name": "stderr",
     "output_type": "stream",
     "text": [
      " 38%|███▊      | 517/1352 [43:42<47:14,  3.39s/it]  "
     ]
    },
    {
     "name": "stdout",
     "output_type": "stream",
     "text": [
      "total: 4200, count1: 3254, count2: 2080\n"
     ]
    },
    {
     "name": "stderr",
     "output_type": "stream",
     "text": [
      " 39%|███▉      | 530/1352 [44:44<1:00:28,  4.41s/it]"
     ]
    },
    {
     "name": "stdout",
     "output_type": "stream",
     "text": [
      "total: 4300, count1: 3328, count2: 2128\n"
     ]
    },
    {
     "name": "stderr",
     "output_type": "stream",
     "text": [
      " 40%|████      | 544/1352 [45:56<1:11:02,  5.27s/it]"
     ]
    },
    {
     "name": "stdout",
     "output_type": "stream",
     "text": [
      "total: 4400, count1: 3404, count2: 2179\n"
     ]
    },
    {
     "name": "stderr",
     "output_type": "stream",
     "text": [
      " 41%|████      | 557/1352 [47:06<1:10:17,  5.31s/it]"
     ]
    },
    {
     "name": "stdout",
     "output_type": "stream",
     "text": [
      "total: 4500, count1: 3478, count2: 2226\n"
     ]
    },
    {
     "name": "stderr",
     "output_type": "stream",
     "text": [
      " 42%|████▏     | 569/1352 [48:09<1:11:30,  5.48s/it]"
     ]
    },
    {
     "name": "stdout",
     "output_type": "stream",
     "text": [
      "total: 4600, count1: 3561, count2: 2274\n"
     ]
    },
    {
     "name": "stderr",
     "output_type": "stream",
     "text": [
      " 43%|████▎     | 581/1352 [49:13<1:12:42,  5.66s/it]"
     ]
    },
    {
     "name": "stdout",
     "output_type": "stream",
     "text": [
      "total: 4700, count1: 3625, count2: 2313\n"
     ]
    },
    {
     "name": "stderr",
     "output_type": "stream",
     "text": [
      " 44%|████▍     | 593/1352 [50:20<1:19:58,  6.32s/it]"
     ]
    },
    {
     "name": "stdout",
     "output_type": "stream",
     "text": [
      "total: 4800, count1: 3698, count2: 2350\n"
     ]
    },
    {
     "name": "stderr",
     "output_type": "stream",
     "text": [
      " 45%|████▍     | 606/1352 [51:34<1:32:44,  7.46s/it]"
     ]
    },
    {
     "name": "stdout",
     "output_type": "stream",
     "text": [
      "total: 4900, count1: 3774, count2: 2403\n"
     ]
    },
    {
     "name": "stderr",
     "output_type": "stream",
     "text": [
      " 46%|████▌     | 619/1352 [52:58<1:30:29,  7.41s/it]"
     ]
    },
    {
     "name": "stdout",
     "output_type": "stream",
     "text": [
      "total: 5000, count1: 3863, count2: 2462\n"
     ]
    },
    {
     "name": "stderr",
     "output_type": "stream",
     "text": [
      " 47%|████▋     | 632/1352 [54:13<1:08:27,  5.70s/it]"
     ]
    },
    {
     "name": "stdout",
     "output_type": "stream",
     "text": [
      "total: 5100, count1: 3941, count2: 2513\n"
     ]
    },
    {
     "name": "stderr",
     "output_type": "stream",
     "text": [
      " 48%|████▊     | 644/1352 [55:32<1:15:20,  6.38s/it]"
     ]
    },
    {
     "name": "stdout",
     "output_type": "stream",
     "text": [
      "total: 5200, count1: 4016, count2: 2562\n"
     ]
    },
    {
     "name": "stderr",
     "output_type": "stream",
     "text": [
      " 49%|████▊     | 656/1352 [56:55<1:03:17,  5.46s/it]"
     ]
    },
    {
     "name": "stdout",
     "output_type": "stream",
     "text": [
      "total: 5300, count1: 4091, count2: 2608\n"
     ]
    },
    {
     "name": "stderr",
     "output_type": "stream",
     "text": [
      " 49%|████▉     | 668/1352 [58:38<1:41:18,  8.89s/it]"
     ]
    },
    {
     "name": "stdout",
     "output_type": "stream",
     "text": [
      "total: 5400, count1: 4163, count2: 2646\n"
     ]
    },
    {
     "name": "stderr",
     "output_type": "stream",
     "text": [
      " 50%|█████     | 680/1352 [59:57<1:10:20,  6.28s/it]"
     ]
    },
    {
     "name": "stdout",
     "output_type": "stream",
     "text": [
      "total: 5500, count1: 4239, count2: 2685\n"
     ]
    },
    {
     "name": "stderr",
     "output_type": "stream",
     "text": [
      " 51%|█████     | 692/1352 [1:01:20<1:13:21,  6.67s/it]"
     ]
    },
    {
     "name": "stdout",
     "output_type": "stream",
     "text": [
      "total: 5600, count1: 4322, count2: 2742\n"
     ]
    },
    {
     "name": "stderr",
     "output_type": "stream",
     "text": [
      " 52%|█████▏    | 704/1352 [1:02:35<1:03:09,  5.85s/it]"
     ]
    },
    {
     "name": "stdout",
     "output_type": "stream",
     "text": [
      "total: 5700, count1: 4405, count2: 2797\n"
     ]
    },
    {
     "name": "stderr",
     "output_type": "stream",
     "text": [
      " 53%|█████▎    | 716/1352 [1:03:50<53:13,  5.02s/it]  "
     ]
    },
    {
     "name": "stdout",
     "output_type": "stream",
     "text": [
      "total: 5800, count1: 4477, count2: 2841\n"
     ]
    },
    {
     "name": "stderr",
     "output_type": "stream",
     "text": [
      " 54%|█████▍    | 727/1352 [1:04:47<53:34,  5.14s/it]  "
     ]
    },
    {
     "name": "stdout",
     "output_type": "stream",
     "text": [
      "total: 5900, count1: 4560, count2: 2897\n"
     ]
    },
    {
     "name": "stderr",
     "output_type": "stream",
     "text": [
      " 55%|█████▍    | 739/1352 [1:05:44<48:37,  4.76s/it]"
     ]
    },
    {
     "name": "stdout",
     "output_type": "stream",
     "text": [
      "total: 6000, count1: 4642, count2: 2952\n"
     ]
    },
    {
     "name": "stderr",
     "output_type": "stream",
     "text": [
      " 56%|█████▌    | 752/1352 [1:06:51<47:21,  4.74s/it]  "
     ]
    },
    {
     "name": "stdout",
     "output_type": "stream",
     "text": [
      "total: 6100, count1: 4716, count2: 3003\n"
     ]
    },
    {
     "name": "stderr",
     "output_type": "stream",
     "text": [
      " 56%|█████▋    | 762/1352 [1:07:54<52:51,  5.38s/it]  "
     ]
    },
    {
     "name": "stdout",
     "output_type": "stream",
     "text": [
      "total: 6200, count1: 4789, count2: 3051\n"
     ]
    },
    {
     "name": "stderr",
     "output_type": "stream",
     "text": [
      " 57%|█████▋    | 775/1352 [1:09:14<1:20:01,  8.32s/it]"
     ]
    },
    {
     "name": "stdout",
     "output_type": "stream",
     "text": [
      "total: 6300, count1: 4867, count2: 3108\n"
     ]
    },
    {
     "name": "stderr",
     "output_type": "stream",
     "text": [
      " 58%|█████▊    | 786/1352 [1:10:19<58:32,  6.21s/it]  "
     ]
    },
    {
     "name": "stdout",
     "output_type": "stream",
     "text": [
      "total: 6400, count1: 4949, count2: 3161\n"
     ]
    },
    {
     "name": "stderr",
     "output_type": "stream",
     "text": [
      " 59%|█████▉    | 799/1352 [1:11:32<50:09,  5.44s/it]  "
     ]
    },
    {
     "name": "stdout",
     "output_type": "stream",
     "text": [
      "total: 6500, count1: 5029, count2: 3217\n"
     ]
    },
    {
     "name": "stderr",
     "output_type": "stream",
     "text": [
      " 60%|█████▉    | 811/1352 [1:12:46<50:00,  5.55s/it]  "
     ]
    },
    {
     "name": "stdout",
     "output_type": "stream",
     "text": [
      "total: 6600, count1: 5108, count2: 3273\n"
     ]
    },
    {
     "name": "stderr",
     "output_type": "stream",
     "text": [
      " 61%|██████    | 824/1352 [1:13:56<39:33,  4.50s/it]  "
     ]
    },
    {
     "name": "stdout",
     "output_type": "stream",
     "text": [
      "total: 6700, count1: 5186, count2: 3329\n"
     ]
    },
    {
     "name": "stderr",
     "output_type": "stream",
     "text": [
      " 62%|██████▏   | 836/1352 [1:14:57<45:51,  5.33s/it]"
     ]
    },
    {
     "name": "stdout",
     "output_type": "stream",
     "text": [
      "total: 6800, count1: 5269, count2: 3384\n"
     ]
    },
    {
     "name": "stderr",
     "output_type": "stream",
     "text": [
      " 63%|██████▎   | 850/1352 [1:16:07<43:29,  5.20s/it]"
     ]
    },
    {
     "name": "stdout",
     "output_type": "stream",
     "text": [
      "total: 6900, count1: 5335, count2: 3424\n"
     ]
    },
    {
     "name": "stderr",
     "output_type": "stream",
     "text": [
      " 64%|██████▍   | 864/1352 [1:17:15<39:09,  4.81s/it]"
     ]
    },
    {
     "name": "stdout",
     "output_type": "stream",
     "text": [
      "total: 7000, count1: 5407, count2: 3466\n"
     ]
    },
    {
     "name": "stderr",
     "output_type": "stream",
     "text": [
      " 65%|██████▍   | 876/1352 [1:18:22<46:14,  5.83s/it]"
     ]
    },
    {
     "name": "stdout",
     "output_type": "stream",
     "text": [
      "total: 7100, count1: 5487, count2: 3515\n"
     ]
    },
    {
     "name": "stderr",
     "output_type": "stream",
     "text": [
      " 66%|██████▌   | 889/1352 [1:19:33<39:18,  5.09s/it]"
     ]
    },
    {
     "name": "stdout",
     "output_type": "stream",
     "text": [
      "total: 7200, count1: 5566, count2: 3570\n"
     ]
    },
    {
     "name": "stderr",
     "output_type": "stream",
     "text": [
      " 67%|██████▋   | 900/1352 [1:20:35<46:41,  6.20s/it]"
     ]
    },
    {
     "name": "stdout",
     "output_type": "stream",
     "text": [
      "total: 7300, count1: 5642, count2: 3610\n"
     ]
    },
    {
     "name": "stderr",
     "output_type": "stream",
     "text": [
      " 68%|██████▊   | 913/1352 [1:21:44<38:52,  5.31s/it]"
     ]
    },
    {
     "name": "stdout",
     "output_type": "stream",
     "text": [
      "total: 7400, count1: 5718, count2: 3661\n"
     ]
    },
    {
     "name": "stderr",
     "output_type": "stream",
     "text": [
      " 69%|██████▊   | 927/1352 [1:22:57<36:33,  5.16s/it]"
     ]
    },
    {
     "name": "stdout",
     "output_type": "stream",
     "text": [
      "total: 7500, count1: 5794, count2: 3715\n"
     ]
    },
    {
     "name": "stderr",
     "output_type": "stream",
     "text": [
      " 69%|██████▉   | 939/1352 [1:24:02<35:10,  5.11s/it]"
     ]
    },
    {
     "name": "stdout",
     "output_type": "stream",
     "text": [
      "total: 7600, count1: 5875, count2: 3767\n"
     ]
    },
    {
     "name": "stderr",
     "output_type": "stream",
     "text": [
      " 70%|███████   | 951/1352 [1:25:07<36:32,  5.47s/it]"
     ]
    },
    {
     "name": "stdout",
     "output_type": "stream",
     "text": [
      "total: 7700, count1: 5949, count2: 3808\n"
     ]
    },
    {
     "name": "stderr",
     "output_type": "stream",
     "text": [
      " 71%|███████   | 963/1352 [1:26:15<29:19,  4.52s/it]"
     ]
    },
    {
     "name": "stdout",
     "output_type": "stream",
     "text": [
      "total: 7800, count1: 6032, count2: 3861\n"
     ]
    },
    {
     "name": "stderr",
     "output_type": "stream",
     "text": [
      " 72%|███████▏  | 974/1352 [1:27:22<43:28,  6.90s/it]"
     ]
    },
    {
     "name": "stdout",
     "output_type": "stream",
     "text": [
      "total: 7900, count1: 6111, count2: 3918\n"
     ]
    },
    {
     "name": "stderr",
     "output_type": "stream",
     "text": [
      " 73%|███████▎  | 985/1352 [1:28:20<35:39,  5.83s/it]"
     ]
    },
    {
     "name": "stdout",
     "output_type": "stream",
     "text": [
      "total: 8000, count1: 6191, count2: 3968\n"
     ]
    },
    {
     "name": "stderr",
     "output_type": "stream",
     "text": [
      " 74%|███████▎  | 996/1352 [1:29:17<33:03,  5.57s/it]"
     ]
    },
    {
     "name": "stdout",
     "output_type": "stream",
     "text": [
      "total: 8100, count1: 6277, count2: 4022\n"
     ]
    },
    {
     "name": "stderr",
     "output_type": "stream",
     "text": [
      " 75%|███████▍  | 1010/1352 [1:30:18<24:12,  4.25s/it]"
     ]
    },
    {
     "name": "stdout",
     "output_type": "stream",
     "text": [
      "total: 8200, count1: 6364, count2: 4084\n"
     ]
    },
    {
     "name": "stderr",
     "output_type": "stream",
     "text": [
      " 75%|███████▌  | 1020/1352 [1:31:23<36:05,  6.52s/it]"
     ]
    },
    {
     "name": "stdout",
     "output_type": "stream",
     "text": [
      "total: 8300, count1: 6446, count2: 4140\n"
     ]
    },
    {
     "name": "stderr",
     "output_type": "stream",
     "text": [
      " 76%|███████▌  | 1030/1352 [1:32:23<37:44,  7.03s/it]"
     ]
    },
    {
     "name": "stdout",
     "output_type": "stream",
     "text": [
      "total: 8400, count1: 6516, count2: 4180\n"
     ]
    },
    {
     "name": "stderr",
     "output_type": "stream",
     "text": [
      " 77%|███████▋  | 1043/1352 [1:33:30<25:07,  4.88s/it]"
     ]
    },
    {
     "name": "stdout",
     "output_type": "stream",
     "text": [
      "total: 8500, count1: 6587, count2: 4219\n"
     ]
    },
    {
     "name": "stderr",
     "output_type": "stream",
     "text": [
      " 78%|███████▊  | 1054/1352 [1:34:31<31:17,  6.30s/it]"
     ]
    },
    {
     "name": "stdout",
     "output_type": "stream",
     "text": [
      "total: 8600, count1: 6668, count2: 4278\n"
     ]
    },
    {
     "name": "stderr",
     "output_type": "stream",
     "text": [
      " 79%|███████▉  | 1065/1352 [1:35:29<25:16,  5.28s/it]"
     ]
    },
    {
     "name": "stdout",
     "output_type": "stream",
     "text": [
      "total: 8700, count1: 6743, count2: 4321\n"
     ]
    },
    {
     "name": "stderr",
     "output_type": "stream",
     "text": [
      " 80%|███████▉  | 1076/1352 [1:36:36<24:57,  5.43s/it]"
     ]
    },
    {
     "name": "stdout",
     "output_type": "stream",
     "text": [
      "total: 8800, count1: 6827, count2: 4374\n"
     ]
    },
    {
     "name": "stderr",
     "output_type": "stream",
     "text": [
      " 81%|████████  | 1089/1352 [1:37:38<20:50,  4.76s/it]"
     ]
    },
    {
     "name": "stdout",
     "output_type": "stream",
     "text": [
      "total: 8900, count1: 6901, count2: 4427\n"
     ]
    },
    {
     "name": "stderr",
     "output_type": "stream",
     "text": [
      " 82%|████████▏ | 1103/1352 [1:38:41<19:06,  4.61s/it]"
     ]
    },
    {
     "name": "stdout",
     "output_type": "stream",
     "text": [
      "total: 9000, count1: 6971, count2: 4470\n"
     ]
    },
    {
     "name": "stderr",
     "output_type": "stream",
     "text": [
      " 83%|████████▎ | 1116/1352 [1:39:43<16:00,  4.07s/it]"
     ]
    },
    {
     "name": "stdout",
     "output_type": "stream",
     "text": [
      "total: 9100, count1: 7045, count2: 4513\n"
     ]
    },
    {
     "name": "stderr",
     "output_type": "stream",
     "text": [
      " 84%|████████▎ | 1129/1352 [1:40:44<13:45,  3.70s/it]"
     ]
    },
    {
     "name": "stdout",
     "output_type": "stream",
     "text": [
      "total: 9200, count1: 7126, count2: 4569\n"
     ]
    },
    {
     "name": "stderr",
     "output_type": "stream",
     "text": [
      " 84%|████████▍ | 1141/1352 [1:41:46<17:01,  4.84s/it]"
     ]
    },
    {
     "name": "stdout",
     "output_type": "stream",
     "text": [
      "total: 9300, count1: 7200, count2: 4615\n"
     ]
    },
    {
     "name": "stderr",
     "output_type": "stream",
     "text": [
      " 85%|████████▌ | 1152/1352 [1:42:52<19:26,  5.83s/it]"
     ]
    },
    {
     "name": "stdout",
     "output_type": "stream",
     "text": [
      "total: 9400, count1: 7287, count2: 4671\n"
     ]
    },
    {
     "name": "stderr",
     "output_type": "stream",
     "text": [
      " 86%|████████▌ | 1163/1352 [1:44:06<18:56,  6.01s/it]"
     ]
    },
    {
     "name": "stdout",
     "output_type": "stream",
     "text": [
      "total: 9500, count1: 7357, count2: 4714\n"
     ]
    },
    {
     "name": "stderr",
     "output_type": "stream",
     "text": [
      " 87%|████████▋ | 1175/1352 [1:45:02<13:48,  4.68s/it]"
     ]
    },
    {
     "name": "stdout",
     "output_type": "stream",
     "text": [
      "total: 9600, count1: 7434, count2: 4758\n"
     ]
    },
    {
     "name": "stderr",
     "output_type": "stream",
     "text": [
      " 88%|████████▊ | 1188/1352 [1:46:12<14:42,  5.38s/it]"
     ]
    },
    {
     "name": "stdout",
     "output_type": "stream",
     "text": [
      "total: 9700, count1: 7509, count2: 4799\n"
     ]
    },
    {
     "name": "stderr",
     "output_type": "stream",
     "text": [
      " 89%|████████▊ | 1198/1352 [1:47:14<16:02,  6.25s/it]"
     ]
    },
    {
     "name": "stdout",
     "output_type": "stream",
     "text": [
      "total: 9800, count1: 7584, count2: 4845\n"
     ]
    },
    {
     "name": "stderr",
     "output_type": "stream",
     "text": [
      " 89%|████████▉ | 1210/1352 [1:48:25<13:27,  5.69s/it]"
     ]
    },
    {
     "name": "stdout",
     "output_type": "stream",
     "text": [
      "total: 9900, count1: 7654, count2: 4885\n"
     ]
    },
    {
     "name": "stderr",
     "output_type": "stream",
     "text": [
      " 90%|█████████ | 1223/1352 [1:49:31<09:33,  4.45s/it]"
     ]
    },
    {
     "name": "stdout",
     "output_type": "stream",
     "text": [
      "total: 10000, count1: 7737, count2: 4943\n"
     ]
    },
    {
     "name": "stderr",
     "output_type": "stream",
     "text": [
      " 91%|█████████▏| 1235/1352 [1:50:29<10:10,  5.22s/it]"
     ]
    },
    {
     "name": "stdout",
     "output_type": "stream",
     "text": [
      "total: 10100, count1: 7814, count2: 5000\n"
     ]
    },
    {
     "name": "stderr",
     "output_type": "stream",
     "text": [
      " 92%|█████████▏| 1248/1352 [1:51:33<08:12,  4.73s/it]"
     ]
    },
    {
     "name": "stdout",
     "output_type": "stream",
     "text": [
      "total: 10200, count1: 7891, count2: 5058\n"
     ]
    },
    {
     "name": "stderr",
     "output_type": "stream",
     "text": [
      " 93%|█████████▎| 1260/1352 [1:52:35<07:17,  4.76s/it]"
     ]
    },
    {
     "name": "stdout",
     "output_type": "stream",
     "text": [
      "total: 10300, count1: 7974, count2: 5104\n"
     ]
    },
    {
     "name": "stderr",
     "output_type": "stream",
     "text": [
      " 94%|█████████▍| 1273/1352 [1:53:42<06:40,  5.08s/it]"
     ]
    },
    {
     "name": "stdout",
     "output_type": "stream",
     "text": [
      "total: 10400, count1: 8044, count2: 5144\n"
     ]
    },
    {
     "name": "stderr",
     "output_type": "stream",
     "text": [
      " 95%|█████████▌| 1285/1352 [1:54:49<07:19,  6.55s/it]"
     ]
    },
    {
     "name": "stdout",
     "output_type": "stream",
     "text": [
      "total: 10500, count1: 8124, count2: 5198\n"
     ]
    },
    {
     "name": "stderr",
     "output_type": "stream",
     "text": [
      " 96%|█████████▌| 1294/1352 [1:55:51<06:29,  6.71s/it]"
     ]
    },
    {
     "name": "stdout",
     "output_type": "stream",
     "text": [
      "total: 10600, count1: 8203, count2: 5243\n"
     ]
    },
    {
     "name": "stderr",
     "output_type": "stream",
     "text": [
      " 97%|█████████▋| 1306/1352 [1:57:09<04:29,  5.87s/it]"
     ]
    },
    {
     "name": "stdout",
     "output_type": "stream",
     "text": [
      "total: 10700, count1: 8276, count2: 5295\n"
     ]
    },
    {
     "name": "stderr",
     "output_type": "stream",
     "text": [
      " 97%|█████████▋| 1316/1352 [1:58:06<03:29,  5.81s/it]"
     ]
    },
    {
     "name": "stdout",
     "output_type": "stream",
     "text": [
      "total: 10800, count1: 8358, count2: 5348\n"
     ]
    },
    {
     "name": "stderr",
     "output_type": "stream",
     "text": [
      " 98%|█████████▊| 1327/1352 [1:59:12<02:10,  5.23s/it]"
     ]
    },
    {
     "name": "stdout",
     "output_type": "stream",
     "text": [
      "total: 10900, count1: 8439, count2: 5398\n"
     ]
    },
    {
     "name": "stderr",
     "output_type": "stream",
     "text": [
      " 99%|█████████▉| 1339/1352 [2:00:15<01:15,  5.80s/it]"
     ]
    },
    {
     "name": "stdout",
     "output_type": "stream",
     "text": [
      "total: 11000, count1: 8521, count2: 5454\n"
     ]
    },
    {
     "name": "stderr",
     "output_type": "stream",
     "text": [
      "100%|█████████▉| 1350/1352 [2:01:20<00:10,  5.29s/it]"
     ]
    },
    {
     "name": "stdout",
     "output_type": "stream",
     "text": [
      "total: 11100, count1: 8607, count2: 5522\n"
     ]
    },
    {
     "name": "stderr",
     "output_type": "stream",
     "text": [
      "100%|██████████| 1352/1352 [2:01:32<00:00,  5.39s/it]\n"
     ]
    }
   ],
   "source": [
    "total = 0\n",
    "count1 = 0\n",
    "count2 = 0\n",
    "input_path = './dataset/train/'\n",
    "output_path = './hand_east/train/'\n",
    "for x in tqdm(subfolders):\n",
    "    file_path = input_path + x\n",
    "    for _, _, filenames in os.walk(file_path):\n",
    "        for f in filenames:\n",
    "            total += 1\n",
    "            img = file_path+'/'+f\n",
    "            image1 = cv2.imread(img)\n",
    "            image_knn = to_knn(image1)\n",
    "            ci = detect_text_region(image_knn)\n",
    "            if ci:\n",
    "                count1 += 1\n",
    "                arr = np.array(ci)\n",
    "                m_max = arr.max(axis=0)\n",
    "                m_min = arr.min(axis=0)\n",
    "                min_y = m_min[0]\n",
    "                max_y = m_max[1]\n",
    "                min_x = m_min[2]\n",
    "                max_x = m_max[3]\n",
    "                cropped = image_knn[min_y:max_y,min_x:max_x]\n",
    "                if(cropped.shape[0]>50 and cropped.shape[1]>500):\n",
    "                    count2 += 1\n",
    "                    outimg = cropped[0:,100:500]\n",
    "                    resized = cv2.resize(outimg,(256,256))\n",
    "                    newdir = output_path + x\n",
    "                    if not os.path.exists(newdir):\n",
    "                        os.makedirs(newdir)\n",
    "                    opg = newdir + \"/\" + f\n",
    "                    cv2.imwrite(opg,resized)\n",
    "                    data_east.loc[len(data_east)] = [img,x,f,opg]\n",
    "            if(total%100==0):\n",
    "                print(f\"total: {total}, count1: {count1}, count2: {count2}\")"
   ]
  },
  {
   "cell_type": "code",
   "execution_count": 36,
   "metadata": {},
   "outputs": [
    {
     "name": "stderr",
     "output_type": "stream",
     "text": [
      "100%|██████████| 1352/1352 [00:00<00:00, 32544.40it/s]"
     ]
    },
    {
     "name": "stdout",
     "output_type": "stream",
     "text": [
      "['B5.jpg', 'B4.jpg', 'B6.jpg', 'B3.jpg', 'B2.jpg', 'B0.jpg', 'B1.jpg']\n",
      "['B5.jpg', 'B4.jpg', 'B6.jpg', 'B3.jpg', 'B2.jpg', 'B0.jpg', 'B1.jpg']\n",
      "['B3.jpg', 'B2.jpg', 'B0.jpg', 'B1.jpg']\n",
      "['A0.jpg', 'A1.jpg', 'A3.jpg', 'A2.jpg', 'A4.jpg', 'B5.jpg', 'B4.jpg', 'B6.jpg', 'B3.jpg', 'B2.jpg', 'B0.jpg', 'B1.jpg']\n",
      "['A0.jpg', 'A1.jpg', 'A3.jpg', 'A2.jpg', 'B5.jpg', 'B3.jpg', 'B2.jpg', 'B0.jpg', 'B1.jpg']\n",
      "['A1.jpg', 'A3.jpg', 'A2.jpg', 'A4.jpg', 'B5.jpg', 'B3.jpg', 'B2.jpg', 'B0.jpg', 'B1.jpg']\n",
      "['A0.jpg', 'A1.jpg', 'A3.jpg', 'A4.jpg', 'B5.jpg', 'B4.jpg', 'B6.jpg', 'B2.jpg', 'B0.jpg', 'B1.jpg']\n",
      "['A0.jpg', 'A3.jpg', 'A2.jpg', 'A4.jpg', 'B5.jpg', 'B4.jpg', 'B6.jpg', 'B3.jpg', 'B2.jpg', 'B0.jpg', 'B1.jpg']\n",
      "['A0.jpg', 'A1.jpg', 'A3.jpg', 'A2.jpg', 'A4.jpg', 'B5.jpg', 'B4.jpg', 'B6.jpg', 'B2.jpg']\n",
      "['A0.jpg', 'A1.jpg', 'A3.jpg', 'A2.jpg', 'B5.jpg', 'B4.jpg', 'B6.jpg', 'B3.jpg', 'B2.jpg', 'B0.jpg']\n",
      "['A0.jpg', 'A1.jpg', 'A2.jpg', 'B4.jpg', 'B3.jpg', 'B2.jpg', 'B0.jpg', 'B1.jpg']\n",
      "['A0.jpg', 'A1.jpg', 'A3.jpg', 'A2.jpg', 'A4.jpg', 'B5.jpg', 'B4.jpg', 'B2.jpg', 'B0.jpg', 'B1.jpg']\n",
      "['A1.jpg', 'A3.jpg', 'A2.jpg', 'A4.jpg', 'B5.jpg', 'B4.jpg', 'B6.jpg', 'B3.jpg', 'B2.jpg', 'B0.jpg', 'B1.jpg']\n",
      "['B5.jpg', 'B4.jpg', 'B3.jpg', 'B2.jpg', 'B0.jpg', 'B1.jpg']\n",
      "['A1.jpg', 'A3.jpg', 'A2.jpg', 'B5.jpg', 'B4.jpg', 'B6.jpg', 'B3.jpg', 'B2.jpg', 'B1.jpg']\n",
      "['A0.jpg', 'A1.jpg', 'A3.jpg', 'A2.jpg', 'A4.jpg', 'B5.jpg', 'B6.jpg', 'B2.jpg', 'B0.jpg', 'B1.jpg']\n",
      "['B5.jpg', 'B4.jpg', 'B3.jpg', 'B2.jpg', 'B0.jpg', 'B1.jpg']\n",
      "['A0.jpg', 'A1.jpg', 'B5.jpg', 'B4.jpg', 'B3.jpg', 'B2.jpg', 'B0.jpg', 'B1.jpg']\n",
      "['B3.jpg', 'B2.jpg', 'B0.jpg', 'B1.jpg']\n",
      "['A0.jpg', 'A1.jpg', 'A3.jpg', 'A2.jpg', 'B2.jpg', 'B0.jpg']\n",
      "['A0.jpg', 'A1.jpg', 'A3.jpg', 'A2.jpg', 'A4.jpg', 'B4.jpg', 'B6.jpg', 'B3.jpg', 'B2.jpg']\n",
      "['B5.jpg', 'B4.jpg', 'B6.jpg', 'B3.jpg', 'B2.jpg', 'B0.jpg', 'B1.jpg']\n",
      "['A0.jpg', 'A1.jpg', 'A3.jpg', 'A2.jpg', 'A4.jpg', 'B5.jpg', 'B4.jpg', 'B3.jpg', 'B2.jpg', 'B0.jpg', 'B1.jpg']\n",
      "['B3.jpg', 'B2.jpg', 'B0.jpg', 'B1.jpg']\n",
      "['A0.jpg', 'B4.jpg', 'B3.jpg', 'B2.jpg', 'B0.jpg', 'B1.jpg']\n",
      "['A0.jpg', 'A1.jpg', 'A3.jpg', 'A2.jpg', 'B5.jpg', 'B4.jpg', 'B6.jpg', 'B3.jpg', 'B2.jpg', 'B0.jpg', 'B1.jpg']\n",
      "['A0.jpg', 'A1.jpg', 'A3.jpg', 'A2.jpg', 'B5.jpg', 'B4.jpg', 'B6.jpg', 'B2.jpg', 'B0.jpg', 'B1.jpg']\n",
      "['A1.jpg', 'A3.jpg', 'A2.jpg', 'A4.jpg', 'B5.jpg', 'B4.jpg', 'B3.jpg', 'B2.jpg', 'B0.jpg', 'B1.jpg']\n",
      "['B5.jpg', 'B4.jpg', 'B6.jpg', 'B3.jpg', 'B2.jpg', 'B0.jpg', 'B1.jpg']\n",
      "['B5.jpg', 'B4.jpg', 'B3.jpg', 'B2.jpg', 'B0.jpg', 'B1.jpg']\n",
      "['A0.jpg', 'A1.jpg', 'A3.jpg', 'A2.jpg', 'A4.jpg', 'B5.jpg', 'B4.jpg', 'B6.jpg', 'B3.jpg', 'B2.jpg', 'B0.jpg', 'B1.jpg']\n",
      "['A0.jpg', 'A3.jpg', 'A2.jpg', 'B4.jpg', 'B3.jpg', 'B2.jpg', 'B0.jpg', 'B1.jpg']\n",
      "['A0.jpg', 'A1.jpg', 'A3.jpg', 'A2.jpg', 'B5.jpg', 'B4.jpg', 'B3.jpg', 'B2.jpg', 'B0.jpg', 'B1.jpg']\n",
      "['A0.jpg', 'A1.jpg', 'A3.jpg', 'A2.jpg', 'B5.jpg', 'B4.jpg', 'B6.jpg', 'B3.jpg', 'B2.jpg', 'B0.jpg', 'B1.jpg']\n",
      "['B5.jpg', 'B4.jpg', 'B6.jpg', 'B2.jpg']\n",
      "['A0.jpg', 'A1.jpg', 'A3.jpg', 'A2.jpg', 'A4.jpg', 'B5.jpg', 'B4.jpg', 'B6.jpg', 'B3.jpg', 'B2.jpg', 'B0.jpg']\n",
      "['B4.jpg', 'B3.jpg', 'B2.jpg', 'B0.jpg', 'B1.jpg']\n",
      "['A0.jpg', 'A1.jpg', 'A3.jpg', 'A4.jpg', 'B5.jpg', 'B4.jpg', 'B6.jpg', 'B3.jpg', 'B2.jpg', 'B0.jpg', 'B1.jpg']\n",
      "['A0.jpg', 'A1.jpg', 'A3.jpg', 'A2.jpg', 'A4.jpg', 'B5.jpg', 'B4.jpg', 'B6.jpg', 'B2.jpg', 'B0.jpg', 'B1.jpg']\n",
      "['A0.jpg', 'A1.jpg', 'A3.jpg', 'B5.jpg', 'B2.jpg', 'B0.jpg']\n",
      "['A0.jpg', 'A1.jpg', 'A3.jpg', 'A2.jpg', 'A4.jpg', 'B5.jpg', 'B4.jpg', 'B6.jpg', 'B2.jpg', 'B0.jpg', 'B1.jpg']\n",
      "['A0.jpg', 'A1.jpg', 'A2.jpg', 'B5.jpg', 'B4.jpg', 'B6.jpg', 'B3.jpg', 'B2.jpg', 'B0.jpg', 'B1.jpg']\n",
      "['A0.jpg', 'A1.jpg', 'A3.jpg', 'A2.jpg', 'A4.jpg', 'B4.jpg', 'B6.jpg', 'B3.jpg', 'B2.jpg', 'B0.jpg', 'B1.jpg']\n",
      "['B4.jpg', 'B3.jpg', 'B2.jpg', 'B1.jpg']\n",
      "['B3.jpg', 'B2.jpg', 'B0.jpg', 'B1.jpg']\n",
      "['B3.jpg', 'B2.jpg', 'B0.jpg', 'B1.jpg']\n",
      "['A0.jpg', 'A1.jpg', 'A2.jpg', 'B3.jpg', 'B0.jpg', 'B1.jpg']\n",
      "['A0.jpg', 'A1.jpg', 'A3.jpg', 'A2.jpg', 'A4.jpg', 'B4.jpg', 'B6.jpg', 'B3.jpg', 'B2.jpg', 'B0.jpg', 'B1.jpg']\n",
      "['A0.jpg', 'A1.jpg', 'A3.jpg', 'A2.jpg', 'A4.jpg', 'B5.jpg', 'B4.jpg', 'B6.jpg', 'B3.jpg', 'B2.jpg']\n",
      "['A0.jpg', 'A1.jpg', 'A3.jpg', 'A2.jpg', 'B4.jpg', 'B2.jpg']\n",
      "['B5.jpg', 'B3.jpg', 'B2.jpg', 'B0.jpg']\n",
      "['A0.jpg', 'A1.jpg', 'A3.jpg', 'A2.jpg', 'A4.jpg', 'B4.jpg', 'B6.jpg', 'B2.jpg', 'B0.jpg', 'B1.jpg']\n",
      "['A1.jpg', 'A3.jpg', 'A2.jpg', 'B2.jpg', 'B0.jpg', 'B1.jpg']\n",
      "['A0.jpg', 'A1.jpg', 'A3.jpg', 'A2.jpg', 'A4.jpg', 'B5.jpg', 'B6.jpg', 'B3.jpg', 'B2.jpg', 'B0.jpg', 'B1.jpg']\n",
      "['A0.jpg', 'A1.jpg', 'A3.jpg', 'A2.jpg', 'A4.jpg', 'B5.jpg', 'B4.jpg', 'B6.jpg', 'B3.jpg', 'B2.jpg']\n",
      "['A0.jpg', 'A1.jpg', 'A2.jpg', 'B5.jpg', 'B4.jpg', 'B3.jpg', 'B2.jpg', 'B0.jpg', 'B1.jpg']\n",
      "['A0.jpg', 'A1.jpg', 'B5.jpg', 'B4.jpg', 'B6.jpg', 'B3.jpg', 'B2.jpg', 'B0.jpg', 'B1.jpg']\n",
      "['A0.jpg', 'A1.jpg', 'A3.jpg', 'A2.jpg', 'A4.jpg', 'B5.jpg', 'B4.jpg', 'B6.jpg', 'B3.jpg', 'B2.jpg', 'B0.jpg', 'B1.jpg']\n",
      "['B5.jpg', 'B4.jpg', 'B3.jpg', 'B2.jpg', 'B0.jpg', 'B1.jpg']\n",
      "['A0.jpg', 'A1.jpg', 'A3.jpg', 'A2.jpg', 'A4.jpg', 'B5.jpg', 'B4.jpg', 'B6.jpg', 'B3.jpg', 'B2.jpg', 'B0.jpg', 'B1.jpg']\n",
      "['A1.jpg', 'A2.jpg', 'A4.jpg', 'B5.jpg', 'B6.jpg', 'B3.jpg', 'B2.jpg', 'B0.jpg', 'B1.jpg']\n",
      "['A0.jpg', 'A1.jpg', 'A3.jpg', 'A2.jpg', 'A4.jpg', 'B5.jpg', 'B4.jpg', 'B6.jpg', 'B3.jpg', 'B2.jpg', 'B0.jpg']\n",
      "['A0.jpg', 'A1.jpg', 'A3.jpg', 'A2.jpg', 'B5.jpg', 'B4.jpg', 'B6.jpg', 'B3.jpg', 'B2.jpg', 'B0.jpg', 'B1.jpg']\n",
      "['B5.jpg', 'B4.jpg', 'B6.jpg', 'B3.jpg', 'B2.jpg', 'B0.jpg', 'B1.jpg']\n",
      "['B3.jpg', 'B2.jpg', 'B0.jpg', 'B1.jpg']\n",
      "['A0.jpg', 'A1.jpg', 'A4.jpg', 'B5.jpg', 'B2.jpg', 'B0.jpg']\n",
      "['A0.jpg', 'A2.jpg', 'A4.jpg', 'B4.jpg', 'B6.jpg', 'B3.jpg', 'B2.jpg', 'B0.jpg']\n",
      "['A1.jpg', 'A2.jpg', 'B4.jpg', 'B3.jpg', 'B2.jpg', 'B1.jpg']\n",
      "['A0.jpg', 'A1.jpg', 'A3.jpg', 'A2.jpg', 'A4.jpg', 'B5.jpg', 'B2.jpg', 'B0.jpg', 'B1.jpg']\n",
      "['A0.jpg', 'A1.jpg', 'A3.jpg', 'A2.jpg', 'A4.jpg', 'B5.jpg', 'B4.jpg', 'B6.jpg', 'B3.jpg', 'B2.jpg', 'B0.jpg', 'B1.jpg']\n",
      "['A0.jpg', 'A1.jpg', 'A2.jpg', 'B4.jpg', 'B3.jpg', 'B2.jpg', 'B0.jpg', 'B1.jpg']\n",
      "['A0.jpg', 'A1.jpg', 'B3.jpg', 'B1.jpg']\n",
      "['A0.jpg', 'A1.jpg', 'A3.jpg', 'A2.jpg', 'A4.jpg', 'B4.jpg', 'B6.jpg', 'B2.jpg', 'B0.jpg', 'B1.jpg']\n",
      "['A0.jpg', 'A1.jpg', 'A3.jpg', 'A2.jpg', 'B4.jpg', 'B3.jpg', 'B2.jpg', 'B0.jpg', 'B1.jpg']\n",
      "['A1.jpg', 'A3.jpg', 'A2.jpg', 'A4.jpg', 'B5.jpg', 'B4.jpg', 'B3.jpg', 'B2.jpg', 'B0.jpg', 'B1.jpg']\n",
      "['B3.jpg', 'B2.jpg', 'B0.jpg', 'B1.jpg']\n",
      "['B4.jpg', 'B6.jpg', 'B3.jpg', 'B2.jpg', 'B1.jpg']\n",
      "['A0.jpg', 'A1.jpg', 'A3.jpg', 'A2.jpg', 'A4.jpg', 'B5.jpg', 'B4.jpg', 'B6.jpg', 'B3.jpg', 'B2.jpg', 'B0.jpg', 'B1.jpg']\n",
      "['A0.jpg', 'A1.jpg', 'A3.jpg', 'A2.jpg', 'A4.jpg', 'B5.jpg', 'B4.jpg', 'B6.jpg', 'B3.jpg', 'B2.jpg', 'B1.jpg']\n",
      "['A0.jpg', 'A1.jpg', 'A3.jpg', 'A2.jpg', 'B2.jpg', 'B0.jpg', 'B1.jpg']\n",
      "['B5.jpg', 'B4.jpg', 'B6.jpg', 'B3.jpg', 'B2.jpg', 'B0.jpg']\n",
      "['B4.jpg', 'B6.jpg', 'B3.jpg', 'B2.jpg', 'B0.jpg', 'B1.jpg']\n",
      "['A0.jpg', 'A1.jpg', 'A3.jpg', 'A2.jpg', 'B3.jpg', 'B2.jpg', 'B0.jpg', 'B1.jpg']\n",
      "['A0.jpg', 'A1.jpg', 'A3.jpg', 'A2.jpg', 'A4.jpg', 'B5.jpg', 'B4.jpg', 'B6.jpg', 'B2.jpg', 'B0.jpg']\n",
      "['A0.jpg', 'A1.jpg', 'A3.jpg', 'A2.jpg', 'A4.jpg', 'B5.jpg', 'B4.jpg', 'B6.jpg', 'B3.jpg', 'B2.jpg', 'B0.jpg', 'B1.jpg']\n",
      "['B5.jpg', 'B4.jpg', 'B3.jpg', 'B2.jpg']\n",
      "['B3.jpg', 'B2.jpg', 'B0.jpg', 'B1.jpg']\n",
      "['A0.jpg', 'A1.jpg', 'A3.jpg', 'A2.jpg', 'A4.jpg', 'B5.jpg', 'B4.jpg', 'B3.jpg', 'B2.jpg', 'B0.jpg', 'B1.jpg']\n",
      "['A0.jpg', 'A1.jpg', 'A3.jpg', 'A2.jpg', 'A4.jpg', 'B4.jpg', 'B6.jpg', 'B3.jpg', 'B2.jpg']\n",
      "['A0.jpg', 'A1.jpg', 'A3.jpg', 'A2.jpg', 'A4.jpg', 'B5.jpg', 'B4.jpg', 'B6.jpg', 'B3.jpg', 'B2.jpg', 'B1.jpg']\n",
      "['A0.jpg', 'A1.jpg', 'A3.jpg', 'A2.jpg', 'A4.jpg', 'B5.jpg', 'B4.jpg', 'B6.jpg', 'B3.jpg', 'B2.jpg', 'B0.jpg', 'B1.jpg']\n",
      "['A1.jpg', 'A3.jpg', 'A2.jpg', 'B5.jpg', 'B4.jpg', 'B3.jpg', 'B2.jpg', 'B0.jpg', 'B1.jpg']\n",
      "['A0.jpg', 'A1.jpg', 'A3.jpg', 'A2.jpg', 'A4.jpg', 'B5.jpg', 'B4.jpg', 'B3.jpg', 'B2.jpg', 'B0.jpg', 'B1.jpg']\n",
      "['A0.jpg', 'A1.jpg', 'A3.jpg', 'A2.jpg', 'B5.jpg', 'B3.jpg', 'B2.jpg', 'B0.jpg', 'B1.jpg']\n",
      "['A0.jpg', 'A1.jpg', 'A3.jpg', 'A2.jpg', 'A4.jpg', 'B5.jpg', 'B4.jpg', 'B3.jpg', 'B2.jpg', 'B0.jpg', 'B1.jpg']\n",
      "['A0.jpg', 'A1.jpg', 'A3.jpg', 'A2.jpg', 'A4.jpg', 'B3.jpg', 'B2.jpg', 'B0.jpg']\n",
      "['A0.jpg', 'A1.jpg', 'A3.jpg', 'A2.jpg', 'B5.jpg', 'B4.jpg', 'B2.jpg', 'B0.jpg', 'B1.jpg']\n",
      "['A0.jpg', 'A1.jpg', 'A3.jpg', 'A2.jpg', 'A4.jpg']\n",
      "['B3.jpg', 'B2.jpg', 'B0.jpg', 'B1.jpg']\n",
      "['A0.jpg', 'A1.jpg', 'A3.jpg', 'A2.jpg', 'A4.jpg', 'B2.jpg', 'B0.jpg', 'B1.jpg']\n",
      "['A0.jpg', 'A1.jpg', 'A3.jpg', 'A2.jpg', 'A4.jpg', 'B5.jpg', 'B4.jpg', 'B6.jpg', 'B2.jpg', 'B0.jpg', 'B1.jpg']\n",
      "['A0.jpg', 'A3.jpg', 'A2.jpg', 'A4.jpg', 'B5.jpg', 'B6.jpg', 'B2.jpg']\n",
      "['A0.jpg', 'A1.jpg', 'A3.jpg', 'A2.jpg']\n",
      "['A0.jpg', 'A1.jpg', 'A3.jpg', 'A2.jpg', 'A4.jpg', 'B5.jpg', 'B3.jpg', 'B2.jpg', 'B0.jpg']\n",
      "['A0.jpg', 'A1.jpg', 'A3.jpg', 'A2.jpg', 'A4.jpg', 'B5.jpg', 'B4.jpg', 'B6.jpg', 'B3.jpg', 'B2.jpg', 'B0.jpg', 'B1.jpg']\n",
      "['B4.jpg', 'B6.jpg', 'B3.jpg', 'B2.jpg', 'B0.jpg']\n",
      "['A0.jpg', 'A1.jpg', 'A2.jpg', 'B3.jpg', 'B2.jpg', 'B1.jpg']\n",
      "['A0.jpg', 'A1.jpg', 'A3.jpg', 'A2.jpg', 'A4.jpg', 'B5.jpg', 'B4.jpg', 'B6.jpg', 'B3.jpg', 'B2.jpg', 'B0.jpg', 'B1.jpg']\n",
      "['B3.jpg', 'B2.jpg', 'B0.jpg', 'B1.jpg']\n",
      "['B5.jpg', 'B6.jpg', 'B2.jpg', 'B1.jpg']\n",
      "['A0.jpg', 'A1.jpg', 'A3.jpg', 'A2.jpg', 'A4.jpg', 'B4.jpg', 'B6.jpg', 'B2.jpg', 'B0.jpg', 'B1.jpg']\n",
      "['A0.jpg', 'A1.jpg', 'A3.jpg', 'A2.jpg', 'B4.jpg', 'B6.jpg', 'B3.jpg', 'B2.jpg', 'B0.jpg']\n",
      "['B3.jpg', 'B2.jpg', 'B0.jpg', 'B1.jpg']\n",
      "['B3.jpg', 'B2.jpg', 'B0.jpg', 'B1.jpg']\n",
      "['B4.jpg', 'B6.jpg', 'B3.jpg', 'B2.jpg', 'B0.jpg', 'B1.jpg']\n",
      "['A0.jpg', 'A1.jpg', 'A3.jpg', 'A4.jpg', 'B5.jpg', 'B4.jpg', 'B6.jpg', 'B3.jpg', 'B2.jpg', 'B0.jpg', 'B1.jpg']\n",
      "['A3.jpg', 'A2.jpg', 'A4.jpg', 'B4.jpg', 'B6.jpg', 'B2.jpg']\n",
      "['A0.jpg', 'A1.jpg', 'B5.jpg', 'B4.jpg', 'B6.jpg', 'B3.jpg', 'B2.jpg', 'B0.jpg', 'B1.jpg']\n",
      "['A0.jpg', 'A1.jpg', 'A3.jpg', 'A2.jpg', 'B5.jpg', 'B4.jpg', 'B6.jpg', 'B3.jpg', 'B2.jpg', 'B0.jpg']\n",
      "['A0.jpg', 'A1.jpg', 'A3.jpg', 'A2.jpg', 'A4.jpg', 'B4.jpg', 'B3.jpg', 'B0.jpg']\n",
      "['A0.jpg', 'A1.jpg', 'A3.jpg', 'A2.jpg', 'A4.jpg', 'B5.jpg', 'B4.jpg', 'B6.jpg', 'B3.jpg', 'B2.jpg', 'B0.jpg', 'B1.jpg']\n",
      "['A0.jpg', 'A1.jpg', 'A3.jpg', 'A2.jpg', 'B5.jpg', 'B4.jpg', 'B0.jpg', 'B1.jpg']\n",
      "['b3.jpg', 'b2.jpg', 'b0.jpg', 'b1.jpg']\n",
      "['A0.jpg', 'A3.jpg', 'A2.jpg', 'A4.jpg', 'B5.jpg', 'B6.jpg', 'B3.jpg', 'B2.jpg']\n",
      "['B3.jpg', 'B2.jpg', 'B0.jpg', 'B1.jpg']\n",
      "['A0.jpg', 'A1.jpg', 'A2.jpg', 'B5.jpg', 'B4.jpg', 'B3.jpg', 'B2.jpg', 'B0.jpg', 'B1.jpg']\n",
      "['A0.jpg', 'A1.jpg', 'A3.jpg', 'A2.jpg', 'B5.jpg', 'B4.jpg', 'B6.jpg', 'B3.jpg', 'B2.jpg', 'B0.jpg', 'B1.jpg']\n",
      "['A1.jpg', 'A3.jpg', 'A2.jpg', 'A4.jpg', 'B4.jpg', 'B6.jpg', 'B3.jpg', 'B2.jpg', 'B0.jpg', 'B1.jpg']\n",
      "['A0.jpg', 'A1.jpg', 'A3.jpg', 'A2.jpg', 'A4.jpg', 'B5.jpg', 'B4.jpg', 'B6.jpg', 'B3.jpg', 'B2.jpg']\n",
      "['A0.jpg', 'A1.jpg', 'A3.jpg', 'A2.jpg', 'B5.jpg', 'B6.jpg', 'B2.jpg', 'B0.jpg', 'B1.jpg']\n",
      "['B3.jpg', 'B2.jpg', 'B0.jpg', 'B1.jpg']\n",
      "['A0.jpg', 'A1.jpg', 'A3.jpg', 'A2.jpg', 'A4.jpg', 'B5.jpg', 'B4.jpg', 'B6.jpg', 'B3.jpg', 'B2.jpg', 'B0.jpg', 'B1.jpg']\n",
      "['A0.jpg', 'A1.jpg', 'A2.jpg', 'B5.jpg', 'B4.jpg', 'B3.jpg', 'B2.jpg', 'B0.jpg', 'B1.jpg']\n",
      "['A1.jpg', 'A3.jpg', 'B5.jpg', 'B2.jpg', 'B0.jpg', 'B1.jpg']\n",
      "['A0.jpg', 'A1.jpg', 'A3.jpg', 'A2.jpg', 'A4.jpg', 'B5.jpg', 'B4.jpg', 'B3.jpg', 'B2.jpg', 'B0.jpg', 'B1.jpg']\n",
      "['B3.jpg', 'B2.jpg', 'B0.jpg', 'B1.jpg']\n",
      "['A0.jpg', 'A3.jpg', 'A2.jpg', 'A4.jpg', 'B4.jpg', 'B6.jpg', 'B3.jpg', 'B2.jpg', 'B0.jpg', 'B1.jpg']\n",
      "['A0.jpg', 'A1.jpg', 'A3.jpg', 'A2.jpg', 'A4.jpg', 'B5.jpg', 'B4.jpg', 'B0.jpg', 'B1.jpg']\n",
      "['B3.jpg', 'B2.jpg', 'B0.jpg', 'B1.jpg']\n",
      "['A0.jpg', 'A1.jpg', 'A2.jpg', 'B5.jpg', 'B4.jpg', 'B3.jpg', 'B2.jpg', 'B0.jpg', 'B1.jpg']\n",
      "['B5.jpg', 'B4.jpg', 'B6.jpg', 'B3.jpg', 'B2.jpg', 'B1.jpg']\n",
      "['A0.jpg', 'A1.jpg', 'A3.jpg', 'A2.jpg', 'A4.jpg']\n",
      "['A0.jpg', 'A1.jpg', 'A3.jpg', 'A2.jpg', 'B6.jpg', 'B2.jpg', 'B0.jpg', 'B1.jpg']\n",
      "['A0.jpg', 'A1.jpg', 'A3.jpg', 'A2.jpg', 'A4.jpg', 'B5.jpg', 'B4.jpg', 'B3.jpg', 'B2.jpg', 'B0.jpg', 'B1.jpg']\n",
      "['A0.jpg', 'A1.jpg', 'A3.jpg', 'A2.jpg', 'A4.jpg', 'B2.jpg']\n",
      "['A0.jpg', 'A1.jpg', 'A3.jpg', 'A2.jpg']\n",
      "['B3.jpg', 'B2.jpg', 'B0.jpg', 'B1.jpg']\n",
      "['A0.jpg', 'A1.jpg', 'A3.jpg', 'A2.jpg', 'A4.jpg', 'B5.jpg', 'B3.jpg', 'B2.jpg', 'B0.jpg', 'B1.jpg']\n",
      "['A0.jpg', 'B3.jpg', 'B2.jpg', 'B1.jpg']\n",
      "['A0.jpg', 'A1.jpg', 'A3.jpg', 'A2.jpg', 'A4.jpg', 'B5.jpg', 'B4.jpg', 'B3.jpg', 'B2.jpg', 'B0.jpg']\n",
      "['A0.jpg', 'A3.jpg', 'A2.jpg', 'B5.jpg', 'B4.jpg', 'B6.jpg', 'B3.jpg', 'B2.jpg', 'B0.jpg']\n",
      "['A0.jpg', 'A1.jpg', 'A3.jpg', 'A2.jpg', 'B5.jpg', 'B4.jpg', 'B3.jpg', 'B2.jpg', 'B0.jpg', 'B1.jpg']\n",
      "['A0.jpg', 'A1.jpg', 'A3.jpg', 'A2.jpg', 'B5.jpg', 'B4.jpg', 'B6.jpg', 'B3.jpg', 'B2.jpg', 'B1.jpg']\n",
      "['A0.jpg', 'A1.jpg', 'B4.jpg', 'B2.jpg']\n",
      "['A0.jpg', 'A1.jpg', 'A3.jpg', 'A2.jpg', 'A4.jpg', 'B5.jpg', 'B4.jpg', 'B6.jpg', 'B3.jpg', 'B2.jpg', 'B0.jpg', 'B1.jpg']\n",
      "['A0.jpg', 'A1.jpg', 'A2.jpg', 'B5.jpg', 'B4.jpg', 'B6.jpg', 'B3.jpg', 'B2.jpg', 'B0.jpg', 'B1.jpg']\n",
      "['A0.jpg', 'A1.jpg', 'A3.jpg', 'A2.jpg', 'A4.jpg', 'B5.jpg', 'B4.jpg', 'B6.jpg', 'B3.jpg', 'B2.jpg', 'B0.jpg', 'B1.jpg']\n",
      "['A0.jpg', 'A1.jpg', 'A3.jpg', 'A2.jpg', 'A4.jpg', 'B5.jpg', 'B4.jpg', 'B6.jpg', 'B2.jpg', 'B0.jpg', 'B1.jpg']\n",
      "['A0.jpg', 'A1.jpg', 'A3.jpg', 'A2.jpg', 'A4.jpg', 'B5.jpg', 'B4.jpg', 'B6.jpg', 'B3.jpg', 'B2.jpg', 'B0.jpg', 'B1.jpg']\n",
      "['A0.jpg', 'A1.jpg', 'A3.jpg', 'A2.jpg', 'A4.jpg']\n",
      "['B3.jpg', 'B2.jpg', 'B0.jpg', 'B1.jpg']\n",
      "['A0.jpg', 'A1.jpg', 'A2.jpg', 'B5.jpg', 'B4.jpg', 'B3.jpg', 'B2.jpg', 'B0.jpg', 'B1.jpg']\n",
      "['A0.jpg', 'A1.jpg', 'A3.jpg', 'A2.jpg', 'A4.jpg', 'B5.jpg', 'B4.jpg', 'B3.jpg', 'B2.jpg', 'B0.jpg', 'B1.jpg']\n",
      "['A0.jpg', 'A3.jpg', 'A2.jpg', 'A4.jpg']\n",
      "['A0.jpg', 'A1.jpg', 'A2.jpg', 'B6.jpg', 'B3.jpg', 'B2.jpg']\n",
      "['B3.jpg', 'B2.jpg', 'B0.jpg', 'B1.jpg']\n",
      "['A0.jpg', 'A1.jpg', 'A3.jpg', 'A2.jpg', 'A4.jpg', 'B5.jpg', 'B4.jpg', 'B3.jpg', 'B2.jpg', 'B0.jpg', 'B1.jpg']\n",
      "['A0.jpg', 'A1.jpg', 'A4.jpg', 'B5.jpg', 'B4.jpg', 'B3.jpg', 'B2.jpg', 'B0.jpg', 'B1.jpg']\n",
      "['B3.jpg', 'B2.jpg', 'B0.jpg', 'B1.jpg']\n",
      "['A0.jpg', 'A1.jpg', 'A3.jpg', 'A2.jpg', 'A4.jpg', 'B5.jpg', 'B4.jpg', 'B6.jpg', 'B3.jpg', 'B2.jpg', 'B0.jpg', 'B1.jpg']\n",
      "['A0.jpg', 'A4.jpg', 'B3.jpg', 'B2.jpg', 'B0.jpg']\n",
      "['A0.jpg', 'A1.jpg', 'B4.jpg', 'B3.jpg', 'B2.jpg', 'B0.jpg', 'B1.jpg']\n",
      "['A1.jpg', 'A3.jpg', 'A2.jpg', 'A4.jpg', 'B5.jpg', 'B4.jpg', 'B6.jpg', 'B3.jpg', 'B2.jpg', 'B1.jpg']\n",
      "['A0.jpg', 'A1.jpg', 'A2.jpg', 'B5.jpg', 'B6.jpg', 'B3.jpg', 'B2.jpg']\n",
      "['A0.jpg', 'A1.jpg', 'A3.jpg', 'A2.jpg', 'A4.jpg', 'B5.jpg', 'B4.jpg', 'B6.jpg', 'B3.jpg', 'B2.jpg', 'B0.jpg', 'B1.jpg']\n",
      "['A0.jpg', 'A1.jpg', 'A3.jpg', 'A2.jpg', 'A4.jpg', 'B5.jpg', 'B4.jpg', 'B6.jpg', 'B3.jpg', 'B2.jpg', 'B0.jpg', 'B1.jpg']\n",
      "['B4.jpg', 'B6.jpg', 'B2.jpg', 'B0.jpg', 'B1.jpg']\n",
      "['A0.jpg', 'A1.jpg', 'A2.jpg', 'B4.jpg', 'B6.jpg', 'B3.jpg', 'B2.jpg', 'B1.jpg']\n",
      "['B3.jpg', 'B2.jpg', 'B0.jpg', 'B1.jpg']\n",
      "['B5.jpg', 'B4.jpg', 'B6.jpg', 'B3.jpg', 'B2.jpg', 'B1.jpg']\n",
      "['B3.jpg', 'B2.jpg', 'B0.jpg', 'B1.jpg']\n",
      "['A0.jpg', 'A1.jpg', 'A3.jpg', 'A2.jpg', 'B3.jpg', 'B2.jpg', 'B0.jpg', 'B1.jpg']\n",
      "['A0.jpg', 'A1.jpg', 'A3.jpg', 'A2.jpg', 'B5.jpg', 'B4.jpg', 'B6.jpg', 'B3.jpg', 'B2.jpg', 'B0.jpg', 'B1.jpg']\n",
      "['B5.jpg', 'B4.jpg', 'B3.jpg', 'B2.jpg', 'B0.jpg', 'B1.jpg']\n",
      "['A0.jpg', 'A1.jpg', 'A3.jpg', 'A2.jpg', 'A4.jpg', 'B5.jpg', 'B4.jpg', 'B6.jpg', 'B3.jpg', 'B2.jpg', 'B0.jpg', 'B1.jpg']\n",
      "['A0.jpg', 'A1.jpg', 'A3.jpg', 'A2.jpg', 'B5.jpg', 'B4.jpg', 'B3.jpg', 'B2.jpg', 'B1.jpg']\n",
      "['A1.jpg', 'A3.jpg', 'A2.jpg', 'A4.jpg', 'B4.jpg', 'B6.jpg', 'B3.jpg', 'B2.jpg', 'B0.jpg', 'B1.jpg']\n",
      "['A0.jpg', 'A2.jpg', 'A4.jpg', 'B5.jpg', 'B3.jpg', 'B2.jpg', 'B0.jpg']\n",
      "['B5.jpg', 'B4.jpg', 'B6.jpg', 'B3.jpg', 'B2.jpg', 'B0.jpg', 'B1.jpg']\n",
      "['A0.jpg', 'A1.jpg', 'A3.jpg', 'A2.jpg', 'B5.jpg', 'B4.jpg', 'B6.jpg', 'B3.jpg', 'B2.jpg', 'B1.jpg']\n",
      "['A0.jpg', 'A1.jpg', 'A2.jpg', 'B3.jpg', 'B2.jpg', 'B0.jpg', 'B1.jpg']\n",
      "['A0.jpg', 'A1.jpg', 'A3.jpg', 'A2.jpg', 'A4.jpg', 'B5.jpg', 'B4.jpg', 'B6.jpg', 'B3.jpg', 'B2.jpg', 'B0.jpg', 'B1.jpg']\n",
      "['B3.jpg', 'B2.jpg', 'B0.jpg', 'B1.jpg']\n",
      "['B3.jpg', 'B2.jpg', 'B0.jpg', 'B1.jpg']\n",
      "['B5.jpg', 'B4.jpg', 'B6.jpg', 'B3.jpg', 'B2.jpg', 'B0.jpg', 'B1.jpg']\n",
      "['A0.jpg', 'A1.jpg', 'A3.jpg', 'A2.jpg', 'A4.jpg', 'B0.jpg', 'B1.jpg']\n",
      "['A0.jpg', 'A1.jpg', 'A3.jpg', 'A2.jpg', 'A4.jpg', 'B5.jpg', 'B4.jpg', 'B3.jpg', 'B2.jpg', 'B0.jpg', 'B1.jpg']\n",
      "['A0.jpg', 'A1.jpg', 'A3.jpg', 'A2.jpg', 'B5.jpg', 'B4.jpg', 'B6.jpg', 'B3.jpg', 'B2.jpg']\n",
      "['A0.jpg', 'A1.jpg', 'A3.jpg', 'A2.jpg', 'B4.jpg', 'B6.jpg', 'B3.jpg', 'B2.jpg', 'B0.jpg']\n",
      "['A0.jpg', 'A1.jpg', 'A3.jpg', 'A2.jpg', 'A4.jpg']\n",
      "['A0.jpg', 'A1.jpg', 'A3.jpg', 'A2.jpg', 'A4.jpg', 'B5.jpg', 'B4.jpg', 'B6.jpg', 'B3.jpg', 'B2.jpg', 'B0.jpg', 'B1.jpg']\n",
      "['B4.jpg', 'B3.jpg', 'B2.jpg', 'B0.jpg']\n",
      "['A0.jpg', 'A1.jpg', 'A3.jpg', 'A2.jpg', 'A4.jpg', 'B5.jpg', 'B4.jpg', 'B6.jpg', 'B3.jpg', 'B2.jpg', 'B0.jpg', 'B1.jpg']\n",
      "['A0.jpg', 'A1.jpg', 'A3.jpg', 'A2.jpg', 'A4.jpg', 'B5.jpg', 'B4.jpg', 'B6.jpg', 'B3.jpg', 'B2.jpg']\n",
      "['A0.jpg', 'A1.jpg', 'A3.jpg', 'A2.jpg', 'A4.jpg', 'B4.jpg', 'B6.jpg', 'B3.jpg', 'B2.jpg', 'B0.jpg', 'B1.jpg']\n",
      "['A0.jpg', 'A1.jpg', 'A3.jpg', 'A2.jpg', 'A4.jpg', 'B5.jpg', 'B4.jpg', 'B3.jpg', 'B2.jpg']\n",
      "['B5.jpg', 'B4.jpg', 'B6.jpg', 'B3.jpg', 'B2.jpg', 'B0.jpg', 'B1.jpg']\n",
      "['A0.jpg', 'A1.jpg', 'A3.jpg', 'A2.jpg', 'A4.jpg', 'B5.jpg', 'B4.jpg', 'B6.jpg', 'B3.jpg', 'B2.jpg', 'B0.jpg', 'B1.jpg']\n",
      "['B4.jpg', 'B6.jpg', 'B3.jpg', 'B2.jpg', 'B0.jpg']\n",
      "['B3.jpg', 'B2.jpg', 'B0.jpg', 'B1.jpg']\n",
      "['A0.jpg', 'A1.jpg', 'A3.jpg', 'A2.jpg', 'B4.jpg', 'B3.jpg', 'B2.jpg', 'B0.jpg', 'B1.jpg']\n",
      "['A0.jpg', 'A1.jpg', 'A3.jpg', 'A2.jpg', 'B4.jpg', 'B2.jpg', 'B0.jpg']\n",
      "['A0.jpg', 'A1.jpg', 'A3.jpg', 'A2.jpg', 'A4.jpg', 'B5.jpg', 'B4.jpg', 'B6.jpg', 'B3.jpg', 'B2.jpg', 'B1.jpg']\n",
      "['A0.jpg', 'A1.jpg', 'A3.jpg', 'A2.jpg', 'A4.jpg']\n",
      "['B5.jpg', 'B4.jpg', 'B6.jpg', 'B3.jpg', 'B2.jpg']\n",
      "['A0.jpg', 'A1.jpg', 'A3.jpg', 'A2.jpg', 'B5.jpg', 'B4.jpg', 'B6.jpg', 'B3.jpg', 'B2.jpg', 'B0.jpg']\n",
      "['A0.jpg', 'A3.jpg', 'A2.jpg', 'A4.jpg', 'B5.jpg', 'B4.jpg', 'B6.jpg', 'B3.jpg', 'B2.jpg', 'B0.jpg', 'B1.jpg']\n",
      "['B5.jpg', 'B4.jpg', 'B6.jpg', 'B3.jpg', 'B2.jpg', 'B0.jpg', 'B1.jpg']\n",
      "['B5.jpg', 'B4.jpg', 'B6.jpg', 'B3.jpg', 'B2.jpg', 'B0.jpg', 'B1.jpg']\n",
      "['B5.jpg', 'B4.jpg', 'B6.jpg', 'B3.jpg', 'B2.jpg', 'B0.jpg', 'B1.jpg']\n",
      "['B5.jpg', 'B4.jpg', 'B6.jpg', 'B3.jpg', 'B2.jpg', 'B0.jpg']\n",
      "['A0.jpg', 'A1.jpg', 'A3.jpg', 'A2.jpg', 'A4.jpg', 'B4.jpg', 'B6.jpg', 'B3.jpg', 'B2.jpg', 'B0.jpg']\n",
      "['A0.jpg', 'A1.jpg', 'A3.jpg', 'A2.jpg', 'A4.jpg', 'B5.jpg', 'B4.jpg', 'B6.jpg', 'B3.jpg', 'B2.jpg', 'B0.jpg', 'B1.jpg']\n",
      "['A0.jpg', 'A1.jpg', 'A3.jpg', 'A2.jpg', 'B4.jpg', 'B3.jpg', 'B2.jpg', 'B0.jpg', 'B1.jpg']\n",
      "['A1.jpg', 'A3.jpg', 'A2.jpg', 'A4.jpg', 'B5.jpg', 'B4.jpg', 'B6.jpg', 'B3.jpg', 'B2.jpg', 'B0.jpg']\n",
      "['B3.jpg', 'B2.jpg', 'B0.jpg', 'B1.jpg']\n",
      "['A0.jpg', 'A1.jpg', 'A3.jpg', 'A2.jpg', 'B5.jpg', 'B4.jpg', 'B3.jpg', 'B2.jpg', 'B0.jpg', 'B1.jpg']\n",
      "['A0.jpg', 'A3.jpg', 'A2.jpg', 'A4.jpg']\n",
      "['A0.jpg', 'A1.jpg', 'A3.jpg', 'A2.jpg', 'A4.jpg', 'B4.jpg', 'B6.jpg', 'B3.jpg', 'B2.jpg', 'B1.jpg']\n",
      "['B5.jpg', 'B4.jpg', 'B6.jpg', 'B3.jpg', 'B2.jpg', 'B0.jpg', 'B1.jpg']\n",
      "['B3.jpg', 'B2.jpg', 'B0.jpg', 'B1.jpg']\n",
      "['A0.jpg', 'A1.jpg', 'A3.jpg', 'A2.jpg', 'A4.jpg', 'B5.jpg', 'B4.jpg', 'B6.jpg', 'B3.jpg', 'B2.jpg', 'B0.jpg', 'B1.jpg']\n",
      "['B4.jpg', 'B6.jpg', 'B3.jpg', 'B2.jpg', 'B0.jpg', 'B1.jpg']\n",
      "['A0.jpg', 'A1.jpg', 'A3.jpg', 'A2.jpg', 'B5.jpg', 'B4.jpg', 'B6.jpg', 'B3.jpg', 'B2.jpg', 'B0.jpg']\n",
      "['A0.jpg', 'A1.jpg', 'A3.jpg', 'A2.jpg', 'A4.jpg', 'B5.jpg', 'B4.jpg', 'B6.jpg', 'B3.jpg', 'B2.jpg', 'B0.jpg', 'B1.jpg']\n",
      "['A0.jpg', 'A3.jpg', 'A4.jpg', 'B5.jpg', 'B4.jpg', 'B3.jpg', 'B2.jpg', 'B1.jpg']\n",
      "['A1.jpg', 'A3.jpg', 'A2.jpg', 'A4.jpg', 'B5.jpg', 'B4.jpg', 'B6.jpg', 'B3.jpg', 'B2.jpg', 'B0.jpg', 'B1.jpg']\n",
      "['A0.jpg', 'A1.jpg', 'A2.jpg', 'B5.jpg', 'B4.jpg', 'B3.jpg', 'B2.jpg', 'B0.jpg', 'B1.jpg']\n",
      "['B5.jpg', 'B4.jpg', 'B3.jpg', 'B2.jpg', 'B0.jpg']\n",
      "['B3.jpg', 'B2.jpg', 'B0.jpg', 'B1.jpg']\n",
      "['A0.jpg', 'A1.jpg', 'A3.jpg', 'A2.jpg', 'A4.jpg', 'B5.jpg', 'B4.jpg', 'B6.jpg', 'B3.jpg', 'B2.jpg']\n",
      "['A0.jpg', 'A1.jpg', 'A3.jpg', 'A2.jpg', 'A4.jpg', 'B5.jpg', 'B4.jpg', 'B6.jpg', 'B3.jpg', 'B2.jpg', 'B0.jpg', 'B1.jpg']\n",
      "['A3.jpg', 'A2.jpg', 'A4.jpg', 'B5.jpg', 'B4.jpg', 'B6.jpg', 'B2.jpg', 'B1.jpg']\n",
      "['B3.jpg', 'B2.jpg', 'B0.jpg', 'B1.jpg']\n",
      "['B4.jpg', 'B6.jpg', 'B2.jpg', 'B0.jpg', 'B1.jpg']\n",
      "['B5.jpg', 'B4.jpg', 'B6.jpg', 'B3.jpg', 'B2.jpg', 'B0.jpg', 'B1.jpg']\n",
      "['B3.jpg', 'B2.jpg', 'B0.jpg', 'B1.jpg']\n",
      "['A0.jpg', 'A1.jpg', 'A3.jpg', 'A2.jpg', 'A4.jpg', 'B5.jpg', 'B4.jpg', 'B3.jpg', 'B2.jpg', 'B0.jpg', 'B1.jpg']\n",
      "['B5.jpg', 'B4.jpg', 'B6.jpg', 'B3.jpg', 'B2.jpg']\n",
      "['A0.jpg', 'A3.jpg', 'A2.jpg', 'A4.jpg', 'B4.jpg', 'B6.jpg', 'B2.jpg', 'B0.jpg', 'B1.jpg']\n",
      "['A0.jpg', 'A1.jpg', 'A3.jpg', 'A2.jpg', 'A4.jpg', 'B5.jpg', 'B4.jpg', 'B6.jpg', 'B3.jpg', 'B2.jpg', 'B0.jpg']\n",
      "['A0.jpg', 'A1.jpg', 'A3.jpg', 'A2.jpg', 'A4.jpg', 'B4.jpg', 'B3.jpg', 'B2.jpg']\n",
      "['A0.jpg', 'A1.jpg', 'A3.jpg', 'A2.jpg', 'A4.jpg']\n",
      "['A0.jpg', 'A1.jpg', 'A3.jpg', 'A2.jpg', 'A4.jpg', 'B5.jpg', 'B4.jpg', 'B6.jpg', 'B3.jpg', 'B2.jpg', 'B0.jpg', 'B1.jpg']\n",
      "['B3.jpg', 'B2.jpg', 'B0.jpg', 'B1.jpg']\n",
      "['A0.jpg', 'A1.jpg', 'A4.jpg', 'B4.jpg', 'B6.jpg', 'B3.jpg', 'B2.jpg']\n",
      "['A0.jpg', 'A1.jpg', 'A3.jpg', 'A2.jpg', 'A4.jpg', 'B5.jpg', 'B4.jpg', 'B6.jpg', 'B3.jpg', 'B2.jpg', 'B1.jpg']\n",
      "['B5.jpg', 'B2.jpg', 'B0.jpg', 'B1.jpg']\n",
      "['B3.jpg', 'B2.jpg', 'B0.jpg', 'B1.jpg']\n",
      "['B5.jpg', 'B4.jpg', 'B6.jpg', 'B3.jpg', 'B2.jpg', 'B1.jpg']\n",
      "['A0.jpg', 'A1.jpg', 'A3.jpg', 'A2.jpg', 'A4.jpg', 'B5.jpg', 'B4.jpg', 'B6.jpg', 'B3.jpg', 'B2.jpg', 'B0.jpg', 'B1.jpg']\n",
      "['B3.jpg', 'B2.jpg', 'B0.jpg', 'B1.jpg']\n",
      "['A0.jpg', 'A1.jpg', 'A2.jpg', 'B4.jpg', 'B3.jpg', 'B2.jpg', 'B0.jpg', 'B1.jpg']\n",
      "['B3.jpg', 'B2.jpg', 'B0.jpg', 'B1.jpg']\n",
      "['A0.jpg', 'A1.jpg', 'A3.jpg', 'A2.jpg', 'A4.jpg', 'B4.jpg', 'B6.jpg', 'B3.jpg', 'B2.jpg', 'B0.jpg', 'B1.jpg']\n",
      "['A0.jpg', 'A1.jpg', 'A2.jpg', 'B5.jpg', 'B4.jpg', 'B3.jpg', 'B2.jpg', 'B0.jpg', 'B1.jpg']\n",
      "['A0.jpg', 'A1.jpg', 'A3.jpg', 'A2.jpg', 'B5.jpg', 'B4.jpg', 'B3.jpg', 'B2.jpg', 'B0.jpg', 'B1.jpg']\n",
      "['A0.jpg', 'A1.jpg', 'A3.jpg', 'A2.jpg', 'A4.jpg', 'B5.jpg', 'B4.jpg', 'B6.jpg', 'B3.jpg', 'B2.jpg', 'B0.jpg']\n",
      "['A0.jpg', 'A1.jpg', 'A2.jpg', 'B4.jpg', 'B3.jpg', 'B2.jpg', 'B0.jpg', 'B1.jpg']\n",
      "['A0.jpg', 'A1.jpg', 'A3.jpg', 'A2.jpg', 'A4.jpg', 'B4.jpg', 'B3.jpg', 'B2.jpg', 'B0.jpg', 'B1.jpg']\n",
      "['A0.jpg', 'A1.jpg', 'A2.jpg', 'B4.jpg', 'B3.jpg', 'B2.jpg', 'B0.jpg', 'B1.jpg']\n",
      "['A1.jpg', 'A3.jpg', 'A2.jpg', 'A4.jpg', 'B4.jpg', 'B6.jpg', 'B3.jpg', 'B2.jpg', 'B1.jpg']\n",
      "['A0.jpg', 'A1.jpg', 'A3.jpg', 'A2.jpg', 'B5.jpg', 'B4.jpg', 'B6.jpg', 'B3.jpg', 'B2.jpg']\n",
      "['A0.jpg', 'A1.jpg', 'A3.jpg', 'A2.jpg', 'B5.jpg', 'B4.jpg', 'B3.jpg', 'B2.jpg', 'B0.jpg']\n",
      "['A0.jpg', 'A1.jpg', 'A3.jpg', 'A2.jpg', 'B4.jpg', 'B3.jpg', 'B2.jpg', 'B0.jpg', 'B1.jpg']\n",
      "['A0.jpg', 'A1.jpg', 'A2.jpg', 'B5.jpg', 'B4.jpg', 'B6.jpg', 'B3.jpg', 'B2.jpg', 'B0.jpg', 'B1.jpg']\n",
      "['B3.jpg', 'B2.jpg', 'B0.jpg', 'B1.jpg']\n",
      "['B5.jpg', 'B3.jpg', 'B2.jpg', 'B0.jpg', 'B1.jpg']\n",
      "['B3.jpg', 'B2.jpg', 'B0.jpg', 'B1.jpg']\n",
      "['A0.jpg', 'A1.jpg', 'A3.jpg', 'A2.jpg', 'A4.jpg', 'B5.jpg', 'B4.jpg', 'B6.jpg', 'B3.jpg', 'B2.jpg', 'B0.jpg', 'B1.jpg']\n",
      "['B5.jpg', 'B4.jpg', 'B6.jpg', 'B0.jpg']\n",
      "['A0.jpg', 'A1.jpg', 'A3.jpg', 'A2.jpg', 'A4.jpg', 'B5.jpg', 'B4.jpg', 'B6.jpg', 'B3.jpg', 'B2.jpg', 'B0.jpg']\n",
      "['B3.jpg', 'B2.jpg', 'B0.jpg', 'B1.jpg']\n",
      "['B5.jpg', 'B4.jpg', 'B6.jpg', 'B3.jpg', 'B2.jpg', 'B1.jpg']\n",
      "['A0.jpg', 'A1.jpg', 'A3.jpg', 'A2.jpg', 'A4.jpg', 'B5.jpg', 'B4.jpg', 'B2.jpg', 'B0.jpg', 'B1.jpg']\n",
      "['A1.jpg', 'A3.jpg', 'A2.jpg', 'A4.jpg', 'B5.jpg', 'B4.jpg', 'B3.jpg', 'B2.jpg', 'B0.jpg', 'B1.jpg']\n",
      "['A0.jpg', 'A1.jpg', 'A3.jpg', 'A2.jpg', 'A4.jpg', 'B5.jpg', 'B3.jpg', 'B2.jpg', 'B0.jpg', 'B1.jpg']\n",
      "['A0.jpg', 'A1.jpg', 'A3.jpg', 'A4.jpg', 'B5.jpg', 'B4.jpg', 'B3.jpg', 'B2.jpg', 'B0.jpg', 'B1.jpg']\n",
      "['A0.jpg', 'A1.jpg', 'A3.jpg', 'A2.jpg', 'A4.jpg', 'B5.jpg', 'B4.jpg', 'B6.jpg', 'B3.jpg', 'B2.jpg', 'B0.jpg']\n",
      "['A0.jpg', 'A1.jpg', 'A3.jpg', 'A2.jpg', 'A4.jpg', 'B5.jpg', 'B4.jpg', 'B6.jpg', 'B3.jpg', 'B2.jpg', 'B1.jpg']\n",
      "['A0.jpg', 'A1.jpg', 'A3.jpg', 'A2.jpg', 'A4.jpg', 'B5.jpg', 'B4.jpg', 'B6.jpg', 'B3.jpg', 'B2.jpg', 'B0.jpg', 'B1.jpg']\n",
      "['A0.jpg', 'A1.jpg', 'A3.jpg', 'A2.jpg', 'A4.jpg', 'B5.jpg', 'B4.jpg', 'B6.jpg', 'B3.jpg', 'B2.jpg', 'B0.jpg']\n",
      "['A0.jpg', 'A1.jpg', 'A3.jpg', 'A2.jpg', 'B6.jpg', 'B3.jpg', 'B2.jpg', 'B0.jpg']\n",
      "['B5.jpg', 'B4.jpg', 'B6.jpg', 'B3.jpg', 'B2.jpg', 'B0.jpg']\n",
      "['A0.jpg', 'A1.jpg', 'A3.jpg', 'A2.jpg', 'A4.jpg', 'B5.jpg', 'B4.jpg', 'B6.jpg', 'B3.jpg', 'B2.jpg', 'B0.jpg', 'B1.jpg']\n",
      "['A0.jpg', 'A1.jpg', 'A3.jpg', 'A2.jpg', 'A4.jpg', 'B4.jpg', 'B2.jpg', 'B0.jpg', 'B1.jpg']\n",
      "['A1.jpg', 'A2.jpg', 'B4.jpg', 'B3.jpg', 'B2.jpg', 'B0.jpg', 'B1.jpg']\n",
      "['A0.jpg', 'A1.jpg', 'A3.jpg', 'A2.jpg', 'A4.jpg', 'B5.jpg', 'B4.jpg', 'B6.jpg', 'B3.jpg', 'B2.jpg']\n",
      "['B5.jpg', 'B4.jpg', 'B6.jpg', 'B3.jpg', 'B2.jpg', 'B0.jpg', 'B1.jpg']\n",
      "['A0.jpg', 'A1.jpg', 'A3.jpg', 'A2.jpg', 'B5.jpg', 'B4.jpg', 'B6.jpg', 'B3.jpg', 'B2.jpg']\n",
      "['B5.jpg', 'B4.jpg', 'B6.jpg', 'B3.jpg', 'B2.jpg', 'B0.jpg', 'B1.jpg']\n",
      "['A0.jpg', 'A1.jpg', 'A3.jpg', 'A2.jpg', 'A4.jpg', 'B5.jpg', 'B4.jpg', 'B3.jpg', 'B2.jpg', 'B0.jpg', 'B1.jpg']\n",
      "['A0.jpg', 'A1.jpg', 'A3.jpg', 'A2.jpg', 'A4.jpg', 'B3.jpg', 'B2.jpg', 'B0.jpg', 'B1.jpg']\n",
      "['B4.jpg', 'B6.jpg', 'B3.jpg', 'B2.jpg', 'B0.jpg', 'B1.jpg']\n",
      "['A0.jpg', 'A1.jpg', 'A2.jpg', 'B5.jpg', 'B4.jpg', 'B3.jpg', 'B2.jpg', 'B0.jpg', 'B1.jpg']\n",
      "['B5.jpg', 'B4.jpg', 'B6.jpg', 'B3.jpg', 'B2.jpg', 'B0.jpg', 'B1.jpg']\n",
      "['A0.jpg', 'A1.jpg', 'A3.jpg', 'A2.jpg', 'A4.jpg']\n",
      "['A0.jpg', 'A1.jpg', 'A3.jpg', 'A2.jpg', 'B4.jpg', 'B6.jpg', 'B3.jpg', 'B2.jpg']\n",
      "['B5.jpg', 'B4.jpg', 'B6.jpg', 'B3.jpg', 'B2.jpg']\n",
      "['A0.jpg', 'A1.jpg', 'A3.jpg', 'A2.jpg', 'A4.jpg', 'B5.jpg', 'B4.jpg', 'B3.jpg', 'B2.jpg', 'B0.jpg', 'B1.jpg']\n",
      "['A0.jpg', 'A3.jpg', 'A2.jpg', 'B5.jpg', 'B6.jpg', 'B3.jpg', 'B2.jpg', 'B0.jpg']\n",
      "['A1.jpg', 'A3.jpg', 'A2.jpg', 'A4.jpg', 'B5.jpg', 'B4.jpg', 'B6.jpg', 'B3.jpg', 'B2.jpg', 'B0.jpg', 'B1.jpg']\n",
      "['B5.jpg', 'B4.jpg', 'B6.jpg', 'B3.jpg', 'B2.jpg', 'B0.jpg', 'B1.jpg']\n",
      "['A0.jpg', 'A1.jpg', 'A3.jpg', 'A2.jpg', 'B5.jpg', 'B4.jpg', 'B6.jpg', 'B3.jpg', 'B2.jpg', 'B1.jpg']\n",
      "['A0.jpg', 'A1.jpg', 'A2.jpg', 'B5.jpg', 'B4.jpg', 'B3.jpg', 'B2.jpg', 'B1.jpg']\n",
      "['B3.jpg', 'B2.jpg', 'B0.jpg', 'B1.jpg']\n",
      "['B4.jpg', 'B6.jpg', 'B3.jpg', 'B2.jpg', 'B0.jpg', 'B1.jpg']\n",
      "['B3.jpg', 'B2.jpg', 'B0.jpg', 'B1.jpg']\n",
      "['B3.jpg', 'B2.jpg', 'B0.jpg', 'B1.jpg']\n",
      "['A0.jpg', 'A1.jpg', 'A3.jpg', 'A2.jpg', 'A4.jpg', 'B6.jpg', 'B3.jpg', 'B2.jpg']\n",
      "['A0.jpg', 'A1.jpg', 'A3.jpg', 'A2.jpg', 'A4.jpg', 'B4.jpg', 'B3.jpg', 'B2.jpg', 'B0.jpg']\n",
      "['A0.jpg', 'A1.jpg', 'A3.jpg', 'A2.jpg', 'A4.jpg', 'B5.jpg', 'B4.jpg', 'B6.jpg', 'B3.jpg', 'B2.jpg', 'B0.jpg', 'B1.jpg']\n",
      "['A0.jpg', 'A1.jpg', 'A3.jpg', 'A2.jpg', 'B5.jpg', 'B4.jpg', 'B6.jpg', 'B3.jpg', 'B2.jpg', 'B0.jpg', 'B1.jpg']\n",
      "['A0.jpg', 'A1.jpg', 'B5.jpg', 'B4.jpg', 'B3.jpg', 'B2.jpg', 'B0.jpg', 'B1.jpg']\n",
      "['B5.jpg', 'B4.jpg', 'B6.jpg', 'B3.jpg', 'B2.jpg', 'B0.jpg', 'B1.jpg']\n",
      "['B5.jpg', 'B4.jpg', 'B3.jpg', 'B2.jpg', 'B0.jpg', 'B1.jpg']\n",
      "['B5.jpg', 'B4.jpg', 'B3.jpg', 'B2.jpg', 'B0.jpg']\n",
      "['A0.jpg', 'A1.jpg', 'B2.jpg', 'B0.jpg', 'B1.jpg']\n",
      "['B5.jpg', 'B4.jpg', 'B6.jpg', 'B3.jpg', 'B2.jpg', 'B0.jpg', 'B1.jpg']\n",
      "['A0.jpg', 'A1.jpg', 'A3.jpg', 'A2.jpg', 'A4.jpg', 'B5.jpg', 'B4.jpg', 'B6.jpg', 'B3.jpg', 'B2.jpg', 'B0.jpg']\n",
      "['B4.jpg', 'B2.jpg', 'B0.jpg', 'B1.jpg']\n",
      "['B3.jpg', 'B2.jpg', 'B0.jpg', 'B1.jpg']\n",
      "['A0.jpg', 'A1.jpg', 'A3.jpg', 'A2.jpg', 'A4.jpg', 'B5.jpg', 'B4.jpg', 'B6.jpg', 'B3.jpg', 'B2.jpg', 'B1.jpg']\n",
      "['A1.jpg', 'A3.jpg', 'A2.jpg', 'A4.jpg', 'B5.jpg', 'B4.jpg', 'B6.jpg', 'B2.jpg', 'B0.jpg', 'B1.jpg']\n",
      "['A0.jpg', 'A1.jpg', 'A3.jpg', 'A2.jpg', 'B5.jpg', 'B4.jpg', 'B6.jpg', 'B3.jpg', 'B2.jpg', 'B0.jpg']\n",
      "['A0.jpg', 'A1.jpg', 'A3.jpg', 'A2.jpg', 'A4.jpg', 'B5.jpg', 'B4.jpg', 'B6.jpg', 'B3.jpg', 'B2.jpg']\n",
      "['A0.jpg', 'A3.jpg', 'A2.jpg', 'A4.jpg', 'B5.jpg', 'B4.jpg', 'B6.jpg', 'B3.jpg', 'B2.jpg', 'B0.jpg', 'B1.jpg']\n",
      "['A0.jpg', 'A1.jpg', 'B4.jpg', 'B3.jpg', 'B2.jpg', 'B0.jpg', 'B1.jpg']\n",
      "['A0.jpg', 'A1.jpg', 'B5.jpg', 'B4.jpg', 'B3.jpg', 'B2.jpg', 'B1.jpg']\n",
      "['A1.jpg', 'A3.jpg', 'A2.jpg', 'B5.jpg', 'B4.jpg', 'B6.jpg', 'B2.jpg', 'B0.jpg', 'B1.jpg']\n",
      "['B3.jpg', 'B2.jpg', 'B0.jpg', 'B1.jpg']\n",
      "['A0.jpg', 'A1.jpg', 'A3.jpg', 'A2.jpg', 'B5.jpg', 'B4.jpg', 'B3.jpg', 'B2.jpg', 'B0.jpg', 'B1.jpg']\n",
      "['A0.jpg', 'A1.jpg', 'A3.jpg', 'A2.jpg', 'B5.jpg', 'B4.jpg', 'B6.jpg', 'B3.jpg', 'B2.jpg', 'B0.jpg', 'B1.jpg']\n",
      "['B5.jpg', 'B4.jpg', 'B6.jpg', 'B2.jpg', 'B1.jpg']\n",
      "['B4.jpg', 'B3.jpg', 'B2.jpg', 'B0.jpg', 'B1.jpg']\n",
      "['A1.jpg', 'A3.jpg', 'A2.jpg', 'B5.jpg', 'B4.jpg', 'B6.jpg', 'B3.jpg', 'B2.jpg', 'B0.jpg', 'B1.jpg']\n",
      "['B4.jpg', 'B3.jpg', 'B2.jpg', 'B0.jpg', 'B1.jpg']\n",
      "['B5.jpg', 'B4.jpg', 'B6.jpg', 'B3.jpg', 'B2.jpg', 'B1.jpg']\n",
      "['A0.jpg', 'A1.jpg', 'A3.jpg', 'A2.jpg', 'B4.jpg', 'B3.jpg', 'B2.jpg', 'B0.jpg', 'B1.jpg']\n",
      "['A0.jpg', 'A1.jpg', 'A2.jpg', 'B5.jpg', 'B4.jpg', 'B3.jpg', 'B2.jpg', 'B0.jpg']\n",
      "['A0.jpg', 'A1.jpg', 'A3.jpg', 'A2.jpg', 'A4.jpg', 'B5.jpg', 'B4.jpg', 'B6.jpg', 'B3.jpg', 'B2.jpg', 'B0.jpg', 'B1.jpg']\n",
      "['A1.jpg', 'A2.jpg', 'B5.jpg', 'B3.jpg', 'B0.jpg', 'B1.jpg']\n",
      "['A0.jpg', 'A1.jpg', 'B3.jpg', 'B2.jpg', 'B0.jpg', 'B1.jpg']\n",
      "['A1.jpg', 'A2.jpg', 'B4.jpg', 'B3.jpg', 'B2.jpg', 'B0.jpg']\n",
      "['B3.jpg', 'B2.jpg', 'B0.jpg', 'B1.jpg']\n",
      "['B5.jpg', 'B4.jpg', 'B6.jpg', 'B3.jpg', 'B2.jpg', 'B1.jpg']\n",
      "['A0.jpg', 'A3.jpg', 'A2.jpg', 'A4.jpg', 'B4.jpg', 'B6.jpg', 'B2.jpg', 'B0.jpg', 'B1.jpg']\n",
      "['A0.jpg', 'A1.jpg', 'A2.jpg', 'B5.jpg', 'B4.jpg', 'B3.jpg', 'B2.jpg', 'B0.jpg', 'B1.jpg']\n",
      "['A0.jpg', 'A1.jpg', 'A3.jpg', 'A2.jpg', 'B5.jpg', 'B4.jpg', 'B6.jpg', 'B3.jpg', 'B2.jpg', 'B0.jpg', 'B1.jpg']\n",
      "['A0.jpg', 'A1.jpg', 'A3.jpg', 'A2.jpg', 'A4.jpg', 'B5.jpg', 'B4.jpg', 'B6.jpg', 'B3.jpg', 'B2.jpg', 'B0.jpg']\n",
      "['A0.jpg', 'A1.jpg', 'A3.jpg', 'A2.jpg', 'B5.jpg', 'B4.jpg', 'B6.jpg', 'B3.jpg', 'B2.jpg', 'B1.jpg']\n",
      "['A0.jpg', 'A1.jpg', 'A2.jpg', 'B4.jpg', 'B3.jpg', 'B0.jpg', 'B1.jpg']\n",
      "['A0.jpg', 'A1.jpg', 'A2.jpg', 'A4.jpg', 'B5.jpg', 'B4.jpg', 'B6.jpg', 'B3.jpg', 'B2.jpg', 'B0.jpg', 'B1.jpg']\n",
      "['A0.jpg', 'A1.jpg', 'A3.jpg', 'A2.jpg', 'A4.jpg', 'B5.jpg', 'B4.jpg', 'B6.jpg', 'B2.jpg', 'B0.jpg', 'B1.jpg']\n",
      "['A0.jpg', 'A1.jpg', 'A3.jpg', 'A2.jpg', 'A4.jpg', 'B5.jpg', 'B4.jpg', 'B6.jpg', 'B3.jpg', 'B2.jpg', 'B0.jpg', 'B1.jpg']\n",
      "['A1.jpg', 'A4.jpg', 'B5.jpg', 'B4.jpg', 'B6.jpg', 'B3.jpg', 'B2.jpg', 'B0.jpg', 'B1.jpg']\n",
      "['B3.jpg', 'B2.jpg', 'B0.jpg', 'B1.jpg']\n",
      "['A1.jpg', 'A3.jpg', 'A2.jpg', 'A4.jpg', 'B5.jpg', 'B4.jpg', 'B6.jpg', 'B3.jpg', 'B2.jpg', 'B0.jpg', 'B1.jpg']\n",
      "['B5.jpg', 'B4.jpg', 'B3.jpg', 'B2.jpg', 'B1.jpg']\n",
      "['A0.jpg', 'A3.jpg', 'A2.jpg', 'A4.jpg', 'B5.jpg', 'B4.jpg', 'B2.jpg', 'B1.jpg']\n",
      "['B5.jpg', 'B4.jpg', 'B3.jpg', 'B2.jpg', 'B0.jpg', 'B1.jpg']\n",
      "['B5.jpg', 'B4.jpg', 'B3.jpg', 'B2.jpg', 'B0.jpg']\n",
      "['B5.jpg', 'B4.jpg', 'B3.jpg', 'B2.jpg', 'B0.jpg']\n",
      "['A0.jpg', 'A1.jpg', 'A3.jpg', 'A2.jpg', 'A4.jpg', 'B5.jpg', 'B4.jpg', 'B3.jpg', 'B2.jpg', 'B0.jpg', 'B1.jpg']\n",
      "['A3.jpg', 'A2.jpg', 'A4.jpg', 'B5.jpg', 'B6.jpg', 'B2.jpg']\n",
      "['A0.jpg', 'B5.jpg', 'B4.jpg', 'B3.jpg', 'B2.jpg', 'B0.jpg', 'B1.jpg']\n",
      "['A0.jpg', 'A1.jpg', 'A3.jpg', 'A2.jpg', 'A4.jpg', 'B5.jpg', 'B4.jpg', 'B3.jpg', 'B2.jpg', 'B0.jpg', 'B1.jpg']\n",
      "['B3.jpg', 'B2.jpg', 'B0.jpg', 'B1.jpg']\n",
      "['B5.jpg', 'B4.jpg', 'B6.jpg', 'B3.jpg', 'B2.jpg', 'B0.jpg']\n",
      "['A0.jpg', 'A1.jpg', 'A2.jpg', 'B5.jpg', 'B4.jpg', 'B3.jpg', 'B2.jpg', 'B0.jpg', 'B1.jpg']\n",
      "['A0.jpg', 'A1.jpg', 'A3.jpg', 'A2.jpg', 'A4.jpg', 'B4.jpg', 'B2.jpg', 'B0.jpg', 'B1.jpg']\n",
      "['A0.jpg', 'A1.jpg', 'A3.jpg', 'A4.jpg', 'B5.jpg', 'B4.jpg', 'B6.jpg', 'B3.jpg', 'B2.jpg', 'B0.jpg', 'B1.jpg']\n",
      "['A0.jpg', 'A1.jpg', 'A3.jpg', 'A2.jpg', 'A4.jpg', 'B5.jpg', 'B3.jpg', 'B2.jpg', 'B0.jpg', 'B1.jpg']\n",
      "['A0.jpg', 'A1.jpg', 'A3.jpg', 'A2.jpg', 'A4.jpg', 'B5.jpg', 'B4.jpg', 'B3.jpg', 'B2.jpg', 'B0.jpg', 'B1.jpg']\n",
      "['B4.jpg', 'B3.jpg', 'B2.jpg', 'B0.jpg', 'B1.jpg']\n",
      "['B5.jpg', 'B4.jpg', 'B6.jpg', 'B3.jpg', 'B2.jpg', 'B0.jpg', 'B1.jpg']\n",
      "['B5.jpg', 'B6.jpg', 'B3.jpg', 'B2.jpg', 'B0.jpg', 'B1.jpg']\n",
      "['A0.jpg', 'A1.jpg', 'A3.jpg', 'A2.jpg', 'A4.jpg', 'B5.jpg', 'B4.jpg', 'B6.jpg', 'B3.jpg', 'B2.jpg', 'B0.jpg', 'B1.jpg']\n",
      "['A1.jpg', 'A3.jpg', 'A2.jpg', 'A4.jpg', 'B5.jpg', 'B4.jpg', 'B6.jpg', 'B3.jpg', 'B2.jpg', 'B0.jpg', 'B1.jpg']\n",
      "['A0.jpg', 'A1.jpg', 'A3.jpg', 'A2.jpg', 'A4.jpg', 'B4.jpg', 'B6.jpg', 'B3.jpg', 'B2.jpg', 'B0.jpg']\n",
      "['A1.jpg', 'A2.jpg', 'B4.jpg', 'B3.jpg', 'B2.jpg', 'B0.jpg', 'B1.jpg']\n",
      "['A0.jpg', 'A1.jpg', 'A3.jpg', 'A2.jpg', 'B5.jpg', 'B4.jpg', 'B6.jpg', 'B3.jpg', 'B2.jpg', 'B0.jpg', 'B1.jpg']\n",
      "['A1.jpg', 'A3.jpg', 'A2.jpg', 'A4.jpg', 'B5.jpg', 'B4.jpg', 'B3.jpg', 'B2.jpg', 'B0.jpg', 'B1.jpg']\n",
      "['A0.jpg', 'A1.jpg', 'A3.jpg', 'A2.jpg', 'A4.jpg', 'B5.jpg', 'B4.jpg', 'B6.jpg', 'B3.jpg', 'B2.jpg', 'B0.jpg', 'B1.jpg']\n",
      "['A0.jpg', 'A1.jpg', 'A3.jpg', 'A2.jpg', 'A4.jpg', 'B5.jpg', 'B4.jpg', 'B3.jpg', 'B2.jpg', 'B0.jpg', 'B1.jpg']\n",
      "['B5.jpg', 'B6.jpg', 'B3.jpg', 'B2.jpg', 'B0.jpg']\n",
      "['B3.jpg', 'B2.jpg', 'B0.jpg', 'B1.jpg']\n",
      "['A0.jpg', 'A3.jpg', 'B5.jpg', 'B4.jpg', 'B6.jpg', 'B2.jpg', 'B1.jpg']\n",
      "['A0.jpg', 'A1.jpg', 'A3.jpg', 'A2.jpg', 'A4.jpg', 'B5.jpg', 'B4.jpg', 'B3.jpg', 'B2.jpg', 'B0.jpg', 'B1.jpg']\n",
      "['A0.jpg', 'A1.jpg', 'A3.jpg', 'A2.jpg', 'A4.jpg', 'B4.jpg', 'B6.jpg', 'B3.jpg', 'B2.jpg', 'B1.jpg']\n",
      "['A0.jpg', 'A1.jpg', 'A3.jpg', 'A2.jpg', 'A4.jpg', 'B4.jpg', 'B6.jpg', 'B3.jpg', 'B2.jpg', 'B0.jpg', 'B1.jpg']\n",
      "['B4.jpg', 'B3.jpg', 'B2.jpg', 'B0.jpg', 'B1.jpg']\n",
      "['A0.jpg', 'A1.jpg', 'A3.jpg', 'A2.jpg', 'A4.jpg', 'B5.jpg', 'B4.jpg', 'B6.jpg', 'B3.jpg', 'B2.jpg', 'B0.jpg', 'B1.jpg']\n",
      "['A0.jpg', 'A1.jpg', 'A2.jpg', 'B3.jpg', 'B2.jpg', 'B0.jpg', 'B1.jpg']\n",
      "['A0.jpg', 'A1.jpg', 'A3.jpg', 'A2.jpg', 'A4.jpg', 'B6.jpg', 'B3.jpg', 'B2.jpg', 'B0.jpg']\n",
      "['A0.jpg', 'A1.jpg', 'A3.jpg', 'A2.jpg', 'A4.jpg', 'B5.jpg', 'B4.jpg', 'B6.jpg', 'B3.jpg', 'B2.jpg', 'B0.jpg', 'B1.jpg']\n",
      "['A0.jpg', 'A1.jpg', 'A3.jpg', 'A2.jpg', 'A4.jpg', 'B5.jpg', 'B4.jpg', 'B6.jpg', 'B3.jpg', 'B2.jpg', 'B0.jpg', 'B1.jpg']\n",
      "['A0.jpg', 'A2.jpg', 'A4.jpg', 'B3.jpg']\n",
      "['B5.jpg', 'B4.jpg', 'B6.jpg', 'B3.jpg', 'B2.jpg', 'B0.jpg', 'B1.jpg']\n",
      "['A1.jpg', 'A3.jpg', 'A2.jpg', 'B4.jpg', 'B6.jpg', 'B2.jpg']\n",
      "['B3.jpg', 'B2.jpg', 'B0.jpg', 'B1.jpg']\n",
      "['A0.jpg', 'A1.jpg', 'A3.jpg', 'A2.jpg', 'A4.jpg', 'B5.jpg', 'B4.jpg', 'B6.jpg', 'B3.jpg', 'B2.jpg', 'B0.jpg', 'B1.jpg']\n",
      "['B5.jpg', 'B4.jpg', 'B6.jpg', 'B3.jpg', 'B2.jpg', 'B0.jpg', 'B1.jpg']\n",
      "['A0.jpg', 'A3.jpg', 'A2.jpg', 'A4.jpg', 'B4.jpg', 'B3.jpg', 'B2.jpg']\n",
      "['B5.jpg', 'B4.jpg', 'B6.jpg', 'B2.jpg', 'B0.jpg', 'B1.jpg']\n",
      "['A0.jpg', 'A1.jpg', 'A3.jpg', 'A2.jpg', 'A4.jpg', 'B5.jpg', 'B4.jpg', 'B6.jpg', 'B3.jpg', 'B2.jpg', 'B0.jpg']\n",
      "['A0.jpg', 'A1.jpg', 'A3.jpg', 'A2.jpg', 'A4.jpg', 'B4.jpg', 'B3.jpg', 'B2.jpg', 'B1.jpg']\n",
      "['A0.jpg', 'A1.jpg', 'A3.jpg', 'A2.jpg', 'A4.jpg']\n",
      "['A0.jpg', 'A1.jpg', 'A3.jpg', 'A2.jpg', 'A4.jpg', 'B5.jpg', 'B4.jpg', 'B6.jpg', 'B3.jpg', 'B2.jpg', 'B0.jpg', 'B1.jpg']\n",
      "['A0.jpg', 'A1.jpg', 'A3.jpg', 'A2.jpg', 'A4.jpg', 'B4.jpg', 'B6.jpg', 'B2.jpg', 'B0.jpg', 'B1.jpg']\n",
      "['A0.jpg', 'A1.jpg', 'A3.jpg', 'A2.jpg', 'A4.jpg', 'B5.jpg', 'B4.jpg', 'B3.jpg', 'B2.jpg', 'B1.jpg']\n",
      "['A0.jpg', 'A1.jpg', 'A3.jpg', 'A2.jpg', 'B2.jpg', 'B0.jpg']\n",
      "['B5.jpg', 'B4.jpg', 'B3.jpg', 'B2.jpg', 'B0.jpg', 'B1.jpg']\n",
      "['A0.jpg', 'A1.jpg', 'A3.jpg', 'A2.jpg', 'B5.jpg', 'B4.jpg', 'B3.jpg', 'B2.jpg', 'B0.jpg', 'B1.jpg']\n",
      "['A0.jpg', 'A1.jpg', 'A3.jpg', 'A2.jpg', 'A4.jpg', 'B5.jpg', 'B4.jpg', 'B6.jpg', 'B3.jpg', 'B2.jpg', 'B0.jpg']\n",
      "['B3.jpg', 'B2.jpg', 'B0.jpg', 'B1.jpg']\n",
      "['A0.jpg', 'A1.jpg', 'A3.jpg', 'A2.jpg', 'A4.jpg', 'B5.jpg', 'B4.jpg', 'B3.jpg', 'B2.jpg', 'B0.jpg', 'B1.jpg']\n",
      "['B5.jpg', 'B4.jpg', 'B6.jpg', 'B3.jpg', 'B2.jpg', 'B0.jpg', 'B1.jpg']\n",
      "['B3.jpg', 'B2.jpg', 'B0.jpg', 'B1.jpg']\n",
      "['A0.jpg', 'A1.jpg', 'A2.jpg', 'A4.jpg']\n",
      "['A0.jpg', 'A1.jpg', 'A3.jpg', 'A2.jpg', 'B5.jpg', 'B4.jpg', 'B3.jpg', 'B2.jpg', 'B0.jpg', 'B1.jpg']\n",
      "['A0.jpg', 'A1.jpg', 'B5.jpg', 'B4.jpg', 'B3.jpg', 'B2.jpg', 'B0.jpg', 'B1.jpg']\n",
      "['A0.jpg', 'A1.jpg', 'A3.jpg', 'A2.jpg', 'A4.jpg', 'B5.jpg', 'B4.jpg', 'B2.jpg', 'B0.jpg', 'B1.jpg']\n",
      "['A0.jpg', 'A1.jpg', 'A3.jpg', 'A2.jpg', 'A4.jpg', 'B5.jpg', 'B4.jpg', 'B6.jpg', 'B3.jpg', 'B2.jpg', 'B1.jpg']\n",
      "['A0.jpg', 'A3.jpg', 'A2.jpg', 'A4.jpg', 'B5.jpg', 'B2.jpg', 'B1.jpg']\n",
      "['A0.jpg', 'A1.jpg', 'A2.jpg', 'B5.jpg', 'B4.jpg', 'B3.jpg', 'B2.jpg', 'B0.jpg', 'B1.jpg']\n",
      "['A0.jpg', 'A1.jpg', 'A2.jpg', 'A4.jpg', 'B4.jpg', 'B6.jpg', 'B2.jpg']\n",
      "['A0.jpg', 'A3.jpg', 'A2.jpg', 'B5.jpg', 'B2.jpg']\n",
      "['B5.jpg', 'B4.jpg', 'B6.jpg', 'B3.jpg', 'B2.jpg', 'B0.jpg', 'B1.jpg']\n",
      "['B3.jpg', 'B2.jpg', 'B0.jpg', 'B1.jpg']\n",
      "['B3.jpg', 'B2.jpg', 'B0.jpg', 'B1.jpg']\n",
      "['B5.jpg', 'B4.jpg', 'B6.jpg', 'B2.jpg', 'B0.jpg', 'B1.jpg']\n",
      "['A0.jpg', 'A1.jpg', 'B5.jpg', 'B0.jpg', 'B1.jpg']\n",
      "['A0.jpg', 'A1.jpg', 'A3.jpg', 'A2.jpg', 'A4.jpg', 'B3.jpg', 'B2.jpg', 'B0.jpg', 'B1.jpg']\n",
      "['A0.jpg', 'A1.jpg', 'A3.jpg', 'A2.jpg', 'A4.jpg', 'B3.jpg', 'B0.jpg', 'B1.jpg']\n",
      "['B4.jpg', 'B6.jpg', 'B3.jpg', 'B2.jpg']\n",
      "['A0.jpg', 'A1.jpg', 'A3.jpg', 'A2.jpg', 'A4.jpg', 'B5.jpg', 'B4.jpg', 'B3.jpg', 'B2.jpg', 'B0.jpg']\n",
      "['B4.jpg', 'B3.jpg', 'B2.jpg', 'B0.jpg', 'B1.jpg']\n",
      "['A0.jpg', 'A1.jpg', 'A3.jpg', 'A2.jpg', 'A4.jpg', 'B5.jpg', 'B4.jpg', 'B6.jpg', 'B3.jpg', 'B2.jpg', 'B0.jpg', 'B1.jpg']\n",
      "['A0.jpg', 'A1.jpg', 'A3.jpg', 'A2.jpg', 'A4.jpg', 'B5.jpg', 'B4.jpg', 'B6.jpg', 'B3.jpg', 'B2.jpg', 'B0.jpg', 'B1.jpg']\n",
      "['B3.jpg', 'B2.jpg', 'B0.jpg', 'B1.jpg']\n",
      "['A0.jpg', 'A1.jpg', 'A3.jpg', 'A2.jpg', 'B5.jpg', 'B3.jpg', 'B2.jpg']\n",
      "['A0.jpg', 'A1.jpg', 'A3.jpg', 'A2.jpg', 'B5.jpg', 'B4.jpg', 'B3.jpg', 'B2.jpg', 'B0.jpg', 'B1.jpg']\n",
      "['A0.jpg', 'A3.jpg', 'A2.jpg', 'A4.jpg', 'B5.jpg', 'B4.jpg', 'B6.jpg', 'B3.jpg', 'B2.jpg', 'B0.jpg', 'B1.jpg']\n",
      "['A0.jpg', 'A1.jpg', 'A3.jpg', 'A2.jpg', 'A4.jpg', 'B5.jpg', 'B4.jpg', 'B6.jpg', 'B3.jpg', 'B2.jpg', 'B0.jpg', 'B1.jpg']\n",
      "['A0.jpg', 'A1.jpg', 'B5.jpg', 'B4.jpg', 'B3.jpg', 'B2.jpg', 'B0.jpg', 'B1.jpg']\n",
      "['B3.jpg', 'B2.jpg', 'B0.jpg', 'B1.jpg']\n",
      "['B5.jpg', 'B4.jpg', 'B6.jpg', 'B3.jpg', 'B2.jpg', 'B0.jpg', 'B1.jpg']\n",
      "['A0.jpg', 'A1.jpg', 'B5.jpg', 'B4.jpg', 'B3.jpg', 'B2.jpg', 'B0.jpg', 'B1.jpg']\n",
      "['A0.jpg', 'A3.jpg', 'A2.jpg', 'A4.jpg', 'B4.jpg', 'B6.jpg', 'B2.jpg', 'B0.jpg', 'B1.jpg']\n",
      "['A0.jpg', 'A1.jpg', 'A3.jpg', 'A2.jpg', 'A4.jpg', 'B5.jpg', 'B4.jpg', 'B6.jpg', 'B2.jpg', 'B0.jpg', 'B1.jpg']\n",
      "['B5.jpg', 'B4.jpg', 'B6.jpg', 'B3.jpg', 'B2.jpg', 'B0.jpg', 'B1.jpg']\n",
      "['A1.jpg', 'A3.jpg', 'A2.jpg', 'B5.jpg', 'B4.jpg', 'B3.jpg', 'B2.jpg', 'B0.jpg', 'B1.jpg']\n",
      "['B3.jpg', 'B2.jpg', 'B0.jpg', 'B1.jpg']\n",
      "['A0.jpg', 'A1.jpg', 'A3.jpg', 'A2.jpg', 'B4.jpg', 'B6.jpg', 'B3.jpg', 'B2.jpg', 'B0.jpg', 'B1.jpg']\n",
      "['A0.jpg', 'A1.jpg', 'A3.jpg', 'A2.jpg', 'B5.jpg', 'B4.jpg', 'B6.jpg', 'B3.jpg', 'B2.jpg', 'B0.jpg', 'B1.jpg']\n",
      "['B5.jpg', 'B4.jpg', 'B6.jpg', 'B3.jpg', 'B2.jpg', 'B0.jpg', 'B1.jpg']\n",
      "['A0.jpg', 'A1.jpg', 'A3.jpg', 'A2.jpg', 'A4.jpg', 'B3.jpg', 'B2.jpg']\n",
      "['A0.jpg', 'A1.jpg', 'A3.jpg', 'A2.jpg', 'A4.jpg', 'B6.jpg', 'B3.jpg', 'B2.jpg']\n",
      "['A0.jpg', 'A1.jpg', 'A3.jpg', 'A2.jpg', 'B5.jpg', 'B4.jpg', 'B6.jpg', 'B3.jpg', 'B2.jpg', 'B0.jpg', 'B1.jpg']\n",
      "['A0.jpg', 'A1.jpg', 'A3.jpg', 'A2.jpg', 'A4.jpg', 'B3.jpg', 'B2.jpg', 'B0.jpg']\n",
      "['A0.jpg', 'A2.jpg', 'A4.jpg', 'B3.jpg']\n",
      "['A0.jpg', 'A1.jpg', 'A3.jpg', 'A2.jpg', 'B5.jpg', 'B4.jpg', 'B6.jpg', 'B3.jpg', 'B2.jpg', 'B0.jpg', 'B1.jpg']\n",
      "['A0.jpg', 'A1.jpg', 'A3.jpg', 'A2.jpg', 'B5.jpg', 'B4.jpg', 'B6.jpg', 'B3.jpg', 'B2.jpg', 'B0.jpg', 'B1.jpg']\n",
      "['A0.jpg', 'A3.jpg', 'A2.jpg', 'A4.jpg', 'B5.jpg', 'B4.jpg', 'B3.jpg', 'B2.jpg', 'B1.jpg']\n",
      "['A0.jpg', 'A1.jpg', 'B5.jpg', 'B4.jpg', 'B6.jpg', 'B3.jpg', 'B2.jpg', 'B0.jpg', 'B1.jpg']\n",
      "['A0.jpg', 'A1.jpg', 'A3.jpg', 'A2.jpg', 'B5.jpg', 'B4.jpg', 'B6.jpg', 'B2.jpg', 'B0.jpg', 'B1.jpg']\n",
      "['B3.jpg', 'B2.jpg', 'B0.jpg', 'B1.jpg']\n",
      "['A0.jpg', 'A1.jpg', 'A3.jpg', 'A2.jpg', 'A4.jpg', 'B6.jpg', 'B2.jpg', 'B1.jpg']\n",
      "['A0.jpg', 'A3.jpg', 'A2.jpg', 'A4.jpg', 'B5.jpg', 'B6.jpg', 'B3.jpg', 'B2.jpg', 'B0.jpg']\n",
      "['A0.jpg', 'A1.jpg', 'A3.jpg', 'A2.jpg', 'A4.jpg', 'B5.jpg', 'B3.jpg', 'B2.jpg', 'B0.jpg', 'B1.jpg']\n",
      "['B5.jpg', 'B4.jpg', 'B3.jpg', 'B2.jpg', 'B1.jpg']\n",
      "['A0.jpg', 'A1.jpg', 'A3.jpg', 'A2.jpg', 'A4.jpg', 'B4.jpg', 'B6.jpg', 'B3.jpg', 'B2.jpg', 'B0.jpg', 'B1.jpg']\n",
      "['A0.jpg', 'A1.jpg', 'A3.jpg', 'A2.jpg', 'A4.jpg', 'B5.jpg', 'B4.jpg', 'B6.jpg', 'B3.jpg', 'B2.jpg', 'B0.jpg', 'B1.jpg']\n",
      "['A0.jpg', 'A3.jpg', 'B5.jpg', 'B2.jpg']\n",
      "['A0.jpg', 'A1.jpg', 'A3.jpg', 'A2.jpg', 'A4.jpg', 'B5.jpg', 'B4.jpg', 'B6.jpg', 'B3.jpg', 'B2.jpg', 'B0.jpg', 'B1.jpg']\n",
      "['A0.jpg', 'A1.jpg', 'A3.jpg', 'A2.jpg', 'A4.jpg', 'B5.jpg', 'B4.jpg', 'B6.jpg', 'B3.jpg', 'B2.jpg', 'B0.jpg', 'B1.jpg']\n",
      "['B3.jpg', 'B2.jpg', 'B0.jpg', 'B1.jpg']\n",
      "['A0.jpg', 'A1.jpg', 'A3.jpg', 'A2.jpg', 'B5.jpg', 'B4.jpg', 'B6.jpg', 'B3.jpg', 'B2.jpg', 'B0.jpg', 'B1.jpg']\n",
      "['A1.jpg', 'A3.jpg', 'A2.jpg', 'A4.jpg', 'B5.jpg', 'B4.jpg', 'B2.jpg']\n",
      "['A0.jpg', 'A1.jpg', 'A3.jpg', 'A2.jpg', 'A4.jpg', 'B5.jpg', 'B4.jpg', 'B3.jpg', 'B2.jpg', 'B0.jpg', 'B1.jpg']\n",
      "['A0.jpg', 'A1.jpg', 'A3.jpg', 'A2.jpg', 'A4.jpg', 'B5.jpg', 'B4.jpg', 'B6.jpg', 'B3.jpg', 'B2.jpg', 'B0.jpg', 'B1.jpg']\n",
      "['A0.jpg', 'A3.jpg', 'A2.jpg', 'A4.jpg', 'B5.jpg', 'B6.jpg', 'B3.jpg', 'B2.jpg', 'B0.jpg']\n",
      "['A0.jpg', 'A1.jpg', 'A3.jpg', 'A2.jpg', 'A4.jpg', 'B5.jpg', 'B4.jpg', 'B3.jpg', 'B2.jpg', 'B0.jpg', 'B1.jpg']\n",
      "['A0.jpg', 'A1.jpg', 'A3.jpg', 'A2.jpg', 'A4.jpg', 'B5.jpg', 'B4.jpg', 'B6.jpg', 'B3.jpg', 'B2.jpg', 'B0.jpg', 'B1.jpg']\n",
      "['A0.jpg', 'A1.jpg', 'A2.jpg', 'B4.jpg', 'B6.jpg', 'B3.jpg', 'B2.jpg', 'B0.jpg']\n",
      "['B5.jpg', 'B4.jpg', 'B6.jpg', 'B3.jpg', 'B2.jpg', 'B0.jpg', 'B1.jpg']\n",
      "['A0.jpg', 'A1.jpg', 'A3.jpg', 'A2.jpg', 'A4.jpg', 'B5.jpg', 'B4.jpg', 'B6.jpg', 'B3.jpg', 'B2.jpg', 'B0.jpg', 'B1.jpg']\n",
      "['A0.jpg', 'A1.jpg', 'A3.jpg', 'A2.jpg', 'A4.jpg', 'B5.jpg', 'B4.jpg', 'B6.jpg', 'B3.jpg', 'B2.jpg', 'B0.jpg', 'B1.jpg']\n",
      "['B5.jpg', 'B4.jpg', 'B2.jpg', 'B0.jpg', 'B1.jpg']\n",
      "['B5.jpg', 'B4.jpg', 'B6.jpg', 'B2.jpg']\n",
      "['B3.jpg', 'B2.jpg', 'B0.jpg', 'B1.jpg']\n",
      "['A0.jpg', 'A1.jpg', 'A2.jpg', 'B4.jpg', 'B3.jpg', 'B2.jpg', 'B0.jpg']\n",
      "['A0.jpg', 'A1.jpg', 'A3.jpg', 'A2.jpg', 'A4.jpg', 'B5.jpg', 'B4.jpg', 'B6.jpg', 'B3.jpg', 'B2.jpg', 'B0.jpg']\n",
      "['A1.jpg', 'A3.jpg', 'A2.jpg', 'A4.jpg', 'B4.jpg', 'B3.jpg', 'B2.jpg', 'B0.jpg', 'B1.jpg']\n",
      "['A0.jpg', 'A1.jpg', 'A3.jpg', 'A2.jpg', 'A4.jpg', 'B5.jpg', 'B4.jpg', 'B6.jpg', 'B3.jpg', 'B2.jpg', 'B0.jpg', 'B1.jpg']\n",
      "['A0.jpg', 'A1.jpg', 'A3.jpg', 'A2.jpg', 'B6.jpg', 'B3.jpg', 'B2.jpg']\n",
      "['A0.jpg', 'A1.jpg', 'A2.jpg', 'B5.jpg', 'B4.jpg', 'B3.jpg', 'B2.jpg', 'B1.jpg']\n",
      "['B5.jpg', 'B4.jpg', 'B6.jpg', 'B3.jpg', 'B2.jpg', 'B0.jpg', 'B1.jpg']\n",
      "['A0.jpg', 'A1.jpg', 'A3.jpg', 'A2.jpg', 'A4.jpg', 'B5.jpg', 'B4.jpg', 'B3.jpg', 'B2.jpg', 'B0.jpg', 'B1.jpg']\n",
      "['A0.jpg', 'A1.jpg', 'A2.jpg', 'B5.jpg', 'B4.jpg', 'B6.jpg', 'B3.jpg', 'B2.jpg', 'B0.jpg', 'B1.jpg']\n",
      "['A0.jpg', 'A1.jpg', 'A3.jpg', 'A2.jpg', 'B2.jpg', 'B0.jpg', 'B1.jpg']\n",
      "['A0.jpg', 'A1.jpg', 'A3.jpg', 'A2.jpg', 'A4.jpg', 'B5.jpg', 'B4.jpg', 'B3.jpg', 'B2.jpg', 'B0.jpg']\n",
      "['A3.jpg', 'A2.jpg', 'A4.jpg', 'B4.jpg', 'B6.jpg', 'B2.jpg']\n",
      "['B3.jpg', 'B2.jpg', 'B0.jpg', 'B1.jpg']\n",
      "['A0.jpg', 'A1.jpg', 'A3.jpg', 'A2.jpg']\n",
      "['A0.jpg', 'A1.jpg', 'A3.jpg', 'A2.jpg', 'A4.jpg']\n",
      "['A0.jpg', 'A1.jpg', 'A3.jpg', 'A2.jpg', 'B5.jpg', 'B4.jpg', 'B3.jpg', 'B2.jpg', 'B0.jpg', 'B1.jpg']\n",
      "['A0.jpg', 'A1.jpg', 'A2.jpg', 'B5.jpg', 'B3.jpg', 'B2.jpg', 'B1.jpg']\n",
      "['A1.jpg', 'A3.jpg', 'A2.jpg', 'A4.jpg', 'B6.jpg', 'B2.jpg']\n",
      "['A0.jpg', 'A1.jpg', 'A3.jpg', 'A2.jpg', 'B5.jpg', 'B4.jpg', 'B6.jpg', 'B3.jpg', 'B2.jpg', 'B0.jpg', 'B1.jpg']\n",
      "['A0.jpg', 'A1.jpg', 'A3.jpg', 'A2.jpg', 'B4.jpg', 'B6.jpg', 'B2.jpg']\n",
      "['A0.jpg', 'A1.jpg', 'A3.jpg', 'A2.jpg', 'A4.jpg', 'B5.jpg', 'B4.jpg', 'B6.jpg', 'B3.jpg', 'B2.jpg', 'B0.jpg', 'B1.jpg']\n",
      "['B5.jpg', 'B4.jpg', 'B6.jpg', 'B3.jpg', 'B2.jpg']\n",
      "['A0.jpg', 'A1.jpg', 'A3.jpg', 'A2.jpg', 'B5.jpg', 'B4.jpg', 'B3.jpg', 'B2.jpg', 'B0.jpg', 'B1.jpg']\n",
      "['B3.jpg', 'B2.jpg', 'B0.jpg', 'B1.jpg']\n",
      "['A0.jpg', 'A1.jpg', 'A3.jpg', 'A2.jpg', 'A4.jpg']\n",
      "['A0.jpg', 'A1.jpg', 'A3.jpg', 'A2.jpg', 'A4.jpg', 'B5.jpg', 'B4.jpg', 'B6.jpg', 'B3.jpg', 'B2.jpg', 'B1.jpg']\n",
      "['A0.jpg', 'A1.jpg', 'A3.jpg', 'A2.jpg', 'A4.jpg', 'B5.jpg', 'B4.jpg', 'B6.jpg', 'B2.jpg', 'B0.jpg']\n",
      "['B3.jpg', 'B2.jpg', 'B0.jpg', 'B1.jpg']\n",
      "['B4.jpg', 'B6.jpg', 'B3.jpg', 'B2.jpg', 'B0.jpg', 'B1.jpg']\n",
      "['B4.jpg', 'B6.jpg', 'B3.jpg', 'B2.jpg']\n",
      "['A0.jpg', 'A1.jpg', 'B2.jpg', 'B0.jpg', 'B1.jpg']\n",
      "['A0.jpg', 'A1.jpg', 'A3.jpg', 'A2.jpg', 'A4.jpg', 'B5.jpg', 'B6.jpg', 'B3.jpg', 'B2.jpg', 'B0.jpg', 'B1.jpg']\n",
      "['B5.jpg', 'B4.jpg', 'B3.jpg', 'B2.jpg', 'B0.jpg', 'B1.jpg']\n",
      "['B5.jpg', 'B3.jpg', 'B0.jpg', 'B1.jpg']\n",
      "['A0.jpg', 'A1.jpg', 'A3.jpg', 'A2.jpg', 'B4.jpg', 'B6.jpg', 'B2.jpg', 'B1.jpg']\n",
      "['B3.jpg', 'B2.jpg', 'B0.jpg', 'B1.jpg']\n",
      "['A0.jpg', 'A1.jpg', 'A3.jpg', 'A2.jpg', 'A4.jpg', 'B5.jpg', 'B4.jpg', 'B6.jpg', 'B3.jpg', 'B2.jpg', 'B0.jpg', 'B1.jpg']\n",
      "['A1.jpg', 'A3.jpg', 'A2.jpg', 'B4.jpg', 'B3.jpg', 'B2.jpg', 'B1.jpg']\n",
      "['A0.jpg', 'A1.jpg', 'A3.jpg', 'A2.jpg', 'B5.jpg', 'B4.jpg', 'B6.jpg', 'B3.jpg', 'B2.jpg', 'B0.jpg']\n",
      "['A0.jpg', 'A1.jpg', 'A3.jpg', 'A2.jpg', 'A4.jpg', 'B5.jpg', 'B4.jpg', 'B6.jpg', 'B3.jpg', 'B2.jpg', 'B0.jpg']\n",
      "['B5.jpg', 'B4.jpg', 'B6.jpg', 'B2.jpg', 'B0.jpg']\n",
      "['A0.jpg', 'A1.jpg', 'A3.jpg', 'A2.jpg', 'B4.jpg', 'B6.jpg', 'B3.jpg', 'B2.jpg', 'B1.jpg']\n",
      "['A0.jpg', 'A1.jpg', 'A3.jpg', 'A2.jpg', 'A4.jpg', 'B5.jpg', 'B6.jpg', 'B2.jpg', 'B0.jpg', 'B1.jpg']\n",
      "['B5.jpg', 'B4.jpg', 'B6.jpg', 'B3.jpg', 'B2.jpg', 'B0.jpg', 'B1.jpg']\n",
      "['A0.jpg', 'A1.jpg', 'A3.jpg', 'A2.jpg', 'A4.jpg', 'B5.jpg', 'B4.jpg', 'B3.jpg', 'B2.jpg', 'B0.jpg', 'B1.jpg']\n",
      "['A0.jpg', 'B4.jpg', 'B3.jpg', 'B2.jpg', 'B0.jpg', 'B1.jpg']\n",
      "['A0.jpg', 'A1.jpg', 'A3.jpg', 'A2.jpg', 'B5.jpg', 'B4.jpg', 'B3.jpg', 'B2.jpg', 'B0.jpg', 'B1.jpg']\n",
      "['A1.jpg', 'A3.jpg', 'A2.jpg', 'B4.jpg', 'B6.jpg', 'B3.jpg', 'B2.jpg']\n",
      "['A0.jpg', 'A1.jpg', 'A3.jpg', 'A2.jpg', 'B5.jpg', 'B2.jpg', 'B0.jpg', 'B1.jpg']\n",
      "['B5.jpg', 'B4.jpg', 'B6.jpg', 'B3.jpg', 'B2.jpg']\n",
      "['A0.jpg', 'A1.jpg', 'A2.jpg', 'B5.jpg', 'B4.jpg', 'B3.jpg', 'B2.jpg']\n",
      "['A0.jpg', 'A1.jpg', 'A3.jpg', 'A2.jpg', 'B5.jpg', 'B4.jpg', 'B6.jpg', 'B3.jpg', 'B2.jpg', 'B0.jpg', 'B1.jpg']\n",
      "['B3.jpg', 'B2.jpg', 'B0.jpg', 'B1.jpg']\n",
      "['B3.jpg', 'B2.jpg', 'B0.jpg', 'B1.jpg']\n",
      "['A0.jpg', 'A1.jpg', 'A3.jpg', 'A2.jpg', 'B5.jpg', 'B4.jpg', 'B3.jpg', 'B2.jpg', 'B0.jpg', 'B1.jpg']\n",
      "['A0.jpg', 'A1.jpg', 'A3.jpg', 'A2.jpg', 'B6.jpg', 'B3.jpg', 'B2.jpg']\n",
      "['A0.jpg', 'A1.jpg', 'A3.jpg', 'A2.jpg', 'A4.jpg']\n",
      "['A0.jpg', 'A1.jpg', 'A3.jpg', 'A2.jpg', 'A4.jpg', 'B5.jpg', 'B4.jpg', 'B6.jpg', 'B3.jpg', 'B2.jpg', 'B0.jpg', 'B1.jpg']\n",
      "['B3.jpg', 'B2.jpg', 'B0.jpg', 'B1.jpg']\n",
      "['B5.jpg', 'B4.jpg', 'B6.jpg', 'B3.jpg', 'B2.jpg', 'B0.jpg', 'B1.jpg']\n",
      "['A0.jpg', 'A1.jpg', 'A3.jpg', 'A2.jpg', 'A4.jpg', 'B5.jpg', 'B4.jpg', 'B6.jpg', 'B3.jpg', 'B2.jpg']\n",
      "['A0.jpg', 'A1.jpg', 'A3.jpg', 'A2.jpg', 'A4.jpg', 'B5.jpg', 'B4.jpg', 'B6.jpg', 'B3.jpg', 'B2.jpg', 'B0.jpg', 'B1.jpg']\n",
      "['B3.jpg', 'B2.jpg', 'B0.jpg', 'B1.jpg']\n",
      "['A0.jpg', 'A1.jpg', 'A3.jpg', 'A2.jpg', 'B5.jpg', 'B4.jpg', 'B6.jpg', 'B3.jpg', 'B2.jpg', 'B0.jpg', 'B1.jpg']\n",
      "['A0.jpg', 'A1.jpg', 'A2.jpg', 'A4.jpg', 'B5.jpg', 'B6.jpg', 'B3.jpg', 'B1.jpg']\n",
      "['A0.jpg', 'A1.jpg', 'A3.jpg', 'A2.jpg', 'B5.jpg', 'B4.jpg', 'B6.jpg', 'B3.jpg', 'B2.jpg', 'B0.jpg']\n",
      "['A0.jpg', 'A1.jpg', 'A3.jpg', 'A2.jpg', 'A4.jpg', 'B5.jpg', 'B2.jpg', 'B1.jpg']\n",
      "['B3.jpg', 'B2.jpg', 'B0.jpg', 'B1.jpg']\n",
      "['A0.jpg', 'A1.jpg', 'A3.jpg', 'A2.jpg', 'A4.jpg', 'B5.jpg', 'B4.jpg', 'B3.jpg', 'B2.jpg', 'B0.jpg', 'B1.jpg']\n",
      "['A0.jpg', 'A1.jpg', 'B5.jpg', 'B4.jpg', 'B3.jpg', 'B2.jpg', 'B0.jpg', 'B1.jpg']\n",
      "['A0.jpg', 'A1.jpg', 'A3.jpg', 'A2.jpg', 'B5.jpg', 'B4.jpg', 'B6.jpg', 'B3.jpg', 'B2.jpg', 'B0.jpg', 'B1.jpg']\n",
      "['A0.jpg', 'A1.jpg', 'A3.jpg', 'A2.jpg', 'A4.jpg', 'B5.jpg', 'B4.jpg', 'B6.jpg', 'B3.jpg', 'B2.jpg', 'B0.jpg', 'B1.jpg']\n",
      "['B5.jpg', 'B4.jpg', 'B6.jpg', 'B3.jpg', 'B2.jpg', 'B1.jpg']\n",
      "['B3.jpg', 'B2.jpg', 'B0.jpg', 'B1.jpg']\n",
      "['B5.jpg', 'B4.jpg', 'B6.jpg', 'B3.jpg', 'B2.jpg']\n",
      "['A0.jpg', 'A1.jpg', 'A3.jpg', 'A2.jpg', 'A4.jpg', 'B5.jpg', 'B4.jpg', 'B6.jpg', 'B3.jpg', 'B2.jpg', 'B0.jpg']\n",
      "['A0.jpg', 'A1.jpg', 'B5.jpg', 'B4.jpg', 'B3.jpg', 'B2.jpg', 'B0.jpg', 'B1.jpg']\n",
      "['B5.jpg', 'B4.jpg', 'B3.jpg', 'B2.jpg', 'B0.jpg', 'B1.jpg']\n",
      "['A0.jpg', 'A1.jpg', 'A3.jpg', 'A2.jpg', 'A4.jpg', 'B5.jpg', 'B4.jpg', 'B6.jpg', 'B3.jpg', 'B2.jpg', 'B0.jpg', 'B1.jpg']\n",
      "['B5.jpg', 'B4.jpg', 'B3.jpg', 'B2.jpg', 'B0.jpg', 'B1.jpg']\n",
      "['B5.jpg', 'B4.jpg', 'B6.jpg', 'B3.jpg', 'B2.jpg', 'B0.jpg', 'B1.jpg']\n",
      "['B3.jpg', 'B2.jpg', 'B0.jpg', 'B1.jpg']\n",
      "['A0.jpg', 'A1.jpg', 'A3.jpg', 'A2.jpg', 'B5.jpg', 'B4.jpg', 'B6.jpg', 'B3.jpg', 'B2.jpg', 'B0.jpg', 'B1.jpg']\n",
      "['A0.jpg', 'B4.jpg', 'B3.jpg', 'B2.jpg', 'B0.jpg', 'B1.jpg']\n",
      "['A0.jpg', 'A1.jpg', 'A3.jpg', 'A2.jpg', 'A4.jpg', 'B4.jpg', 'B6.jpg', 'B2.jpg', 'B1.jpg']\n",
      "['B5.jpg', 'B4.jpg', 'B6.jpg', 'B3.jpg', 'B2.jpg', 'B0.jpg', 'B1.jpg']\n",
      "['A0.jpg', 'A3.jpg', 'A4.jpg', 'B5.jpg', 'B4.jpg', 'B3.jpg', 'B2.jpg', 'B0.jpg', 'B1.jpg']\n",
      "['A0.jpg', 'A1.jpg', 'A3.jpg', 'A2.jpg', 'B5.jpg', 'B4.jpg', 'B6.jpg', 'B3.jpg', 'B2.jpg', 'B0.jpg', 'B1.jpg']\n",
      "['A0.jpg', 'A1.jpg', 'A3.jpg', 'A2.jpg', 'A4.jpg', 'B5.jpg', 'B4.jpg', 'B6.jpg', 'B3.jpg', 'B2.jpg', 'B0.jpg']\n",
      "['A0.jpg', 'A1.jpg', 'A3.jpg', 'A2.jpg', 'A4.jpg', 'B5.jpg', 'B4.jpg', 'B6.jpg', 'B3.jpg', 'B2.jpg', 'B0.jpg', 'B1.jpg']\n",
      "['A0.jpg', 'A1.jpg', 'A3.jpg', 'A2.jpg', 'A4.jpg', 'B5.jpg', 'B6.jpg', 'B3.jpg', 'B2.jpg', 'B0.jpg', 'B1.jpg']\n",
      "['B5.jpg', 'B4.jpg', 'B6.jpg', 'B3.jpg', 'B2.jpg', 'B0.jpg']\n",
      "['A0.jpg', 'A1.jpg', 'A3.jpg', 'A2.jpg', 'B3.jpg', 'B2.jpg', 'B0.jpg', 'B1.jpg']\n",
      "['A0.jpg', 'A1.jpg', 'A3.jpg', 'A2.jpg', 'A4.jpg', 'B4.jpg', 'B3.jpg', 'B2.jpg', 'B0.jpg', 'B1.jpg']\n",
      "['A0.jpg', 'A1.jpg', 'A3.jpg', 'A2.jpg']\n",
      "['A1.jpg', 'A2.jpg', 'B5.jpg', 'B4.jpg', 'B3.jpg', 'B2.jpg', 'B1.jpg']\n",
      "['B6.jpg', 'B2.jpg', 'B0.jpg', 'B1.jpg']\n",
      "['A0.jpg', 'A3.jpg', 'A2.jpg', 'B5.jpg', 'B4.jpg', 'B6.jpg', 'B2.jpg', 'B0.jpg']\n",
      "['A0.jpg', 'A1.jpg', 'A3.jpg', 'A2.jpg', 'B6.jpg', 'B2.jpg', 'B0.jpg', 'B1.jpg']\n",
      "['B5.jpg', 'B4.jpg', 'B6.jpg', 'B2.jpg']\n",
      "['A0.jpg', 'A1.jpg', 'A3.jpg', 'A4.jpg', 'B5.jpg', 'B4.jpg', 'B6.jpg', 'B3.jpg', 'B2.jpg', 'B0.jpg']\n",
      "['A0.jpg', 'B5.jpg', 'B4.jpg', 'B6.jpg', 'B3.jpg', 'B2.jpg', 'B0.jpg', 'B1.jpg']\n",
      "['A1.jpg', 'A3.jpg', 'A2.jpg', 'B5.jpg', 'B4.jpg', 'B6.jpg', 'B3.jpg', 'B2.jpg', 'B0.jpg', 'B1.jpg']\n",
      "['A0.jpg', 'A1.jpg', 'A3.jpg', 'A2.jpg', 'B5.jpg', 'B4.jpg', 'B6.jpg', 'B3.jpg', 'B2.jpg', 'B1.jpg']\n",
      "['A0.jpg', 'A1.jpg', 'A3.jpg', 'A2.jpg', 'B4.jpg', 'B3.jpg', 'B2.jpg', 'B0.jpg']\n",
      "['A0.jpg', 'A1.jpg', 'A3.jpg', 'A2.jpg', 'A4.jpg', 'B5.jpg', 'B6.jpg', 'B3.jpg', 'B2.jpg', 'B1.jpg']\n",
      "['A0.jpg', 'A1.jpg', 'A3.jpg', 'A4.jpg', 'B6.jpg', 'B2.jpg']\n",
      "['A0.jpg', 'A1.jpg', 'A3.jpg', 'A2.jpg', 'A4.jpg', 'B5.jpg', 'B4.jpg', 'B6.jpg', 'B3.jpg', 'B2.jpg', 'B0.jpg', 'B1.jpg']\n",
      "['B5.jpg', 'B4.jpg', 'B6.jpg', 'B3.jpg', 'B2.jpg', 'B1.jpg']\n",
      "['A0.jpg', 'A1.jpg', 'A3.jpg', 'A2.jpg', 'A4.jpg', 'B4.jpg', 'B3.jpg', 'B2.jpg', 'B0.jpg']\n",
      "['B3.jpg', 'B2.jpg', 'B0.jpg', 'B1.jpg']\n",
      "['B5.jpg', 'B4.jpg', 'B6.jpg', 'B3.jpg', 'B2.jpg', 'B0.jpg', 'B1.jpg']\n",
      "['B5.jpg', 'B3.jpg', 'B2.jpg', 'B0.jpg', 'B1.jpg']\n",
      "['A0.jpg', 'A1.jpg', 'A2.jpg', 'B3.jpg', 'B2.jpg', 'B0.jpg', 'B1.jpg']\n",
      "['A0.jpg', 'A1.jpg', 'A2.jpg', 'A4.jpg', 'B5.jpg', 'B3.jpg', 'B2.jpg', 'B0.jpg']\n",
      "['B5.jpg', 'B4.jpg', 'B6.jpg', 'B3.jpg', 'B2.jpg', 'B0.jpg', 'B1.jpg']\n",
      "['A0.jpg', 'A1.jpg', 'A3.jpg', 'A2.jpg', 'A4.jpg', 'B5.jpg', 'B4.jpg', 'B6.jpg', 'B3.jpg', 'B2.jpg', 'B0.jpg', 'B1.jpg']\n",
      "['A0.jpg', 'A1.jpg', 'A3.jpg', 'A2.jpg', 'A4.jpg', 'B5.jpg', 'B4.jpg', 'B3.jpg', 'B2.jpg', 'B0.jpg', 'B1.jpg']\n",
      "['A0.jpg', 'A1.jpg', 'A3.jpg', 'B4.jpg', 'B6.jpg', 'B3.jpg']\n",
      "['B5.jpg', 'B4.jpg', 'B3.jpg', 'B2.jpg', 'B0.jpg', 'B1.jpg']\n",
      "['B5.jpg', 'B4.jpg', 'B6.jpg', 'B3.jpg', 'B2.jpg', 'B1.jpg']\n",
      "['A0.jpg', 'A1.jpg', 'A2.jpg', 'B5.jpg', 'B4.jpg', 'B6.jpg', 'B3.jpg', 'B2.jpg', 'B1.jpg']\n",
      "['B5.jpg', 'B4.jpg', 'B3.jpg', 'B2.jpg', 'B0.jpg', 'B1.jpg']\n",
      "['A0.jpg', 'A1.jpg', 'A3.jpg', 'A2.jpg', 'A4.jpg', 'B5.jpg', 'B4.jpg', 'B6.jpg', 'B3.jpg', 'B2.jpg', 'B0.jpg', 'B1.jpg']\n",
      "['B3.jpg', 'B2.jpg', 'B0.jpg', 'B1.jpg']\n",
      "['A0.jpg', 'A1.jpg', 'A3.jpg', 'A2.jpg', 'A4.jpg', 'B4.jpg', 'B6.jpg', 'B3.jpg', 'B2.jpg']\n",
      "['A0.jpg', 'A1.jpg', 'A3.jpg', 'A2.jpg', 'B4.jpg', 'B6.jpg', 'B3.jpg', 'B2.jpg', 'B0.jpg', 'B1.jpg']\n",
      "['A0.jpg', 'A3.jpg', 'B4.jpg', 'B6.jpg', 'B2.jpg']\n",
      "['A0.jpg', 'A1.jpg', 'A3.jpg', 'A2.jpg', 'A4.jpg', 'B3.jpg', 'B2.jpg', 'B1.jpg']\n",
      "['A1.jpg', 'A3.jpg', 'A2.jpg', 'A4.jpg', 'B4.jpg', 'B2.jpg', 'B0.jpg', 'B1.jpg']\n",
      "['A0.jpg', 'A1.jpg', 'A4.jpg', 'B4.jpg', 'B6.jpg', 'B3.jpg', 'B2.jpg']\n",
      "['A0.jpg', 'A1.jpg', 'A3.jpg', 'A2.jpg', 'B5.jpg', 'B4.jpg', 'B3.jpg', 'B2.jpg', 'B0.jpg', 'B1.jpg']\n",
      "['A0.jpg', 'A1.jpg', 'A3.jpg', 'A2.jpg', 'A4.jpg', 'B4.jpg', 'B2.jpg', 'B0.jpg', 'B1.jpg']\n",
      "['A0.jpg', 'A1.jpg', 'A3.jpg', 'A2.jpg', 'B4.jpg', 'B6.jpg', 'B2.jpg', 'B0.jpg', 'B1.jpg']\n",
      "['A0.jpg', 'A3.jpg', 'A2.jpg', 'B5.jpg', 'B4.jpg', 'B6.jpg', 'B3.jpg', 'B2.jpg', 'B0.jpg', 'B1.jpg']\n",
      "['A0.jpg', 'A1.jpg', 'A3.jpg', 'A2.jpg', 'A4.jpg', 'B4.jpg', 'B6.jpg', 'B2.jpg', 'B0.jpg', 'B1.jpg']\n",
      "['A0.jpg', 'A1.jpg', 'A3.jpg', 'A2.jpg', 'B2.jpg', 'B0.jpg', 'B1.jpg']\n",
      "['A0.jpg', 'A1.jpg', 'A2.jpg', 'B4.jpg', 'B3.jpg', 'B2.jpg', 'B0.jpg', 'B1.jpg']\n",
      "['A0.jpg', 'B3.jpg', 'B2.jpg', 'B0.jpg', 'B1.jpg']\n",
      "['A0.jpg', 'A1.jpg', 'A3.jpg', 'A2.jpg', 'A4.jpg', 'B5.jpg', 'B4.jpg', 'B6.jpg', 'B3.jpg', 'B2.jpg', 'B0.jpg']\n",
      "['A1.jpg', 'A3.jpg', 'A2.jpg', 'B4.jpg', 'B2.jpg', 'B1.jpg']\n",
      "['A0.jpg', 'A1.jpg', 'A2.jpg', 'B5.jpg', 'B4.jpg', 'B3.jpg', 'B2.jpg', 'B0.jpg', 'B1.jpg']\n",
      "['A0.jpg', 'A1.jpg', 'A3.jpg', 'A2.jpg', 'A4.jpg', 'B5.jpg', 'B4.jpg', 'B6.jpg', 'B3.jpg', 'B2.jpg', 'B0.jpg', 'B1.jpg']\n",
      "['A0.jpg', 'A1.jpg', 'A3.jpg', 'A2.jpg', 'A4.jpg', 'B4.jpg', 'B6.jpg', 'B2.jpg', 'B0.jpg', 'B1.jpg']\n",
      "['A0.jpg', 'A1.jpg', 'A3.jpg', 'A2.jpg', 'A4.jpg', 'B6.jpg', 'B3.jpg', 'B2.jpg', 'B0.jpg', 'B1.jpg']\n",
      "['A0.jpg', 'A1.jpg', 'A3.jpg', 'A2.jpg', 'A4.jpg', 'B4.jpg', 'B6.jpg', 'B3.jpg', 'B2.jpg', 'B1.jpg']\n",
      "['A0.jpg', 'A1.jpg', 'A3.jpg', 'A2.jpg', 'B5.jpg', 'B4.jpg', 'B6.jpg', 'B3.jpg', 'B2.jpg', 'B1.jpg']\n",
      "['B3.jpg', 'B2.jpg', 'B0.jpg', 'B1.jpg']\n",
      "['A0.jpg', 'A1.jpg', 'A3.jpg', 'A2.jpg', 'B6.jpg']\n",
      "['A0.jpg', 'A1.jpg', 'B5.jpg', 'B4.jpg', 'B6.jpg', 'B3.jpg', 'B2.jpg', 'B0.jpg', 'B1.jpg']\n",
      "['A0.jpg', 'A1.jpg', 'A3.jpg', 'A4.jpg', 'B5.jpg', 'B2.jpg', 'B0.jpg', 'B1.jpg']\n",
      "['A0.jpg', 'A1.jpg', 'A3.jpg', 'A2.jpg', 'A4.jpg', 'B5.jpg', 'B4.jpg', 'B6.jpg', 'B3.jpg', 'B2.jpg', 'B0.jpg', 'B1.jpg']\n",
      "['B5.jpg', 'B4.jpg', 'B3.jpg', 'B0.jpg', 'B1.jpg']\n",
      "['A1.jpg', 'A3.jpg', 'A2.jpg', 'A4.jpg']\n",
      "['B5.jpg', 'B4.jpg', 'B6.jpg', 'B3.jpg', 'B2.jpg', 'B0.jpg']\n",
      "['A0.jpg', 'A1.jpg', 'B5.jpg', 'B4.jpg', 'B3.jpg', 'B2.jpg', 'B0.jpg', 'B1.jpg']\n",
      "['B3.jpg', 'B2.jpg', 'B0.jpg', 'B1.jpg']\n",
      "['A0.jpg', 'A1.jpg', 'A3.jpg', 'A2.jpg', 'B5.jpg', 'B6.jpg', 'B3.jpg', 'B2.jpg', 'B0.jpg', 'B1.jpg']\n",
      "['A0.jpg', 'A1.jpg', 'A3.jpg', 'A2.jpg', 'B5.jpg', 'B3.jpg', 'B2.jpg', 'B0.jpg', 'B1.jpg']\n",
      "['A0.jpg', 'A1.jpg', 'A3.jpg', 'A2.jpg', 'A4.jpg', 'B5.jpg', 'B4.jpg', 'B6.jpg', 'B3.jpg', 'B2.jpg', 'B0.jpg', 'B1.jpg']\n",
      "['B5.jpg', 'B4.jpg', 'B3.jpg', 'B2.jpg', 'B0.jpg', 'B1.jpg']\n",
      "['B3.jpg', 'B2.jpg', 'B0.jpg', 'B1.jpg']\n",
      "['A0.jpg', 'A1.jpg', 'A3.jpg', 'A2.jpg', 'A4.jpg', 'B5.jpg', 'B4.jpg', 'B6.jpg', 'B3.jpg', 'B2.jpg', 'B0.jpg', 'B1.jpg']\n",
      "['B5.jpg', 'B4.jpg', 'B6.jpg', 'B3.jpg', 'B2.jpg', 'B0.jpg', 'B1.jpg']\n",
      "['A0.jpg', 'A1.jpg', 'B5.jpg', 'B4.jpg', 'B3.jpg', 'B2.jpg', 'B0.jpg', 'B1.jpg']\n",
      "['A0.jpg', 'A1.jpg', 'A3.jpg', 'A2.jpg', 'A4.jpg', 'B5.jpg', 'B4.jpg', 'B6.jpg', 'B3.jpg', 'B2.jpg', 'B1.jpg']\n",
      "['A0.jpg', 'A1.jpg', 'A3.jpg', 'A2.jpg', 'B5.jpg', 'B3.jpg', 'B2.jpg']\n",
      "['A0.jpg', 'A3.jpg', 'A4.jpg', 'B5.jpg', 'B4.jpg', 'B6.jpg', 'B3.jpg', 'B2.jpg', 'B0.jpg', 'B1.jpg']\n",
      "['A1.jpg', 'A3.jpg', 'A2.jpg', 'A4.jpg', 'B5.jpg', 'B4.jpg', 'B6.jpg', 'B3.jpg', 'B2.jpg', 'B1.jpg']\n",
      "['A0.jpg', 'A1.jpg', 'A3.jpg', 'A2.jpg', 'B5.jpg', 'B4.jpg', 'B6.jpg', 'B3.jpg', 'B2.jpg', 'B0.jpg', 'B1.jpg']\n",
      "['A0.jpg', 'A1.jpg', 'A3.jpg', 'A2.jpg', 'B5.jpg', 'B3.jpg']\n",
      "['B5.jpg', 'B4.jpg', 'B6.jpg', 'B3.jpg', 'B2.jpg', 'B0.jpg', 'B1.jpg']\n",
      "['A0.jpg', 'A1.jpg', 'A3.jpg', 'A2.jpg', 'A4.jpg', 'B5.jpg', 'B6.jpg', 'B2.jpg', 'B0.jpg', 'B1.jpg']\n",
      "['A0.jpg', 'A1.jpg', 'A3.jpg', 'A2.jpg', 'B4.jpg', 'B3.jpg', 'B2.jpg', 'B0.jpg', 'B1.jpg']\n",
      "['B3.jpg', 'B2.jpg', 'B0.jpg', 'B1.jpg']\n",
      "['A0.jpg', 'A1.jpg', 'A3.jpg', 'A2.jpg', 'A4.jpg', 'B5.jpg', 'B0.jpg', 'B1.jpg']\n",
      "['A0.jpg', 'A1.jpg', 'A3.jpg', 'A2.jpg', 'A4.jpg', 'B5.jpg', 'B4.jpg', 'B6.jpg', 'B3.jpg', 'B2.jpg', 'B0.jpg', 'B1.jpg']\n",
      "['A0.jpg', 'A1.jpg', 'A3.jpg', 'A2.jpg', 'B4.jpg', 'B2.jpg', 'B0.jpg', 'B1.jpg']\n",
      "['A0.jpg', 'A1.jpg', 'B5.jpg', 'B4.jpg', 'B3.jpg', 'B2.jpg', 'B0.jpg', 'B1.jpg']\n",
      "['B5.jpg', 'B3.jpg', 'B2.jpg', 'B0.jpg', 'B1.jpg']\n",
      "['A0.jpg', 'A1.jpg', 'A3.jpg', 'A2.jpg', 'B4.jpg', 'B3.jpg', 'B2.jpg', 'B0.jpg', 'B1.jpg']\n",
      "['A0.jpg', 'A1.jpg', 'A3.jpg', 'A2.jpg', 'A4.jpg', 'B5.jpg', 'B4.jpg', 'B6.jpg', 'B3.jpg', 'B2.jpg', 'B0.jpg', 'B1.jpg']\n",
      "['A0.jpg', 'A1.jpg', 'A3.jpg', 'A2.jpg', 'A4.jpg', 'B4.jpg', 'B3.jpg', 'B2.jpg', 'B0.jpg', 'B1.jpg']\n",
      "['A0.jpg', 'A1.jpg', 'A3.jpg', 'A2.jpg', 'B5.jpg', 'B3.jpg', 'B2.jpg', 'B0.jpg', 'B1.jpg']\n",
      "['A0.jpg', 'A1.jpg', 'B4.jpg', 'B3.jpg', 'B0.jpg']\n",
      "['A0.jpg', 'A1.jpg', 'A3.jpg', 'A2.jpg', 'A4.jpg', 'B5.jpg', 'B2.jpg']\n",
      "['A0.jpg', 'A1.jpg', 'A3.jpg', 'A2.jpg', 'A4.jpg', 'B5.jpg', 'B6.jpg', 'B3.jpg', 'B2.jpg', 'B0.jpg', 'B1.jpg']\n",
      "['B3.jpg', 'B2.jpg', 'B0.jpg', 'B1.jpg']\n",
      "['A0.jpg', 'A1.jpg', 'A3.jpg', 'A2.jpg', 'A4.jpg', 'B4.jpg', 'B3.jpg', 'B2.jpg', 'B0.jpg']\n",
      "['A0.jpg', 'A1.jpg', 'A3.jpg', 'A2.jpg', 'B5.jpg', 'B4.jpg', 'B2.jpg', 'B0.jpg', 'B1.jpg']\n",
      "['A0.jpg', 'A1.jpg', 'A3.jpg', 'A2.jpg', 'A4.jpg', 'B5.jpg', 'B4.jpg', 'B6.jpg', 'B3.jpg', 'B2.jpg', 'B0.jpg', 'B1.jpg']\n",
      "['A0.jpg', 'A1.jpg', 'A4.jpg', 'B5.jpg', 'B4.jpg', 'B6.jpg', 'B3.jpg', 'B0.jpg', 'B1.jpg']\n",
      "['B3.jpg', 'B2.jpg', 'B0.jpg', 'B1.jpg']\n",
      "['B3.jpg', 'B2.jpg', 'B0.jpg', 'B1.jpg']\n",
      "['A0.jpg', 'A1.jpg', 'A3.jpg', 'A2.jpg', 'A4.jpg', 'B4.jpg', 'B6.jpg', 'B3.jpg', 'B2.jpg', 'B0.jpg', 'B1.jpg']\n",
      "['A0.jpg', 'A1.jpg', 'A3.jpg', 'A2.jpg', 'A4.jpg', 'B5.jpg', 'B4.jpg', 'B6.jpg', 'B3.jpg', 'B2.jpg', 'B0.jpg', 'B1.jpg']\n",
      "['A0.jpg', 'A1.jpg', 'A3.jpg', 'A2.jpg', 'A4.jpg', 'B2.jpg', 'B0.jpg', 'B1.jpg']\n",
      "['A0.jpg', 'A1.jpg', 'A3.jpg', 'A2.jpg', 'A4.jpg', 'B4.jpg', 'B6.jpg', 'B3.jpg', 'B2.jpg', 'B0.jpg', 'B1.jpg']\n",
      "['A0.jpg', 'A1.jpg', 'A3.jpg', 'A2.jpg', 'A4.jpg', 'B5.jpg', 'B4.jpg', 'B3.jpg', 'B2.jpg', 'B0.jpg', 'B1.jpg']\n",
      "['A0.jpg', 'A1.jpg', 'A2.jpg', 'B5.jpg', 'B4.jpg', 'B3.jpg', 'B2.jpg', 'B0.jpg', 'B1.jpg']\n",
      "['A0.jpg', 'A1.jpg', 'A2.jpg', 'B2.jpg', 'B0.jpg', 'B1.jpg']\n",
      "['A0.jpg', 'B4.jpg', 'B6.jpg', 'B2.jpg', 'B0.jpg', 'B1.jpg']\n",
      "['A0.jpg', 'B5.jpg', 'B4.jpg', 'B3.jpg', 'B2.jpg', 'B0.jpg', 'B1.jpg']\n",
      "['A0.jpg', 'A3.jpg', 'A2.jpg', 'A4.jpg', 'B5.jpg', 'B4.jpg', 'B6.jpg', 'B3.jpg', 'B2.jpg', 'B0.jpg', 'B1.jpg']\n",
      "['A0.jpg', 'A1.jpg', 'A3.jpg', 'A2.jpg', 'A4.jpg', 'B5.jpg', 'B4.jpg', 'B3.jpg', 'B2.jpg', 'B0.jpg', 'B1.jpg']\n",
      "['A0.jpg', 'A1.jpg', 'A3.jpg', 'A2.jpg', 'A4.jpg', 'B5.jpg', 'B4.jpg', 'B6.jpg', 'B3.jpg', 'B2.jpg', 'B0.jpg', 'B1.jpg']\n",
      "['A0.jpg', 'A1.jpg', 'A3.jpg', 'A2.jpg', 'A4.jpg', 'B5.jpg', 'B4.jpg', 'B3.jpg', 'B2.jpg', 'B0.jpg', 'B1.jpg']\n",
      "['B3.jpg', 'B2.jpg', 'B0.jpg', 'B1.jpg']\n",
      "['A0.jpg', 'A1.jpg', 'A3.jpg', 'A2.jpg', 'B5.jpg', 'B4.jpg', 'B3.jpg', 'B2.jpg', 'B0.jpg', 'B1.jpg']\n",
      "['A0.jpg', 'A1.jpg', 'A2.jpg', 'B5.jpg', 'B4.jpg', 'B6.jpg', 'B2.jpg', 'B0.jpg', 'B1.jpg']\n",
      "['B5.jpg', 'B4.jpg', 'B3.jpg', 'B2.jpg', 'B0.jpg', 'B1.jpg']\n",
      "['B5.jpg', 'B4.jpg', 'B3.jpg', 'B2.jpg', 'B0.jpg', 'B1.jpg']\n",
      "['B3.jpg', 'B2.jpg', 'B0.jpg', 'B1.jpg']\n",
      "['A0.jpg', 'A1.jpg', 'A3.jpg', 'A2.jpg', 'A4.jpg', 'B5.jpg', 'B4.jpg', 'B2.jpg', 'B0.jpg', 'B1.jpg']\n",
      "['A0.jpg', 'A1.jpg', 'A3.jpg', 'A2.jpg', 'A4.jpg', 'B5.jpg', 'B4.jpg', 'B6.jpg', 'B3.jpg', 'B2.jpg', 'B0.jpg', 'B1.jpg']\n",
      "['A0.jpg', 'A1.jpg', 'A2.jpg', 'B5.jpg', 'B4.jpg', 'B3.jpg', 'B2.jpg', 'B0.jpg', 'B1.jpg']\n",
      "['A1.jpg', 'A3.jpg', 'A2.jpg', 'A4.jpg', 'B5.jpg', 'B4.jpg', 'B3.jpg', 'B0.jpg']\n",
      "['A0.jpg', 'A3.jpg', 'A2.jpg', 'A4.jpg', 'B5.jpg', 'B4.jpg', 'B6.jpg', 'B3.jpg', 'B2.jpg', 'B0.jpg', 'B1.jpg']\n",
      "['B3.jpg', 'B2.jpg', 'B0.jpg', 'B1.jpg']\n",
      "['B5.jpg', 'B4.jpg', 'B3.jpg', 'B2.jpg', 'B0.jpg', 'B1.jpg']\n",
      "['A0.jpg', 'A1.jpg', 'A3.jpg', 'A2.jpg', 'A4.jpg', 'B4.jpg', 'B3.jpg', 'B2.jpg', 'B0.jpg', 'B1.jpg']\n",
      "['A0.jpg', 'A1.jpg', 'A3.jpg', 'A2.jpg', 'A4.jpg', 'B5.jpg', 'B4.jpg', 'B6.jpg', 'B3.jpg', 'B2.jpg', 'B0.jpg', 'B1.jpg']\n",
      "['A0.jpg', 'A1.jpg', 'A2.jpg', 'B0.jpg', 'B1.jpg']\n",
      "['B5.jpg', 'B4.jpg', 'B3.jpg', 'B2.jpg', 'B0.jpg', 'B1.jpg']\n",
      "['A0.jpg', 'A1.jpg', 'A3.jpg', 'A2.jpg', 'A4.jpg', 'B5.jpg', 'B4.jpg', 'B6.jpg', 'B3.jpg', 'B2.jpg', 'B0.jpg', 'B1.jpg']\n",
      "['A1.jpg', 'A3.jpg', 'A2.jpg', 'B5.jpg', 'B6.jpg', 'B2.jpg', 'B0.jpg', 'B1.jpg']\n",
      "['B5.jpg', 'B4.jpg', 'B6.jpg', 'B2.jpg', 'B0.jpg']\n",
      "['B3.jpg', 'B2.jpg', 'B0.jpg', 'B1.jpg']\n",
      "['A1.jpg', 'A3.jpg', 'A2.jpg', 'A4.jpg', 'B5.jpg', 'B2.jpg']\n",
      "['A3.jpg', 'A2.jpg', 'A4.jpg', 'B5.jpg', 'B4.jpg', 'B6.jpg', 'B3.jpg', 'B2.jpg', 'B0.jpg', 'B1.jpg']\n",
      "['A0.jpg', 'A1.jpg', 'A3.jpg', 'A2.jpg', 'A4.jpg', 'B5.jpg', 'B4.jpg', 'B6.jpg', 'B3.jpg', 'B2.jpg', 'B0.jpg', 'B1.jpg']\n",
      "['A0.jpg', 'A1.jpg', 'A3.jpg', 'A2.jpg', 'B4.jpg', 'B6.jpg', 'B3.jpg', 'B2.jpg', 'B0.jpg', 'B1.jpg']\n",
      "['A0.jpg', 'A1.jpg', 'A3.jpg', 'A2.jpg', 'A4.jpg', 'B5.jpg', 'B4.jpg', 'B3.jpg', 'B2.jpg', 'B0.jpg', 'B1.jpg']\n",
      "['A0.jpg', 'A1.jpg', 'A2.jpg', 'A4.jpg', 'B5.jpg', 'B6.jpg', 'B3.jpg', 'B2.jpg', 'B1.jpg']\n",
      "['A0.jpg', 'A1.jpg', 'A2.jpg', 'B5.jpg', 'B4.jpg', 'B6.jpg', 'B3.jpg', 'B2.jpg', 'B1.jpg']\n",
      "['A0.jpg', 'A1.jpg', 'A3.jpg', 'A2.jpg', 'A4.jpg', 'B3.jpg', 'B2.jpg', 'B0.jpg', 'B1.jpg']\n",
      "['B3.jpg', 'B2.jpg', 'B0.jpg', 'B1.jpg']\n",
      "['A0.jpg', 'A1.jpg', 'A3.jpg', 'A2.jpg', 'B5.jpg', 'B4.jpg', 'B6.jpg', 'B3.jpg', 'B2.jpg', 'B0.jpg', 'B1.jpg']\n",
      "['A0.jpg', 'A1.jpg', 'A3.jpg', 'A2.jpg', 'A4.jpg', 'B5.jpg', 'B4.jpg', 'B6.jpg', 'B3.jpg', 'B2.jpg', 'B0.jpg', 'B1.jpg']\n",
      "['A0.jpg', 'B4.jpg', 'B3.jpg', 'B2.jpg', 'B0.jpg', 'B1.jpg']\n",
      "['A3.jpg', 'A2.jpg', 'A4.jpg', 'B5.jpg', 'B4.jpg', 'B3.jpg']\n",
      "['A0.jpg', 'A1.jpg', 'A3.jpg', 'A2.jpg', 'A4.jpg', 'B5.jpg', 'B4.jpg', 'B6.jpg', 'B3.jpg', 'B2.jpg', 'B0.jpg', 'B1.jpg']\n",
      "['B5.jpg', 'B4.jpg', 'B3.jpg', 'B2.jpg', 'B0.jpg', 'B1.jpg']\n",
      "['A0.jpg', 'A4.jpg', 'B5.jpg', 'B4.jpg', 'B6.jpg', 'B3.jpg', 'B2.jpg', 'B0.jpg', 'B1.jpg']\n",
      "['A0.jpg', 'A1.jpg', 'A3.jpg', 'A2.jpg', 'A4.jpg', 'B5.jpg', 'B4.jpg', 'B6.jpg', 'B3.jpg', 'B2.jpg', 'B0.jpg', 'B1.jpg']\n",
      "['B3.jpg', 'B2.jpg', 'B0.jpg', 'B1.jpg']\n",
      "['A0.jpg', 'A1.jpg', 'A3.jpg', 'A2.jpg', 'A4.jpg', 'B5.jpg', 'B3.jpg', 'B2.jpg', 'B0.jpg']\n",
      "['A0.jpg', 'A1.jpg', 'A3.jpg', 'A2.jpg', 'B4.jpg', 'B6.jpg', 'B2.jpg', 'B1.jpg']\n",
      "['A0.jpg', 'A1.jpg', 'A3.jpg', 'A2.jpg', 'A4.jpg', 'B5.jpg', 'B4.jpg', 'B6.jpg', 'B2.jpg', 'B0.jpg', 'B1.jpg']\n",
      "['B3.jpg', 'B2.jpg', 'B0.jpg', 'B1.jpg']\n",
      "['A0.jpg', 'A1.jpg', 'A3.jpg', 'A2.jpg', 'A4.jpg', 'B5.jpg', 'B4.jpg', 'B6.jpg', 'B3.jpg', 'B2.jpg', 'B0.jpg', 'B1.jpg']\n",
      "['A0.jpg', 'A1.jpg', 'A2.jpg', 'B0.jpg']\n",
      "['A0.jpg', 'A1.jpg', 'A2.jpg', 'B5.jpg', 'B4.jpg', 'B3.jpg', 'B2.jpg', 'B1.jpg']\n",
      "['A3.jpg', 'A2.jpg', 'A4.jpg', 'B5.jpg', 'B4.jpg', 'B6.jpg', 'B3.jpg', 'B2.jpg']\n",
      "['B5.jpg', 'B4.jpg', 'B6.jpg', 'B3.jpg', 'B2.jpg', 'B0.jpg', 'B1.jpg']\n",
      "['A0.jpg', 'A1.jpg', 'A3.jpg', 'A2.jpg', 'A4.jpg', 'B5.jpg', 'B4.jpg', 'B6.jpg', 'B3.jpg', 'B2.jpg', 'B0.jpg', 'B1.jpg']\n",
      "['A0.jpg', 'A1.jpg', 'A3.jpg', 'A2.jpg', 'A4.jpg', 'B4.jpg', 'B6.jpg', 'B2.jpg', 'B0.jpg', 'B1.jpg']\n",
      "['A0.jpg', 'A1.jpg', 'A3.jpg', 'A2.jpg', 'A4.jpg', 'B5.jpg', 'B4.jpg', 'B6.jpg', 'B3.jpg', 'B2.jpg', 'B0.jpg', 'B1.jpg']\n",
      "['A0.jpg', 'A1.jpg', 'A3.jpg', 'A2.jpg', 'B5.jpg', 'B4.jpg', 'B6.jpg', 'B3.jpg', 'B2.jpg', 'B0.jpg', 'B1.jpg']\n",
      "['A0.jpg', 'A1.jpg', 'A3.jpg', 'A2.jpg', 'B3.jpg', 'B2.jpg', 'B1.jpg']\n",
      "['A0.jpg', 'A1.jpg', 'A3.jpg', 'A2.jpg', 'A4.jpg', 'B5.jpg', 'B4.jpg', 'B6.jpg', 'B3.jpg', 'B2.jpg', 'B1.jpg']\n",
      "['B3.jpg', 'B2.jpg', 'B0.jpg', 'B1.jpg']\n",
      "['B5.jpg', 'B4.jpg', 'B6.jpg', 'B3.jpg', 'B2.jpg', 'B0.jpg', 'B1.jpg']\n",
      "['A0.jpg', 'A3.jpg', 'A2.jpg', 'A4.jpg', 'B4.jpg', 'B6.jpg', 'B2.jpg']\n",
      "['A0.jpg', 'A1.jpg', 'A3.jpg', 'A2.jpg', 'B3.jpg']\n",
      "['A0.jpg', 'A1.jpg', 'A3.jpg', 'A2.jpg', 'A4.jpg', 'B5.jpg', 'B4.jpg', 'B6.jpg', 'B3.jpg', 'B2.jpg']\n",
      "['A0.jpg', 'A1.jpg', 'A3.jpg', 'A2.jpg', 'A4.jpg', 'B5.jpg', 'B4.jpg', 'B6.jpg', 'B3.jpg', 'B2.jpg', 'B0.jpg', 'B1.jpg']\n",
      "['B5.jpg', 'B3.jpg', 'B2.jpg', 'B0.jpg', 'B1.jpg']\n",
      "['B5.jpg', 'B4.jpg', 'B6.jpg', 'B2.jpg', 'B0.jpg']\n",
      "['A0.jpg', 'A1.jpg', 'A2.jpg', 'B5.jpg', 'B4.jpg', 'B3.jpg', 'B2.jpg', 'B1.jpg']\n",
      "['A0.jpg', 'A1.jpg', 'A3.jpg', 'A2.jpg', 'A4.jpg', 'B5.jpg', 'B4.jpg', 'B6.jpg', 'B3.jpg', 'B2.jpg', 'B0.jpg', 'B1.jpg']\n",
      "['A0.jpg', 'A1.jpg', 'A3.jpg', 'A2.jpg', 'B5.jpg', 'B4.jpg', 'B2.jpg', 'B0.jpg', 'B1.jpg']\n",
      "['A0.jpg', 'A1.jpg', 'A3.jpg', 'A2.jpg', 'A4.jpg', 'B5.jpg', 'B4.jpg', 'B6.jpg', 'B3.jpg', 'B2.jpg', 'B0.jpg', 'B1.jpg']\n",
      "['B5.jpg', 'B4.jpg', 'B6.jpg', 'B3.jpg', 'B2.jpg']\n",
      "['A0.jpg', 'A1.jpg', 'A3.jpg', 'A2.jpg', 'B5.jpg', 'B4.jpg', 'B6.jpg', 'B3.jpg', 'B2.jpg', 'B0.jpg']\n",
      "['A0.jpg', 'A1.jpg', 'A3.jpg', 'A2.jpg', 'A4.jpg', 'B5.jpg', 'B3.jpg', 'B2.jpg', 'B0.jpg', 'B1.jpg']\n",
      "['A0.jpg', 'A3.jpg', 'A2.jpg', 'A4.jpg', 'B3.jpg']\n",
      "['A0.jpg', 'A1.jpg', 'A3.jpg', 'A2.jpg', 'A4.jpg', 'B5.jpg', 'B6.jpg', 'B3.jpg', 'B2.jpg', 'B0.jpg', 'B1.jpg']\n",
      "['A0.jpg', 'A1.jpg', 'A3.jpg', 'A2.jpg', 'A4.jpg', 'B5.jpg', 'B4.jpg', 'B3.jpg', 'B2.jpg', 'B1.jpg']\n",
      "['A0.jpg', 'A1.jpg', 'A3.jpg', 'A2.jpg', 'A4.jpg', 'B5.jpg', 'B4.jpg', 'B6.jpg', 'B3.jpg', 'B2.jpg', 'B0.jpg', 'B1.jpg']\n",
      "['A0.jpg', 'A1.jpg', 'B5.jpg', 'B4.jpg', 'B3.jpg', 'B2.jpg', 'B1.jpg']\n",
      "['A0.jpg', 'A1.jpg', 'A3.jpg', 'A2.jpg', 'A4.jpg', 'B4.jpg', 'B3.jpg', 'B2.jpg', 'B0.jpg', 'B1.jpg']\n",
      "['A0.jpg', 'A1.jpg', 'A3.jpg', 'A2.jpg', 'B4.jpg', 'B3.jpg', 'B2.jpg', 'B0.jpg', 'B1.jpg']\n",
      "['A0.jpg', 'A1.jpg', 'A3.jpg', 'A2.jpg', 'A4.jpg', 'B5.jpg', 'B4.jpg', 'B6.jpg', 'B3.jpg', 'B2.jpg', 'B0.jpg', 'B1.jpg']\n",
      "['A0.jpg', 'A1.jpg', 'A3.jpg', 'A2.jpg', 'A4.jpg', 'B2.jpg', 'B0.jpg', 'B1.jpg']\n",
      "['A3.jpg', 'A2.jpg', 'B5.jpg', 'B4.jpg', 'B3.jpg', 'B2.jpg', 'B0.jpg', 'B1.jpg']\n",
      "['A0.jpg', 'A1.jpg', 'A3.jpg', 'A2.jpg', 'A4.jpg', 'B5.jpg', 'B4.jpg', 'B6.jpg', 'B3.jpg', 'B2.jpg', 'B0.jpg']\n",
      "['A0.jpg', 'A1.jpg', 'A3.jpg', 'A2.jpg', 'A4.jpg', 'B5.jpg', 'B4.jpg', 'B6.jpg', 'B3.jpg', 'B2.jpg', 'B0.jpg', 'B1.jpg']\n",
      "['B5.jpg', 'B4.jpg', 'B6.jpg', 'B3.jpg', 'B2.jpg', 'B0.jpg', 'B1.jpg']\n",
      "['A0.jpg', 'A1.jpg', 'A3.jpg', 'A2.jpg', 'B5.jpg', 'B4.jpg', 'B6.jpg', 'B3.jpg', 'B2.jpg', 'B0.jpg', 'B1.jpg']\n",
      "['A0.jpg', 'A1.jpg', 'A3.jpg', 'A2.jpg', 'B5.jpg', 'B4.jpg', 'B3.jpg', 'B2.jpg', 'B0.jpg', 'B1.jpg']\n",
      "['B4.jpg', 'B2.jpg', 'B0.jpg', 'B1.jpg']\n",
      "['B3.jpg', 'B2.jpg', 'B0.jpg', 'B1.jpg']\n",
      "['A0.jpg', 'A1.jpg', 'A3.jpg', 'A2.jpg', 'A4.jpg']\n",
      "['A0.jpg', 'A1.jpg', 'A3.jpg', 'A2.jpg', 'A4.jpg', 'B5.jpg', 'B4.jpg', 'B3.jpg', 'B2.jpg', 'B1.jpg']\n",
      "['B5.jpg', 'B4.jpg', 'B6.jpg', 'B3.jpg', 'B2.jpg', 'B0.jpg', 'B1.jpg']\n",
      "['B3.jpg', 'B2.jpg', 'B0.jpg', 'B1.jpg']\n",
      "['B3.jpg', 'B2.jpg', 'B0.jpg', 'B1.jpg']\n",
      "['A0.jpg', 'A1.jpg', 'A3.jpg', 'A2.jpg', 'A4.jpg', 'B5.jpg', 'B4.jpg', 'B6.jpg', 'B3.jpg', 'B0.jpg']\n",
      "['A0.jpg', 'A1.jpg', 'A3.jpg', 'A2.jpg', 'A4.jpg', 'B5.jpg', 'B4.jpg', 'B6.jpg', 'B3.jpg', 'B2.jpg', 'B0.jpg', 'B1.jpg']\n",
      "['A0.jpg', 'A1.jpg', 'A2.jpg', 'B4.jpg', 'B3.jpg', 'B2.jpg', 'B0.jpg']\n",
      "['A0.jpg', 'A1.jpg', 'B5.jpg', 'B4.jpg', 'B6.jpg', 'B3.jpg', 'B2.jpg', 'B0.jpg', 'B1.jpg']\n",
      "['A0.jpg', 'A1.jpg', 'A3.jpg', 'A2.jpg', 'B5.jpg', 'B6.jpg', 'B2.jpg', 'B0.jpg', 'B1.jpg']\n",
      "['B5.jpg', 'B4.jpg', 'B3.jpg', 'B2.jpg', 'B0.jpg', 'B1.jpg']\n",
      "['B4.jpg', 'B6.jpg', 'B2.jpg', 'B0.jpg']\n",
      "['A0.jpg', 'A1.jpg', 'A3.jpg', 'A2.jpg', 'A4.jpg', 'B4.jpg', 'B6.jpg', 'B2.jpg', 'B0.jpg', 'B1.jpg']\n",
      "['A0.jpg', 'A1.jpg', 'A3.jpg', 'B5.jpg', 'B4.jpg', 'B6.jpg', 'B3.jpg', 'B2.jpg', 'B0.jpg', 'B1.jpg']\n",
      "['A0.jpg', 'A1.jpg', 'A3.jpg', 'A2.jpg', 'A4.jpg', 'B5.jpg', 'B4.jpg', 'B6.jpg', 'B3.jpg', 'B2.jpg', 'B0.jpg', 'B1.jpg']\n",
      "['B3.jpg', 'B2.jpg', 'B0.jpg', 'B1.jpg']\n",
      "['A0.jpg', 'A1.jpg', 'A3.jpg', 'A2.jpg', 'A4.jpg', 'B5.jpg', 'B4.jpg', 'B3.jpg', 'B2.jpg', 'B0.jpg', 'B1.jpg']\n",
      "['A0.jpg', 'A1.jpg', 'A3.jpg', 'A2.jpg', 'A4.jpg', 'B5.jpg', 'B4.jpg', 'B6.jpg', 'B3.jpg', 'B2.jpg', 'B0.jpg']\n",
      "['A0.jpg', 'A1.jpg', 'A3.jpg', 'A2.jpg', 'A4.jpg', 'B5.jpg', 'B4.jpg', 'B6.jpg', 'B3.jpg', 'B2.jpg', 'B0.jpg', 'B1.jpg']\n",
      "['A0.jpg', 'A1.jpg', 'A2.jpg', 'B4.jpg', 'B6.jpg', 'B3.jpg']\n",
      "['A0.jpg', 'B2.jpg', 'B0.jpg', 'B1.jpg']\n",
      "['A0.jpg', 'A1.jpg', 'A3.jpg', 'A2.jpg', 'A4.jpg', 'B5.jpg', 'B4.jpg', 'B6.jpg', 'B3.jpg', 'B2.jpg', 'B0.jpg', 'B1.jpg']\n",
      "['B3.jpg', 'B2.jpg', 'B0.jpg', 'B1.jpg']\n",
      "['B5.jpg', 'B6.jpg', 'B3.jpg', 'B2.jpg', 'B0.jpg', 'B1.jpg']\n",
      "['A0.jpg', 'A1.jpg', 'A3.jpg', 'A2.jpg', 'A4.jpg', 'B5.jpg', 'B4.jpg', 'B6.jpg', 'B2.jpg', 'B0.jpg', 'B1.jpg']\n",
      "['A0.jpg', 'B5.jpg', 'B4.jpg', 'B3.jpg', 'B2.jpg', 'B1.jpg']\n",
      "['A0.jpg', 'A1.jpg', 'A3.jpg', 'A2.jpg', 'A4.jpg', 'B4.jpg', 'B6.jpg', 'B3.jpg', 'B2.jpg']\n",
      "['A0.jpg', 'A1.jpg', 'B4.jpg', 'B3.jpg', 'B2.jpg', 'B0.jpg', 'B1.jpg']\n",
      "['B3.jpg', 'B2.jpg', 'B0.jpg', 'B1.jpg']\n",
      "['B3.jpg', 'B2.jpg', 'B0.jpg', 'B1.jpg']\n",
      "['A0.jpg', 'A1.jpg', 'A3.jpg', 'A4.jpg', 'B5.jpg', 'B4.jpg', 'B6.jpg', 'B3.jpg', 'B2.jpg', 'B0.jpg']\n",
      "['A0.jpg', 'A1.jpg', 'A3.jpg', 'A2.jpg', 'B4.jpg', 'B2.jpg']\n",
      "['A0.jpg', 'A1.jpg', 'A3.jpg', 'A2.jpg', 'A4.jpg', 'B5.jpg', 'B4.jpg', 'B3.jpg', 'B2.jpg', 'B0.jpg', 'B1.jpg']\n",
      "['A0.jpg', 'A1.jpg', 'A3.jpg', 'A2.jpg', 'A4.jpg', 'B5.jpg', 'B6.jpg', 'B2.jpg', 'B0.jpg', 'B1.jpg']\n",
      "['A0.jpg', 'A1.jpg', 'A3.jpg', 'A2.jpg', 'A4.jpg', 'B5.jpg', 'B4.jpg', 'B6.jpg', 'B3.jpg', 'B2.jpg', 'B0.jpg']\n",
      "['B3.jpg', 'B2.jpg', 'B0.jpg', 'B1.jpg']\n",
      "['A0.jpg', 'A1.jpg', 'A2.jpg', 'B4.jpg', 'B3.jpg', 'B2.jpg', 'B0.jpg', 'B1.jpg']\n",
      "['B5.jpg', 'B4.jpg', 'B3.jpg', 'B2.jpg', 'B0.jpg']\n",
      "['A0.jpg', 'A1.jpg', 'A3.jpg', 'A2.jpg', 'A4.jpg', 'B4.jpg', 'B6.jpg', 'B2.jpg', 'B0.jpg', 'B1.jpg']\n",
      "['A0.jpg', 'A1.jpg', 'A3.jpg', 'A2.jpg', 'A4.jpg', 'B5.jpg']\n",
      "['A0.jpg', 'A1.jpg', 'A3.jpg', 'A2.jpg', 'A4.jpg', 'B5.jpg', 'B4.jpg', 'B6.jpg', 'B3.jpg', 'B2.jpg', 'B1.jpg']\n",
      "['A0.jpg', 'A1.jpg', 'A3.jpg', 'B5.jpg', 'B2.jpg', 'B0.jpg']\n",
      "['A0.jpg', 'A1.jpg', 'A3.jpg', 'A2.jpg', 'A4.jpg', 'B4.jpg', 'B2.jpg', 'B1.jpg']\n",
      "['B3.jpg', 'B2.jpg', 'B0.jpg', 'B1.jpg']\n",
      "['B5.jpg', 'B4.jpg', 'B6.jpg', 'B2.jpg', 'B0.jpg', 'B1.jpg']\n",
      "['A0.jpg', 'A1.jpg', 'A3.jpg', 'A2.jpg', 'A4.jpg', 'B5.jpg', 'B4.jpg', 'B2.jpg']\n",
      "['B4.jpg', 'B6.jpg', 'B2.jpg', 'B0.jpg', 'B1.jpg']\n",
      "['A0.jpg', 'A1.jpg', 'A3.jpg', 'A2.jpg', 'A4.jpg', 'B4.jpg', 'B6.jpg', 'B3.jpg', 'B2.jpg', 'B0.jpg', 'B1.jpg']\n",
      "['B4.jpg', 'B6.jpg', 'B3.jpg', 'B2.jpg', 'B0.jpg']\n",
      "['A0.jpg', 'A1.jpg', 'A3.jpg', 'A2.jpg', 'B5.jpg', 'B4.jpg', 'B6.jpg', 'B3.jpg', 'B2.jpg', 'B0.jpg', 'B1.jpg']\n",
      "['B5.jpg', 'B4.jpg', 'B6.jpg', 'B3.jpg', 'B2.jpg', 'B0.jpg']\n",
      "['A0.jpg', 'A1.jpg', 'A2.jpg', 'B3.jpg', 'B0.jpg', 'B1.jpg']\n",
      "['A0.jpg', 'A1.jpg', 'A3.jpg', 'A2.jpg', 'A4.jpg', 'B6.jpg', 'B2.jpg', 'B0.jpg']\n",
      "['B5.jpg', 'B4.jpg', 'B6.jpg', 'B3.jpg', 'B2.jpg', 'B0.jpg', 'B1.jpg']\n",
      "['A0.jpg', 'A2.jpg', 'A4.jpg', 'B5.jpg', 'B4.jpg', 'B6.jpg', 'B3.jpg', 'B2.jpg', 'B0.jpg']\n",
      "['A0.jpg', 'A1.jpg', 'A3.jpg', 'A2.jpg', 'A4.jpg', 'B5.jpg', 'B4.jpg', 'B6.jpg', 'B3.jpg', 'B2.jpg', 'B0.jpg', 'B1.jpg']\n",
      "['A0.jpg', 'A1.jpg', 'A3.jpg', 'A2.jpg', 'B5.jpg', 'B4.jpg', 'B3.jpg', 'B2.jpg', 'B1.jpg']\n",
      "['A0.jpg', 'A1.jpg', 'A3.jpg', 'B6.jpg']\n",
      "['A0.jpg', 'A1.jpg', 'A3.jpg', 'A2.jpg', 'B2.jpg', 'B0.jpg', 'B1.jpg']\n",
      "['A0.jpg', 'A1.jpg', 'A3.jpg', 'A2.jpg', 'B5.jpg', 'B4.jpg', 'B6.jpg', 'B3.jpg', 'B2.jpg', 'B0.jpg', 'B1.jpg']\n",
      "['B3.jpg', 'B2.jpg', 'B0.jpg', 'B1.jpg']\n",
      "['B5.jpg', 'B4.jpg', 'B3.jpg', 'B2.jpg', 'B0.jpg', 'B1.jpg']\n",
      "['B3.jpg', 'B2.jpg', 'B0.jpg', 'B1.jpg']\n",
      "['B5.jpg', 'B4.jpg', 'B6.jpg', 'B3.jpg', 'B2.jpg', 'B0.jpg', 'B1.jpg']\n",
      "['A0.jpg', 'B4.jpg', 'B3.jpg', 'B2.jpg', 'B0.jpg', 'B1.jpg']\n",
      "['B5.jpg', 'B4.jpg', 'B3.jpg', 'B2.jpg', 'B0.jpg', 'B1.jpg']\n",
      "['A0.jpg', 'A1.jpg', 'A3.jpg', 'A2.jpg', 'A4.jpg', 'B5.jpg', 'B4.jpg', 'B1.jpg']\n",
      "['B5.jpg', 'B4.jpg', 'B6.jpg', 'B3.jpg', 'B2.jpg', 'B0.jpg', 'B1.jpg']\n",
      "['A0.jpg', 'A1.jpg', 'A3.jpg', 'A2.jpg', 'B5.jpg', 'B3.jpg', 'B2.jpg']\n",
      "['A0.jpg', 'A1.jpg', 'A3.jpg', 'A2.jpg', 'A4.jpg', 'B5.jpg', 'B4.jpg', 'B3.jpg', 'B2.jpg', 'B0.jpg']\n",
      "['B3.jpg', 'B2.jpg', 'B0.jpg', 'B1.jpg']\n",
      "['A0.jpg', 'A1.jpg', 'A3.jpg', 'A2.jpg', 'A4.jpg', 'B5.jpg', 'B4.jpg', 'B3.jpg', 'B2.jpg', 'B0.jpg', 'B1.jpg']\n",
      "['A0.jpg', 'A3.jpg', 'A2.jpg', 'A4.jpg', 'B4.jpg', 'B6.jpg', 'B3.jpg', 'B2.jpg', 'B0.jpg']\n",
      "['B3.jpg', 'B2.jpg', 'B0.jpg', 'B1.jpg']\n",
      "['A0.jpg', 'A3.jpg', 'A2.jpg', 'A4.jpg', 'B5.jpg', 'B6.jpg', 'B3.jpg', 'B2.jpg', 'B0.jpg', 'B1.jpg']\n",
      "['A0.jpg', 'A1.jpg', 'A3.jpg', 'A2.jpg', 'B3.jpg', 'B2.jpg', 'B0.jpg', 'B1.jpg']\n",
      "['A0.jpg', 'A1.jpg', 'A2.jpg', 'B5.jpg', 'B4.jpg', 'B3.jpg', 'B2.jpg', 'B0.jpg', 'B1.jpg']\n",
      "['A3.jpg', 'A2.jpg', 'A4.jpg', 'B5.jpg', 'B4.jpg', 'B6.jpg', 'B3.jpg', 'B2.jpg']\n",
      "['A0.jpg', 'A1.jpg', 'A3.jpg', 'A2.jpg', 'A4.jpg', 'B5.jpg', 'B4.jpg', 'B3.jpg', 'B2.jpg', 'B0.jpg', 'B1.jpg']\n",
      "['A0.jpg', 'A1.jpg', 'A3.jpg', 'A2.jpg', 'A4.jpg', 'B5.jpg', 'B4.jpg', 'B6.jpg', 'B3.jpg', 'B2.jpg', 'B0.jpg', 'B1.jpg']\n",
      "['A0.jpg', 'A1.jpg', 'B4.jpg', 'B2.jpg', 'B0.jpg', 'B1.jpg']\n",
      "['A0.jpg', 'A1.jpg', 'A3.jpg', 'A2.jpg', 'A4.jpg', 'B5.jpg', 'B4.jpg', 'B6.jpg', 'B3.jpg', 'B2.jpg', 'B1.jpg']\n",
      "['A0.jpg', 'A1.jpg', 'A3.jpg', 'A2.jpg', 'A4.jpg', 'B4.jpg', 'B3.jpg', 'B2.jpg']\n",
      "['A0.jpg', 'A1.jpg', 'A3.jpg', 'A2.jpg', 'B5.jpg', 'B4.jpg', 'B3.jpg', 'B2.jpg', 'B1.jpg']\n",
      "['A0.jpg', 'A3.jpg', 'A2.jpg', 'B5.jpg', 'B4.jpg', 'B6.jpg', 'B3.jpg', 'B2.jpg']\n",
      "['A0.jpg', 'A1.jpg', 'B4.jpg', 'B3.jpg', 'B2.jpg', 'B0.jpg', 'B1.jpg']\n",
      "['A0.jpg', 'A1.jpg', 'B5.jpg', 'B4.jpg', 'B3.jpg', 'B2.jpg', 'B0.jpg', 'B1.jpg']\n",
      "['B3.jpg', 'B2.jpg', 'B0.jpg', 'B1.jpg']\n",
      "['B5.jpg', 'B4.jpg', 'B2.jpg', 'B0.jpg', 'B1.jpg']\n",
      "['B5.jpg', 'B4.jpg', 'B6.jpg', 'B3.jpg', 'B2.jpg', 'B0.jpg', 'B1.jpg']\n",
      "['A0.jpg', 'A1.jpg', 'A3.jpg', 'A4.jpg', 'B5.jpg', 'B4.jpg', 'B6.jpg', 'B3.jpg', 'B2.jpg', 'B0.jpg', 'B1.jpg']\n",
      "['A0.jpg', 'A1.jpg', 'A3.jpg', 'A2.jpg', 'A4.jpg', 'B5.jpg', 'B4.jpg', 'B6.jpg', 'B3.jpg', 'B2.jpg', 'B1.jpg']\n",
      "['B3.jpg', 'B2.jpg', 'B0.jpg', 'B1.jpg']\n",
      "['B5.jpg', 'B4.jpg', 'B6.jpg', 'B3.jpg', 'B2.jpg', 'B0.jpg']\n",
      "['B5.jpg', 'B4.jpg', 'B6.jpg', 'B3.jpg', 'B2.jpg', 'B0.jpg']\n",
      "['A0.jpg', 'A1.jpg', 'A3.jpg', 'A2.jpg', 'A4.jpg']\n",
      "['A0.jpg', 'A1.jpg', 'A3.jpg', 'A2.jpg', 'A4.jpg', 'B5.jpg', 'B4.jpg', 'B6.jpg', 'B3.jpg', 'B2.jpg', 'B0.jpg', 'B1.jpg']\n",
      "['B3.jpg', 'B2.jpg', 'B0.jpg', 'B1.jpg']\n",
      "['A0.jpg', 'A1.jpg', 'A3.jpg', 'A2.jpg', 'B5.jpg', 'B4.jpg', 'B6.jpg', 'B3.jpg', 'B2.jpg', 'B1.jpg']\n",
      "['A0.jpg', 'A1.jpg', 'A3.jpg', 'A2.jpg', 'A4.jpg', 'B5.jpg', 'B4.jpg', 'B6.jpg', 'B3.jpg', 'B2.jpg', 'B0.jpg', 'B1.jpg']\n",
      "['A0.jpg', 'A1.jpg', 'A3.jpg', 'A2.jpg', 'A4.jpg', 'B4.jpg', 'B6.jpg', 'B2.jpg', 'B0.jpg', 'B1.jpg']\n",
      "['A0.jpg', 'A1.jpg', 'A2.jpg', 'B5.jpg', 'B4.jpg', 'B3.jpg', 'B2.jpg', 'B1.jpg']\n",
      "['A0.jpg', 'A1.jpg', 'A3.jpg', 'A2.jpg', 'A4.jpg', 'B5.jpg', 'B4.jpg', 'B6.jpg', 'B3.jpg', 'B2.jpg', 'B0.jpg', 'B1.jpg']\n",
      "['B5.jpg', 'B4.jpg', 'B6.jpg', 'B2.jpg', 'B0.jpg', 'B1.jpg']\n",
      "['A0.jpg', 'A1.jpg', 'A3.jpg', 'A2.jpg', 'B5.jpg', 'B4.jpg', 'B3.jpg', 'B2.jpg', 'B0.jpg', 'B1.jpg']\n",
      "['A0.jpg', 'A1.jpg', 'A3.jpg', 'A2.jpg', 'A4.jpg', 'B5.jpg', 'B4.jpg', 'B6.jpg', 'B3.jpg', 'B2.jpg', 'B0.jpg', 'B1.jpg']\n",
      "['A2.jpg', 'B4.jpg', 'B3.jpg', 'B1.jpg']\n",
      "['A0.jpg', 'A1.jpg', 'B4.jpg', 'B3.jpg', 'B2.jpg', 'B0.jpg', 'B1.jpg']\n",
      "['A0.jpg', 'A1.jpg', 'A3.jpg', 'A2.jpg', 'A4.jpg', 'B5.jpg', 'B4.jpg', 'B3.jpg', 'B2.jpg', 'B0.jpg']\n",
      "['A0.jpg', 'A1.jpg', 'A3.jpg', 'A2.jpg', 'A4.jpg', 'B4.jpg', 'B3.jpg', 'B2.jpg', 'B0.jpg', 'B1.jpg']\n",
      "['B5.jpg', 'B4.jpg', 'B2.jpg', 'B0.jpg', 'B1.jpg']\n",
      "['B3.jpg', 'B2.jpg', 'B0.jpg', 'B1.jpg']\n",
      "['A0.jpg', 'A1.jpg', 'A3.jpg', 'A2.jpg', 'A4.jpg', 'B4.jpg', 'B6.jpg', 'B3.jpg', 'B2.jpg', 'B0.jpg', 'B1.jpg']\n",
      "['A0.jpg', 'A1.jpg', 'A3.jpg', 'A2.jpg', 'B5.jpg', 'B4.jpg', 'B3.jpg', 'B2.jpg', 'B0.jpg', 'B1.jpg']\n",
      "['A0.jpg', 'A1.jpg', 'A2.jpg', 'B2.jpg', 'B1.jpg']\n",
      "['A0.jpg', 'A1.jpg', 'A3.jpg', 'A2.jpg', 'B5.jpg', 'B4.jpg', 'B6.jpg', 'B3.jpg', 'B2.jpg', 'B0.jpg', 'B1.jpg']\n",
      "['A0.jpg', 'A1.jpg', 'B4.jpg', 'B3.jpg', 'B2.jpg', 'B0.jpg', 'B1.jpg']\n",
      "['B5.jpg', 'B4.jpg', 'B3.jpg', 'B2.jpg', 'B0.jpg', 'B1.jpg']\n",
      "['A0.jpg', 'A1.jpg', 'A3.jpg', 'A2.jpg', 'A4.jpg', 'B4.jpg', 'B6.jpg', 'B3.jpg', 'B2.jpg', 'B0.jpg']\n",
      "['B5.jpg', 'B4.jpg', 'B6.jpg', 'B3.jpg', 'B2.jpg', 'B0.jpg', 'B1.jpg']\n",
      "['A0.jpg', 'A1.jpg', 'A3.jpg', 'A2.jpg', 'A4.jpg']\n",
      "['A0.jpg', 'A3.jpg', 'A2.jpg', 'A4.jpg', 'B5.jpg', 'B4.jpg', 'B6.jpg', 'B3.jpg', 'B2.jpg', 'B0.jpg', 'B1.jpg']\n",
      "['A0.jpg', 'A1.jpg', 'A3.jpg', 'A2.jpg', 'A4.jpg']\n",
      "['A0.jpg', 'A1.jpg', 'A3.jpg', 'A2.jpg', 'B4.jpg', 'B3.jpg', 'B2.jpg', 'B0.jpg', 'B1.jpg']\n",
      "['B3.jpg', 'B2.jpg', 'B0.jpg', 'B1.jpg']\n",
      "['B5.jpg', 'B4.jpg', 'B3.jpg', 'B2.jpg', 'B0.jpg', 'B1.jpg']\n",
      "['B5.jpg', 'B6.jpg', 'B3.jpg', 'B2.jpg', 'B0.jpg']\n",
      "['A0.jpg', 'A1.jpg', 'A2.jpg', 'B3.jpg', 'B2.jpg', 'B0.jpg', 'B1.jpg']\n",
      "['A0.jpg', 'A1.jpg', 'A3.jpg', 'A2.jpg', 'A4.jpg', 'B5.jpg', 'B4.jpg', 'B6.jpg', 'B3.jpg', 'B2.jpg', 'B0.jpg', 'B1.jpg']\n",
      "['A0.jpg', 'A1.jpg', 'A3.jpg', 'A2.jpg', 'A4.jpg', 'B6.jpg', 'B2.jpg']\n",
      "['A0.jpg', 'A1.jpg', 'A3.jpg', 'A2.jpg', 'A4.jpg', 'B5.jpg', 'B4.jpg', 'B6.jpg', 'B3.jpg', 'B2.jpg', 'B0.jpg', 'B1.jpg']\n",
      "['A0.jpg', 'A1.jpg', 'A3.jpg', 'A2.jpg', 'A4.jpg']\n",
      "['A0.jpg', 'A1.jpg', 'A2.jpg', 'A4.jpg']\n",
      "['A0.jpg', 'A1.jpg', 'A3.jpg', 'A2.jpg', 'A4.jpg', 'B5.jpg', 'B4.jpg', 'B6.jpg', 'B3.jpg', 'B2.jpg', 'B0.jpg', 'B1.jpg']\n",
      "['A0.jpg', 'A1.jpg', 'A3.jpg', 'A2.jpg', 'A4.jpg', 'B5.jpg', 'B4.jpg', 'B6.jpg', 'B3.jpg', 'B2.jpg', 'B0.jpg', 'B1.jpg']\n",
      "['A0.jpg', 'A1.jpg', 'A3.jpg', 'A2.jpg', 'B1.jpg']\n",
      "['A0.jpg', 'A1.jpg', 'A3.jpg', 'A2.jpg', 'B4.jpg', 'B6.jpg', 'B2.jpg', 'B0.jpg', 'B1.jpg']\n",
      "['A0.jpg', 'A1.jpg', 'A3.jpg', 'A2.jpg', 'A4.jpg', 'B5.jpg', 'B3.jpg', 'B2.jpg', 'B0.jpg', 'B1.jpg']\n",
      "['A0.jpg', 'A1.jpg', 'A3.jpg', 'A2.jpg', 'A4.jpg', 'B5.jpg', 'B4.jpg', 'B6.jpg', 'B3.jpg', 'B2.jpg', 'B0.jpg', 'B1.jpg']\n",
      "['B5.jpg', 'B6.jpg', 'B3.jpg', 'B2.jpg', 'B0.jpg', 'B1.jpg']\n",
      "['B5.jpg', 'B4.jpg', 'B6.jpg', 'B3.jpg', 'B2.jpg', 'B0.jpg', 'B1.jpg']\n",
      "['B5.jpg', 'B3.jpg', 'B2.jpg', 'B0.jpg', 'B1.jpg']\n",
      "['A0.jpg', 'A1.jpg', 'A2.jpg', 'A4.jpg', 'B5.jpg', 'B4.jpg', 'B6.jpg', 'B3.jpg', 'B2.jpg']\n",
      "['A0.jpg', 'A1.jpg', 'A2.jpg', 'B5.jpg', 'B4.jpg', 'B3.jpg', 'B2.jpg', 'B0.jpg', 'B1.jpg']\n",
      "['A0.jpg', 'A3.jpg', 'A2.jpg', 'A4.jpg', 'B5.jpg', 'B4.jpg', 'B6.jpg', 'B3.jpg', 'B2.jpg', 'B0.jpg', 'B1.jpg']\n",
      "['B5.jpg', 'B4.jpg', 'B6.jpg', 'B3.jpg', 'B2.jpg', 'B0.jpg']\n",
      "['B5.jpg', 'B4.jpg', 'B6.jpg', 'B3.jpg', 'B2.jpg', 'B0.jpg', 'B1.jpg']\n",
      "['A0.jpg', 'A1.jpg', 'A3.jpg', 'A2.jpg', 'A4.jpg', 'B5.jpg', 'B4.jpg', 'B3.jpg', 'B2.jpg', 'B0.jpg', 'B1.jpg']\n",
      "['B5.jpg', 'B4.jpg', 'B6.jpg', 'B3.jpg', 'B2.jpg', 'B0.jpg']\n",
      "['A0.jpg', 'A1.jpg', 'A3.jpg', 'A2.jpg', 'A4.jpg', 'B5.jpg', 'B4.jpg', 'B6.jpg', 'B3.jpg', 'B2.jpg', 'B0.jpg']\n",
      "['A0.jpg', 'A1.jpg', 'A3.jpg', 'A2.jpg', 'B5.jpg', 'B6.jpg', 'B3.jpg', 'B2.jpg', 'B0.jpg', 'B1.jpg']\n",
      "['A0.jpg', 'A1.jpg', 'A3.jpg', 'A2.jpg', 'A4.jpg']\n",
      "['A0.jpg', 'A1.jpg', 'A2.jpg', 'A4.jpg', 'B5.jpg', 'B4.jpg', 'B3.jpg', 'B2.jpg', 'B0.jpg', 'B1.jpg']\n",
      "['B3.jpg', 'B2.jpg', 'B0.jpg', 'B1.jpg']\n",
      "['A0.jpg', 'A1.jpg', 'A3.jpg', 'A2.jpg', 'A4.jpg', 'B5.jpg', 'B4.jpg', 'B6.jpg', 'B3.jpg', 'B2.jpg', 'B0.jpg', 'B1.jpg']\n",
      "['A1.jpg', 'A2.jpg', 'B5.jpg', 'B4.jpg', 'B3.jpg', 'B2.jpg', 'B0.jpg', 'B1.jpg']\n",
      "['A0.jpg', 'A1.jpg', 'A3.jpg', 'A2.jpg', 'B5.jpg', 'B4.jpg', 'B3.jpg', 'B2.jpg', 'B0.jpg', 'B1.jpg']\n",
      "['B5.jpg', 'B4.jpg', 'B6.jpg', 'B3.jpg', 'B2.jpg', 'B0.jpg']\n",
      "['A0.jpg', 'A1.jpg', 'A3.jpg', 'A2.jpg', 'A4.jpg', 'B5.jpg', 'B4.jpg', 'B6.jpg', 'B3.jpg', 'B2.jpg', 'B0.jpg', 'B1.jpg']\n",
      "['A0.jpg', 'A1.jpg', 'A2.jpg', 'B5.jpg', 'B4.jpg', 'B3.jpg', 'B2.jpg', 'B0.jpg', 'B1.jpg']\n",
      "['A0.jpg', 'A1.jpg', 'A3.jpg', 'A2.jpg', 'A4.jpg', 'B5.jpg', 'B4.jpg', 'B3.jpg', 'B2.jpg', 'B0.jpg', 'B1.jpg']\n",
      "['A0.jpg', 'A1.jpg', 'A2.jpg', 'A4.jpg', 'B5.jpg', 'B4.jpg', 'B6.jpg', 'B2.jpg', 'B0.jpg', 'B1.jpg']\n",
      "['A1.jpg', 'A3.jpg', 'A2.jpg', 'B5.jpg', 'B4.jpg', 'B6.jpg', 'B3.jpg', 'B2.jpg', 'B0.jpg', 'B1.jpg']\n",
      "['B5.jpg', 'B4.jpg', 'B3.jpg', 'B2.jpg', 'B0.jpg', 'B1.jpg']\n",
      "['B5.jpg', 'B4.jpg', 'B3.jpg', 'B2.jpg', 'B0.jpg']\n",
      "['A0.jpg', 'A1.jpg', 'A3.jpg', 'A2.jpg', 'A4.jpg', 'B5.jpg', 'B4.jpg', 'B6.jpg', 'B3.jpg', 'B2.jpg', 'B0.jpg', 'B1.jpg']\n",
      "['B3.jpg', 'B2.jpg', 'B0.jpg', 'B1.jpg']\n",
      "['A2.jpg', 'B5.jpg', 'B4.jpg', 'B2.jpg', 'B1.jpg']\n",
      "['A0.jpg', 'A1.jpg', 'B4.jpg', 'B3.jpg', 'B2.jpg', 'B0.jpg', 'B1.jpg']\n",
      "['A0.jpg', 'A1.jpg', 'B3.jpg', 'B2.jpg', 'B0.jpg', 'B1.jpg']\n",
      "['A0.jpg', 'A1.jpg', 'A3.jpg', 'A2.jpg', 'A4.jpg', 'B5.jpg', 'B4.jpg', 'B6.jpg', 'B2.jpg', 'B0.jpg', 'B1.jpg']\n",
      "['A0.jpg', 'A1.jpg', 'A3.jpg', 'A2.jpg', 'A4.jpg', 'B5.jpg', 'B4.jpg', 'B6.jpg', 'B3.jpg', 'B2.jpg', 'B0.jpg']\n",
      "['A0.jpg', 'A1.jpg', 'B5.jpg', 'B4.jpg', 'B3.jpg', 'B2.jpg', 'B0.jpg', 'B1.jpg']\n",
      "['A0.jpg', 'A1.jpg', 'A3.jpg', 'A2.jpg', 'B4.jpg', 'B2.jpg', 'B1.jpg']\n",
      "['A0.jpg', 'A1.jpg', 'A2.jpg', 'B2.jpg', 'B0.jpg', 'B1.jpg']\n",
      "['A0.jpg', 'A1.jpg', 'A2.jpg', 'B5.jpg', 'B4.jpg', 'B6.jpg', 'B3.jpg', 'B2.jpg', 'B0.jpg', 'B1.jpg']\n",
      "['A0.jpg', 'A1.jpg', 'A3.jpg', 'A2.jpg', 'A4.jpg', 'B5.jpg', 'B4.jpg', 'B3.jpg', 'B2.jpg', 'B0.jpg', 'B1.jpg']\n",
      "['A0.jpg', 'A1.jpg', 'A3.jpg', 'A2.jpg', 'A4.jpg', 'B5.jpg', 'B4.jpg', 'B6.jpg', 'B3.jpg', 'B2.jpg', 'B0.jpg', 'B1.jpg']\n",
      "['A0.jpg', 'A1.jpg', 'A3.jpg', 'A2.jpg', 'A4.jpg', 'B5.jpg', 'B4.jpg', 'B3.jpg', 'B2.jpg', 'B0.jpg', 'B1.jpg']\n",
      "['A0.jpg', 'A1.jpg', 'A3.jpg', 'A2.jpg', 'A4.jpg', 'B5.jpg', 'B4.jpg', 'B6.jpg', 'B3.jpg', 'B2.jpg', 'B0.jpg', 'B1.jpg']\n",
      "['B5.jpg', 'B4.jpg', 'B6.jpg', 'B3.jpg', 'B2.jpg', 'B0.jpg', 'B1.jpg']\n",
      "['A0.jpg', 'A1.jpg', 'B4.jpg', 'B3.jpg', 'B2.jpg', 'B0.jpg', 'B1.jpg']\n",
      "['A0.jpg', 'A1.jpg', 'A3.jpg', 'A2.jpg']\n",
      "['A0.jpg', 'A3.jpg', 'A2.jpg', 'A4.jpg', 'B5.jpg', 'B6.jpg', 'B3.jpg', 'B2.jpg', 'B0.jpg', 'B1.jpg']\n",
      "['B3.jpg', 'B2.jpg', 'B0.jpg', 'B1.jpg']\n",
      "['A0.jpg', 'A1.jpg', 'A3.jpg', 'A2.jpg', 'A4.jpg', 'B5.jpg', 'B4.jpg', 'B6.jpg', 'B3.jpg', 'B2.jpg', 'B0.jpg', 'B1.jpg']\n",
      "['B5.jpg', 'B4.jpg', 'B6.jpg', 'B3.jpg', 'B2.jpg', 'B0.jpg', 'B1.jpg']\n",
      "['A0.jpg', 'A1.jpg', 'A3.jpg', 'A2.jpg', 'A4.jpg', 'B5.jpg', 'B4.jpg', 'B6.jpg', 'B3.jpg', 'B2.jpg', 'B0.jpg', 'B1.jpg']\n",
      "['A0.jpg', 'A1.jpg', 'A3.jpg', 'A2.jpg', 'B5.jpg', 'B4.jpg', 'B3.jpg', 'B2.jpg', 'B0.jpg', 'B1.jpg']\n",
      "['A0.jpg', 'A1.jpg', 'A3.jpg', 'A4.jpg', 'B5.jpg', 'B4.jpg', 'B6.jpg', 'B3.jpg', 'B2.jpg', 'B0.jpg', 'B1.jpg']\n",
      "['A0.jpg', 'A1.jpg', 'A2.jpg', 'B4.jpg', 'B3.jpg', 'B2.jpg', 'B1.jpg']\n",
      "['A0.jpg', 'A3.jpg', 'A2.jpg', 'A4.jpg', 'B5.jpg', 'B4.jpg', 'B3.jpg', 'B2.jpg', 'B0.jpg', 'B1.jpg']\n",
      "['B4.jpg', 'B3.jpg', 'B2.jpg', 'B0.jpg', 'B1.jpg']\n",
      "['A0.jpg', 'A1.jpg', 'A3.jpg', 'A2.jpg', 'A4.jpg', 'B5.jpg', 'B6.jpg', 'B3.jpg', 'B2.jpg']\n",
      "['A0.jpg', 'A1.jpg', 'A3.jpg', 'A2.jpg', 'A4.jpg', 'B5.jpg', 'B4.jpg', 'B6.jpg', 'B3.jpg', 'B2.jpg', 'B0.jpg']\n",
      "['A0.jpg', 'A1.jpg', 'A3.jpg', 'A2.jpg', 'A4.jpg', 'B5.jpg', 'B4.jpg', 'B6.jpg', 'B3.jpg', 'B2.jpg', 'B0.jpg', 'B1.jpg']\n",
      "['B5.jpg', 'B6.jpg', 'B3.jpg', 'B2.jpg', 'B0.jpg', 'B1.jpg']\n",
      "['A0.jpg', 'A1.jpg', 'A3.jpg', 'A2.jpg', 'A4.jpg', 'B4.jpg', 'B2.jpg', 'B0.jpg', 'B1.jpg']\n",
      "['A0.jpg', 'A1.jpg', 'A3.jpg', 'A2.jpg', 'A4.jpg', 'B5.jpg', 'B4.jpg', 'B6.jpg', 'B3.jpg', 'B2.jpg', 'B0.jpg', 'B1.jpg']\n",
      "['A0.jpg', 'A1.jpg', 'A3.jpg', 'A2.jpg', 'A4.jpg', 'B5.jpg', 'B4.jpg', 'B6.jpg', 'B3.jpg', 'B2.jpg', 'B0.jpg', 'B1.jpg']\n",
      "['A0.jpg', 'A1.jpg', 'A3.jpg', 'A2.jpg', 'B4.jpg', 'B3.jpg', 'B2.jpg', 'B0.jpg', 'B1.jpg']\n",
      "['B5.jpg', 'B4.jpg', 'B6.jpg', 'B3.jpg', 'B2.jpg', 'B0.jpg', 'B1.jpg']\n",
      "['A0.jpg', 'A1.jpg', 'A3.jpg', 'A2.jpg', 'A4.jpg', 'B4.jpg', 'B3.jpg', 'B2.jpg', 'B0.jpg']\n",
      "['A0.jpg', 'A1.jpg', 'A3.jpg', 'A2.jpg', 'A4.jpg', 'B5.jpg', 'B4.jpg', 'B6.jpg', 'B3.jpg', 'B2.jpg', 'B0.jpg', 'B1.jpg']\n",
      "['A0.jpg', 'A1.jpg', 'A3.jpg', 'A2.jpg', 'A4.jpg']\n",
      "['B5.jpg', 'B4.jpg', 'B3.jpg', 'B2.jpg', 'B0.jpg', 'B1.jpg']\n",
      "['B5.jpg', 'B4.jpg', 'B3.jpg', 'B2.jpg']\n",
      "['B3.jpg', 'B2.jpg', 'B0.jpg', 'B1.jpg']\n",
      "['A0.jpg', 'A1.jpg', 'A3.jpg', 'A2.jpg', 'B3.jpg', 'B2.jpg', 'B0.jpg', 'B1.jpg']\n",
      "['B5.jpg', 'B4.jpg', 'B6.jpg', 'B3.jpg', 'B2.jpg', 'B0.jpg', 'B1.jpg']\n",
      "['A0.jpg', 'A1.jpg', 'A3.jpg', 'A2.jpg', 'A4.jpg', 'B5.jpg', 'B4.jpg', 'B2.jpg', 'B0.jpg', 'B1.jpg']\n",
      "['A0.jpg', 'A1.jpg', 'A3.jpg', 'A2.jpg', 'A4.jpg', 'B2.jpg', 'B0.jpg']\n",
      "['A0.jpg', 'A1.jpg', 'A3.jpg', 'A2.jpg', 'A4.jpg', 'B5.jpg', 'B3.jpg', 'B2.jpg', 'B0.jpg', 'B1.jpg']\n",
      "['A0.jpg', 'A1.jpg', 'A3.jpg', 'A2.jpg', 'B4.jpg', 'B3.jpg', 'B2.jpg', 'B0.jpg', 'B1.jpg']\n",
      "['A0.jpg', 'A1.jpg', 'A3.jpg', 'A2.jpg', 'A4.jpg']\n",
      "['A0.jpg', 'A1.jpg', 'A3.jpg', 'A2.jpg', 'A4.jpg', 'B4.jpg', 'B3.jpg', 'B2.jpg', 'B0.jpg', 'B1.jpg']\n",
      "['A0.jpg', 'A1.jpg', 'A3.jpg', 'A2.jpg', 'A4.jpg', 'B5.jpg', 'B4.jpg', 'B6.jpg', 'B3.jpg', 'B2.jpg', 'B0.jpg', 'B1.jpg']\n",
      "['A0.jpg', 'A1.jpg', 'A2.jpg', 'B5.jpg', 'B4.jpg', 'B6.jpg', 'B3.jpg', 'B2.jpg', 'B1.jpg']\n",
      "['A0.jpg', 'A1.jpg', 'A3.jpg', 'A2.jpg', 'B5.jpg', 'B3.jpg', 'B2.jpg', 'B0.jpg']\n",
      "['A0.jpg', 'A1.jpg', 'A3.jpg', 'A2.jpg', 'A4.jpg', 'B5.jpg', 'B4.jpg', 'B3.jpg', 'B2.jpg', 'B0.jpg', 'B1.jpg']\n",
      "['A0.jpg', 'A1.jpg', 'A3.jpg', 'A2.jpg', 'A4.jpg', 'B5.jpg', 'B4.jpg', 'B6.jpg', 'B3.jpg', 'B2.jpg', 'B0.jpg', 'B1.jpg']\n",
      "['A0.jpg', 'A1.jpg', 'B5.jpg', 'B4.jpg', 'B6.jpg', 'B3.jpg', 'B2.jpg', 'B0.jpg', 'B1.jpg']\n",
      "['B5.jpg', 'B4.jpg', 'B6.jpg', 'B3.jpg', 'B2.jpg', 'B0.jpg', 'B1.jpg']\n",
      "['A0.jpg', 'A1.jpg', 'A3.jpg', 'A2.jpg', 'B5.jpg', 'B4.jpg', 'B6.jpg', 'B3.jpg', 'B2.jpg', 'B0.jpg', 'B1.jpg']\n",
      "['A0.jpg', 'A1.jpg', 'A3.jpg', 'A2.jpg', 'A4.jpg', 'B5.jpg', 'B4.jpg', 'B6.jpg', 'B3.jpg', 'B2.jpg']\n",
      "['A0.jpg', 'A1.jpg', 'A3.jpg', 'A2.jpg', 'A4.jpg', 'B5.jpg', 'B4.jpg', 'B6.jpg', 'B3.jpg', 'B2.jpg', 'B0.jpg']\n",
      "['A0.jpg', 'A1.jpg', 'A3.jpg', 'A2.jpg', 'A4.jpg', 'B5.jpg', 'B4.jpg', 'B3.jpg', 'B2.jpg', 'B0.jpg', 'B1.jpg']\n",
      "['A0.jpg', 'A1.jpg', 'A3.jpg', 'A2.jpg', 'A4.jpg', 'B5.jpg', 'B4.jpg', 'B6.jpg', 'B3.jpg', 'B2.jpg']\n",
      "['A0.jpg', 'A2.jpg', 'A4.jpg', 'B5.jpg', 'B6.jpg', 'B3.jpg', 'B2.jpg']\n",
      "['A0.jpg', 'A1.jpg', 'A3.jpg', 'A2.jpg', 'B4.jpg', 'B6.jpg', 'B3.jpg', 'B2.jpg', 'B0.jpg']\n",
      "['A0.jpg', 'A1.jpg', 'A2.jpg', 'A4.jpg', 'B5.jpg', 'B6.jpg', 'B3.jpg', 'B2.jpg', 'B1.jpg']\n",
      "['B5.jpg', 'B4.jpg', 'B6.jpg', 'B3.jpg', 'B2.jpg', 'B1.jpg']\n",
      "['A0.jpg', 'A1.jpg', 'A3.jpg', 'A2.jpg', 'A4.jpg', 'B4.jpg', 'B6.jpg', 'B3.jpg', 'B2.jpg', 'B0.jpg']\n",
      "['A0.jpg', 'A1.jpg', 'A3.jpg', 'A2.jpg', 'A4.jpg', 'B5.jpg', 'B4.jpg', 'B6.jpg', 'B3.jpg', 'B2.jpg', 'B0.jpg', 'B1.jpg']\n",
      "['A1.jpg', 'A3.jpg', 'A2.jpg', 'A4.jpg', 'B5.jpg', 'B4.jpg', 'B6.jpg', 'B2.jpg', 'B0.jpg', 'B1.jpg']\n",
      "['A0.jpg', 'A1.jpg', 'A3.jpg', 'A2.jpg', 'A4.jpg', 'B5.jpg', 'B4.jpg', 'B3.jpg', 'B2.jpg', 'B1.jpg']\n",
      "['A0.jpg', 'A1.jpg', 'A3.jpg', 'A2.jpg', 'B4.jpg', 'B3.jpg', 'B2.jpg', 'B0.jpg']\n",
      "['A0.jpg', 'A1.jpg', 'A3.jpg', 'A2.jpg', 'A4.jpg', 'B4.jpg', 'B3.jpg', 'B2.jpg', 'B0.jpg']\n",
      "['B5.jpg', 'B4.jpg', 'B6.jpg', 'B3.jpg', 'B2.jpg', 'B0.jpg']\n",
      "['A0.jpg', 'A3.jpg', 'A2.jpg', 'A4.jpg', 'B5.jpg', 'B4.jpg', 'B3.jpg']\n",
      "['A0.jpg', 'A1.jpg', 'A3.jpg', 'A2.jpg', 'A4.jpg', 'B5.jpg', 'B4.jpg', 'B6.jpg', 'B3.jpg', 'B2.jpg', 'B0.jpg', 'B1.jpg']\n",
      "['A0.jpg', 'A1.jpg', 'A3.jpg', 'A2.jpg', 'A4.jpg', 'B5.jpg', 'B4.jpg', 'B6.jpg', 'B3.jpg', 'B2.jpg', 'B0.jpg']\n",
      "['A0.jpg', 'A1.jpg', 'A2.jpg', 'A4.jpg', 'B5.jpg', 'B4.jpg', 'B6.jpg', 'B3.jpg', 'B2.jpg', 'B0.jpg', 'B1.jpg']\n",
      "['B4.jpg', 'B6.jpg', 'B2.jpg', 'B0.jpg']\n",
      "['B5.jpg', 'B3.jpg', 'B2.jpg', 'B0.jpg']\n",
      "['B5.jpg', 'B4.jpg', 'B3.jpg', 'B2.jpg', 'B0.jpg', 'B1.jpg']\n",
      "['B5.jpg', 'B4.jpg', 'B6.jpg', 'B3.jpg', 'B2.jpg', 'B1.jpg']\n",
      "['A1.jpg', 'A3.jpg', 'A2.jpg', 'A4.jpg', 'B4.jpg', 'B3.jpg', 'B2.jpg', 'B1.jpg']\n",
      "['A0.jpg', 'A1.jpg', 'A3.jpg', 'A2.jpg', 'A4.jpg', 'B4.jpg', 'B6.jpg', 'B3.jpg', 'B2.jpg', 'B0.jpg', 'B1.jpg']\n",
      "['A0.jpg', 'A1.jpg', 'A2.jpg', 'B2.jpg']\n",
      "['B5.jpg', 'B4.jpg', 'B6.jpg', 'B3.jpg', 'B2.jpg', 'B0.jpg', 'B1.jpg']\n",
      "['A0.jpg', 'A1.jpg', 'A3.jpg', 'A2.jpg', 'B5.jpg', 'B4.jpg', 'B6.jpg', 'B2.jpg', 'B0.jpg']\n",
      "['A0.jpg', 'A1.jpg', 'A3.jpg', 'A2.jpg', 'A4.jpg', 'B5.jpg', 'B4.jpg', 'B6.jpg', 'B2.jpg', 'B0.jpg']\n",
      "['A0.jpg', 'A3.jpg', 'A2.jpg', 'A4.jpg', 'B5.jpg', 'B4.jpg', 'B6.jpg', 'B3.jpg', 'B2.jpg', 'B0.jpg', 'B1.jpg']\n",
      "['A0.jpg', 'A1.jpg', 'A2.jpg', 'B4.jpg', 'B3.jpg', 'B2.jpg', 'B0.jpg', 'B1.jpg']\n",
      "['A1.jpg', 'A3.jpg', 'A2.jpg', 'A4.jpg', 'B4.jpg', 'B6.jpg', 'B3.jpg', 'B2.jpg', 'B0.jpg', 'B1.jpg']\n",
      "['A0.jpg', 'A1.jpg', 'A3.jpg', 'A2.jpg', 'A4.jpg', 'B5.jpg', 'B4.jpg', 'B3.jpg', 'B2.jpg', 'B0.jpg', 'B1.jpg']\n",
      "['A1.jpg', 'A3.jpg', 'A2.jpg', 'A4.jpg', 'B5.jpg', 'B4.jpg', 'B6.jpg', 'B3.jpg', 'B2.jpg', 'B0.jpg', 'B1.jpg']\n",
      "['A1.jpg', 'A3.jpg', 'A2.jpg', 'B4.jpg', 'B6.jpg', 'B2.jpg', 'B0.jpg', 'B1.jpg']\n",
      "['A0.jpg', 'A1.jpg', 'A3.jpg', 'A2.jpg', 'A4.jpg', 'B5.jpg', 'B4.jpg', 'B6.jpg', 'B2.jpg', 'B0.jpg', 'B1.jpg']\n",
      "['A1.jpg', 'A3.jpg', 'A2.jpg', 'A4.jpg', 'B4.jpg', 'B6.jpg', 'B3.jpg', 'B2.jpg', 'B0.jpg']\n",
      "['A0.jpg', 'A1.jpg', 'A3.jpg', 'A2.jpg', 'A4.jpg', 'B5.jpg', 'B4.jpg', 'B3.jpg', 'B2.jpg', 'B0.jpg', 'B1.jpg']\n",
      "['B3.jpg', 'B2.jpg', 'B0.jpg', 'B1.jpg']\n",
      "['A0.jpg', 'A1.jpg', 'A3.jpg', 'A2.jpg', 'A4.jpg', 'B5.jpg', 'B4.jpg', 'B6.jpg', 'B3.jpg', 'B2.jpg', 'B0.jpg', 'B1.jpg']\n",
      "['A0.jpg', 'A3.jpg', 'A2.jpg', 'A4.jpg', 'B5.jpg', 'B4.jpg', 'B6.jpg', 'B3.jpg', 'B2.jpg', 'B0.jpg']\n",
      "['A0.jpg', 'A1.jpg', 'A3.jpg', 'A2.jpg', 'A4.jpg']\n",
      "['B4.jpg', 'B3.jpg', 'B2.jpg', 'B0.jpg', 'B1.jpg']\n",
      "['A0.jpg', 'A1.jpg', 'A3.jpg', 'A2.jpg', 'A4.jpg', 'B5.jpg', 'B4.jpg', 'B6.jpg', 'B3.jpg', 'B2.jpg', 'B1.jpg']\n",
      "['A0.jpg', 'A1.jpg', 'A3.jpg', 'A2.jpg', 'A4.jpg', 'B5.jpg', 'B4.jpg', 'B2.jpg', 'B0.jpg', 'B1.jpg']\n",
      "['A0.jpg', 'A1.jpg', 'A3.jpg', 'A2.jpg', 'A4.jpg', 'B5.jpg', 'B4.jpg', 'B6.jpg', 'B3.jpg', 'B2.jpg', 'B1.jpg']\n",
      "['A0.jpg', 'A3.jpg', 'A2.jpg', 'B4.jpg', 'B3.jpg', 'B2.jpg', 'B0.jpg', 'B1.jpg']\n",
      "['A0.jpg', 'A1.jpg', 'A3.jpg', 'A2.jpg', 'A4.jpg', 'B5.jpg', 'B4.jpg', 'B6.jpg', 'B3.jpg', 'B2.jpg', 'B1.jpg']\n",
      "['A0.jpg', 'A1.jpg', 'A3.jpg', 'A2.jpg', 'B5.jpg', 'B4.jpg', 'B6.jpg', 'B3.jpg', 'B2.jpg', 'B1.jpg']\n",
      "['B5.jpg', 'B4.jpg', 'B6.jpg', 'B2.jpg', 'B0.jpg', 'B1.jpg']\n",
      "['A0.jpg', 'A1.jpg', 'A3.jpg', 'A2.jpg', 'B5.jpg', 'B4.jpg', 'B6.jpg', 'B3.jpg', 'B2.jpg', 'B0.jpg', 'B1.jpg']\n",
      "['A0.jpg', 'A1.jpg', 'A3.jpg', 'A2.jpg', 'A4.jpg', 'B5.jpg', 'B4.jpg', 'B6.jpg', 'B3.jpg', 'B2.jpg', 'B0.jpg', 'B1.jpg']\n",
      "['A0.jpg', 'A1.jpg', 'A2.jpg', 'B5.jpg', 'B4.jpg', 'B3.jpg', 'B2.jpg', 'B0.jpg', 'B1.jpg']\n",
      "['B5.jpg', 'B4.jpg', 'B3.jpg', 'B2.jpg', 'B0.jpg', 'B1.jpg']\n",
      "['A0.jpg', 'A3.jpg', 'A2.jpg', 'A4.jpg', 'B5.jpg', 'B4.jpg', 'B6.jpg', 'B3.jpg', 'B2.jpg', 'B0.jpg', 'B1.jpg']\n",
      "['A0.jpg', 'A1.jpg', 'A3.jpg', 'A2.jpg', 'A4.jpg', 'B4.jpg', 'B6.jpg', 'B3.jpg', 'B2.jpg', 'B0.jpg', 'B1.jpg']\n",
      "['B4.jpg', 'B3.jpg', 'B2.jpg', 'B0.jpg', 'B1.jpg']\n",
      "['B5.jpg', 'B4.jpg', 'B6.jpg', 'B3.jpg', 'B2.jpg', 'B0.jpg', 'B1.jpg']\n",
      "['A0.jpg', 'A1.jpg', 'A3.jpg', 'A2.jpg', 'A4.jpg', 'B5.jpg', 'B4.jpg', 'B6.jpg', 'B3.jpg', 'B2.jpg', 'B0.jpg', 'B1.jpg']\n",
      "['A0.jpg', 'A1.jpg', 'A3.jpg', 'A2.jpg', 'A4.jpg', 'B4.jpg', 'B3.jpg', 'B2.jpg', 'B0.jpg', 'B1.jpg']\n",
      "['B5.jpg', 'B4.jpg', 'B6.jpg', 'B3.jpg', 'B2.jpg', 'B0.jpg', 'B1.jpg']\n",
      "['B3.jpg', 'B2.jpg', 'B0.jpg', 'B1.jpg']\n",
      "['A0.jpg', 'A1.jpg', 'A3.jpg', 'A2.jpg', 'A4.jpg', 'B5.jpg', 'B4.jpg', 'B6.jpg', 'B3.jpg', 'B2.jpg', 'B0.jpg', 'B1.jpg']\n",
      "['B5.jpg', 'B4.jpg', 'B6.jpg', 'B3.jpg', 'B2.jpg', 'B0.jpg']\n",
      "['B5.jpg', 'B4.jpg', 'B6.jpg', 'B3.jpg', 'B2.jpg', 'B0.jpg', 'B1.jpg']\n",
      "['A1.jpg', 'A2.jpg', 'B4.jpg', 'B3.jpg', 'B2.jpg', 'B0.jpg', 'B1.jpg']\n",
      "['A0.jpg', 'A1.jpg', 'A2.jpg', 'B5.jpg', 'B4.jpg', 'B3.jpg', 'B2.jpg', 'B0.jpg', 'B1.jpg']\n",
      "['B3.jpg', 'B2.jpg', 'B0.jpg', 'B1.jpg']\n",
      "['A3.jpg', 'A2.jpg', 'B5.jpg', 'B4.jpg', 'B6.jpg', 'B2.jpg', 'B0.jpg']\n",
      "['A0.jpg', 'A1.jpg', 'A3.jpg', 'A2.jpg', 'B5.jpg', 'B4.jpg', 'B3.jpg', 'B2.jpg', 'B0.jpg', 'B1.jpg']\n",
      "['A0.jpg', 'A1.jpg', 'A3.jpg', 'A2.jpg', 'B5.jpg', 'B4.jpg', 'B6.jpg', 'B2.jpg', 'B1.jpg']\n",
      "['B5.jpg', 'B4.jpg', 'B3.jpg', 'B2.jpg', 'B0.jpg', 'B1.jpg']\n",
      "['A0.jpg', 'A1.jpg', 'A3.jpg', 'A2.jpg', 'A4.jpg', 'B5.jpg', 'B4.jpg', 'B3.jpg', 'B2.jpg', 'B0.jpg']\n",
      "['B3.jpg', 'B2.jpg', 'B0.jpg', 'B1.jpg']\n",
      "['B5.jpg', 'B4.jpg', 'B6.jpg', 'B3.jpg', 'B2.jpg', 'B0.jpg', 'B1.jpg']\n",
      "['B5.jpg', 'B4.jpg', 'B6.jpg', 'B3.jpg', 'B2.jpg', 'B1.jpg']\n",
      "['B3.jpg', 'B2.jpg', 'B0.jpg', 'B1.jpg']\n",
      "['A0.jpg', 'A1.jpg', 'A3.jpg', 'A2.jpg', 'A4.jpg', 'B5.jpg', 'B4.jpg', 'B6.jpg', 'B3.jpg', 'B2.jpg', 'B0.jpg', 'B1.jpg']\n",
      "['B3.jpg', 'B2.jpg', 'B0.jpg', 'B1.jpg']\n",
      "['A0.jpg', 'A1.jpg', 'A3.jpg', 'A2.jpg', 'A4.jpg', 'B5.jpg', 'B4.jpg', 'B6.jpg', 'B3.jpg', 'B2.jpg', 'B0.jpg', 'B1.jpg']\n",
      "['A0.jpg', 'A1.jpg', 'A3.jpg', 'A2.jpg', 'B5.jpg', 'B4.jpg', 'B6.jpg', 'B3.jpg', 'B2.jpg', 'B0.jpg', 'B1.jpg']\n",
      "['A0.jpg', 'A1.jpg', 'A2.jpg', 'B4.jpg', 'B3.jpg', 'B2.jpg']\n",
      "['A0.jpg', 'A1.jpg', 'A3.jpg', 'A2.jpg', 'A4.jpg']\n",
      "['A0.jpg', 'A1.jpg', 'A3.jpg', 'A2.jpg', 'A4.jpg', 'B3.jpg', 'B1.jpg']\n",
      "['B3.jpg', 'B2.jpg', 'B0.jpg', 'B1.jpg']\n",
      "['B5.jpg', 'B6.jpg', 'B3.jpg', 'B2.jpg', 'B0.jpg', 'B1.jpg']\n",
      "['A0.jpg', 'A1.jpg', 'A3.jpg', 'A2.jpg', 'A4.jpg', 'B5.jpg', 'B4.jpg', 'B6.jpg', 'B3.jpg', 'B2.jpg', 'B0.jpg', 'B1.jpg']\n",
      "['B4.jpg', 'B3.jpg', 'B2.jpg', 'B1.jpg']\n",
      "['B5.jpg', 'B4.jpg', 'B3.jpg', 'B2.jpg', 'B1.jpg']\n",
      "['A0.jpg', 'A1.jpg', 'A3.jpg', 'A2.jpg', 'A4.jpg', 'B4.jpg', 'B6.jpg', 'B3.jpg', 'B2.jpg', 'B0.jpg', 'B1.jpg']\n",
      "['A0.jpg', 'A1.jpg', 'A3.jpg', 'A2.jpg', 'A4.jpg', 'B5.jpg', 'B3.jpg', 'B2.jpg', 'B0.jpg', 'B1.jpg']\n",
      "['A0.jpg', 'A1.jpg', 'A3.jpg', 'A2.jpg', 'B5.jpg', 'B4.jpg', 'B6.jpg', 'B3.jpg', 'B2.jpg', 'B0.jpg']\n",
      "['A0.jpg', 'A3.jpg', 'A2.jpg', 'A4.jpg', 'B5.jpg', 'B6.jpg', 'B3.jpg', 'B2.jpg', 'B0.jpg', 'B1.jpg']\n",
      "['A0.jpg', 'A1.jpg', 'A3.jpg', 'A2.jpg', 'B5.jpg', 'B4.jpg', 'B3.jpg', 'B2.jpg', 'B0.jpg', 'B1.jpg']\n",
      "['A0.jpg', 'A1.jpg', 'A3.jpg', 'A2.jpg', 'B3.jpg', 'B2.jpg', 'B0.jpg', 'B1.jpg']\n",
      "['B3.jpg', 'B2.jpg', 'B0.jpg', 'B1.jpg']\n",
      "['A0.jpg', 'A1.jpg', 'A3.jpg', 'A2.jpg', 'A4.jpg']\n",
      "['B5.jpg', 'B6.jpg', 'B3.jpg', 'B2.jpg', 'B0.jpg', 'B1.jpg']\n",
      "['A0.jpg', 'A1.jpg', 'A3.jpg', 'A2.jpg', 'A4.jpg', 'B5.jpg', 'B3.jpg', 'B2.jpg']\n",
      "['A0.jpg', 'A1.jpg', 'A3.jpg', 'A2.jpg', 'A4.jpg', 'B5.jpg', 'B4.jpg', 'B6.jpg', 'B3.jpg', 'B2.jpg', 'B0.jpg', 'B1.jpg']\n",
      "['B5.jpg', 'B4.jpg', 'B3.jpg', 'B2.jpg', 'B0.jpg']\n",
      "['A0.jpg', 'A1.jpg', 'A3.jpg', 'A2.jpg', 'B5.jpg', 'B4.jpg', 'B6.jpg', 'B3.jpg', 'B2.jpg', 'B0.jpg', 'B1.jpg']\n",
      "['B3.jpg', 'B2.jpg', 'B0.jpg', 'B1.jpg']\n",
      "['A0.jpg', 'A1.jpg', 'A3.jpg', 'A2.jpg', 'B5.jpg', 'B4.jpg', 'B6.jpg', 'B3.jpg', 'B2.jpg', 'B0.jpg', 'B1.jpg']\n",
      "['A0.jpg', 'A1.jpg', 'A3.jpg', 'A2.jpg', 'B5.jpg', 'B3.jpg', 'B2.jpg', 'B0.jpg', 'B1.jpg']\n",
      "['B5.jpg', 'B4.jpg', 'B3.jpg', 'B2.jpg', 'B0.jpg']\n",
      "['A0.jpg', 'A1.jpg', 'A3.jpg', 'A2.jpg', 'A4.jpg', 'B4.jpg', 'B6.jpg', 'B3.jpg', 'B2.jpg', 'B0.jpg', 'B1.jpg']\n",
      "['A0.jpg', 'A1.jpg', 'A3.jpg', 'A2.jpg', 'A4.jpg']\n",
      "['B4.jpg', 'B6.jpg', 'B3.jpg', 'B2.jpg', 'B0.jpg']\n",
      "['B5.jpg', 'B3.jpg', 'B2.jpg', 'B0.jpg', 'B1.jpg']\n",
      "['A1.jpg', 'A3.jpg', 'A2.jpg', 'A4.jpg', 'B5.jpg', 'B4.jpg', 'B6.jpg', 'B3.jpg', 'B2.jpg', 'B0.jpg', 'B1.jpg']\n",
      "['B5.jpg', 'B4.jpg', 'B6.jpg', 'B3.jpg', 'B2.jpg', 'B0.jpg', 'B1.jpg']\n",
      "['A1.jpg', 'A3.jpg', 'A2.jpg', 'B5.jpg', 'B4.jpg', 'B6.jpg', 'B3.jpg', 'B2.jpg', 'B0.jpg', 'B1.jpg']\n",
      "['A0.jpg', 'A1.jpg', 'A3.jpg', 'A2.jpg', 'A4.jpg', 'B5.jpg', 'B6.jpg', 'B3.jpg', 'B2.jpg', 'B0.jpg', 'B1.jpg']\n",
      "['A0.jpg', 'A1.jpg', 'A3.jpg', 'A2.jpg', 'B5.jpg', 'B4.jpg', 'B3.jpg', 'B2.jpg', 'B0.jpg']\n",
      "['B5.jpg', 'B4.jpg', 'B6.jpg', 'B3.jpg', 'B2.jpg', 'B0.jpg', 'B1.jpg']\n",
      "['B5.jpg', 'B4.jpg', 'B6.jpg', 'B3.jpg', 'B2.jpg', 'B0.jpg', 'B1.jpg']\n",
      "['A0.jpg', 'A1.jpg', 'A3.jpg', 'A2.jpg', 'B6.jpg', 'B3.jpg', 'B2.jpg', 'B0.jpg']\n",
      "['A0.jpg', 'A1.jpg', 'A3.jpg', 'A2.jpg', 'A4.jpg', 'B5.jpg', 'B6.jpg', 'B2.jpg', 'B0.jpg', 'B1.jpg']\n",
      "['A0.jpg', 'A1.jpg', 'A3.jpg', 'A2.jpg', 'A4.jpg']\n",
      "['B3.jpg', 'B2.jpg', 'B0.jpg', 'B1.jpg']\n",
      "['A0.jpg', 'A1.jpg', 'A3.jpg', 'A2.jpg', 'A4.jpg', 'B5.jpg', 'B6.jpg', 'B3.jpg', 'B2.jpg', 'B0.jpg', 'B1.jpg']\n",
      "['A0.jpg', 'A1.jpg', 'A3.jpg', 'A2.jpg', 'A4.jpg', 'B5.jpg', 'B4.jpg', 'B3.jpg', 'B2.jpg', 'B0.jpg', 'B1.jpg']\n",
      "['A0.jpg', 'A1.jpg', 'A3.jpg', 'A2.jpg', 'A4.jpg', 'B5.jpg', 'B4.jpg', 'B6.jpg', 'B3.jpg', 'B2.jpg', 'B0.jpg', 'B1.jpg']\n",
      "['A0.jpg', 'A1.jpg', 'A3.jpg', 'A2.jpg', 'A4.jpg', 'B5.jpg', 'B4.jpg', 'B6.jpg', 'B3.jpg', 'B2.jpg', 'B0.jpg', 'B1.jpg']\n",
      "['A0.jpg', 'A1.jpg', 'A3.jpg', 'A2.jpg', 'B3.jpg', 'B2.jpg', 'B0.jpg', 'B1.jpg']\n",
      "['B3.jpg', 'B2.jpg', 'B0.jpg', 'B1.jpg']\n",
      "['A0.jpg', 'A2.jpg', 'B5.jpg', 'B4.jpg', 'B3.jpg', 'B2.jpg', 'B1.jpg']\n",
      "['A0.jpg', 'A1.jpg', 'A3.jpg', 'A2.jpg', 'A4.jpg', 'B5.jpg', 'B4.jpg', 'B6.jpg', 'B3.jpg', 'B2.jpg', 'B0.jpg', 'B1.jpg']\n",
      "['A1.jpg', 'A3.jpg', 'A2.jpg', 'A4.jpg', 'B5.jpg', 'B4.jpg', 'B6.jpg', 'B3.jpg', 'B2.jpg', 'B0.jpg', 'B1.jpg']\n",
      "['B3.jpg', 'B2.jpg', 'B0.jpg', 'B1.jpg']\n",
      "['A0.jpg', 'A1.jpg', 'A3.jpg', 'A2.jpg', 'A4.jpg', 'B5.jpg', 'B4.jpg', 'B6.jpg', 'B3.jpg', 'B2.jpg', 'B1.jpg']\n",
      "['A0.jpg', 'A1.jpg', 'A3.jpg', 'A2.jpg', 'A4.jpg', 'B5.jpg', 'B4.jpg', 'B3.jpg', 'B2.jpg', 'B0.jpg']\n",
      "['A0.jpg', 'A1.jpg', 'A3.jpg', 'A2.jpg', 'A4.jpg', 'B5.jpg', 'B4.jpg', 'B6.jpg', 'B2.jpg', 'B0.jpg', 'B1.jpg']\n",
      "['A0.jpg', 'A1.jpg', 'A3.jpg', 'A2.jpg', 'A4.jpg', 'B5.jpg', 'B4.jpg', 'B3.jpg', 'B2.jpg', 'B0.jpg']\n",
      "['A0.jpg', 'A1.jpg', 'A2.jpg', 'B0.jpg']\n",
      "['B5.jpg', 'B4.jpg', 'B6.jpg', 'B2.jpg', 'B0.jpg', 'B1.jpg']\n",
      "['A0.jpg', 'A1.jpg', 'A2.jpg', 'B5.jpg', 'B4.jpg', 'B3.jpg', 'B2.jpg', 'B0.jpg', 'B1.jpg']\n",
      "['A0.jpg', 'A1.jpg', 'A3.jpg', 'A2.jpg', 'B5.jpg', 'B4.jpg', 'B3.jpg', 'B2.jpg', 'B0.jpg', 'B1.jpg']\n",
      "['A0.jpg', 'A1.jpg', 'A3.jpg', 'A2.jpg', 'A4.jpg', 'B5.jpg', 'B4.jpg', 'B6.jpg', 'B3.jpg', 'B2.jpg', 'B0.jpg', 'B1.jpg']\n",
      "['B3.jpg', 'B2.jpg', 'B0.jpg', 'B1.jpg']\n",
      "['A0.jpg', 'A1.jpg', 'A3.jpg', 'A2.jpg', 'A4.jpg', 'B5.jpg', 'B4.jpg', 'B6.jpg', 'B3.jpg', 'B2.jpg', 'B0.jpg', 'B1.jpg']\n",
      "['A1.jpg', 'A3.jpg', 'A2.jpg', 'A4.jpg', 'B4.jpg', 'B3.jpg', 'B2.jpg', 'B0.jpg', 'B1.jpg']\n",
      "['A0.jpg', 'A1.jpg', 'A3.jpg', 'A2.jpg', 'A4.jpg', 'B5.jpg', 'B4.jpg', 'B3.jpg', 'B2.jpg', 'B0.jpg', 'B1.jpg']\n",
      "['A0.jpg', 'A1.jpg', 'A3.jpg', 'A2.jpg', 'B3.jpg', 'B2.jpg', 'B0.jpg', 'B1.jpg']\n",
      "['A0.jpg', 'A1.jpg', 'A3.jpg', 'A2.jpg', 'B4.jpg', 'B3.jpg', 'B2.jpg', 'B0.jpg', 'B1.jpg']\n",
      "['B5.jpg', 'B4.jpg', 'B3.jpg', 'B2.jpg', 'B0.jpg', 'B1.jpg']\n",
      "['A0.jpg', 'A1.jpg', 'A2.jpg', 'A4.jpg', 'B4.jpg', 'B6.jpg', 'B3.jpg', 'B2.jpg', 'B0.jpg', 'B1.jpg']\n",
      "['B4.jpg', 'B3.jpg', 'B2.jpg', 'B0.jpg', 'B1.jpg']\n",
      "['B5.jpg', 'B4.jpg', 'B6.jpg', 'B3.jpg', 'B2.jpg', 'B0.jpg', 'B1.jpg']\n",
      "['B3.jpg', 'B2.jpg', 'B0.jpg', 'B1.jpg']\n",
      "['B5.jpg', 'B4.jpg', 'B6.jpg', 'B3.jpg', 'B2.jpg']\n",
      "['A0.jpg', 'A1.jpg', 'A3.jpg', 'A2.jpg', 'A4.jpg', 'B5.jpg', 'B4.jpg', 'B6.jpg', 'B3.jpg', 'B2.jpg', 'B0.jpg', 'B1.jpg']\n",
      "['A0.jpg', 'A1.jpg', 'A3.jpg', 'A2.jpg', 'B5.jpg', 'B4.jpg', 'B6.jpg', 'B3.jpg', 'B2.jpg', 'B0.jpg', 'B1.jpg']\n",
      "['A0.jpg', 'A1.jpg', 'A3.jpg', 'A2.jpg', 'A4.jpg', 'B6.jpg', 'B2.jpg', 'B0.jpg', 'B1.jpg']\n",
      "['A1.jpg', 'A3.jpg', 'A2.jpg', 'B5.jpg', 'B4.jpg', 'B6.jpg', 'B3.jpg', 'B2.jpg']\n",
      "['A0.jpg', 'A1.jpg', 'A3.jpg', 'A2.jpg', 'A4.jpg', 'B5.jpg', 'B4.jpg', 'B6.jpg', 'B3.jpg', 'B2.jpg', 'B0.jpg', 'B1.jpg']\n",
      "['A0.jpg', 'A1.jpg', 'A2.jpg', 'B4.jpg', 'B3.jpg', 'B2.jpg', 'B0.jpg', 'B1.jpg']\n",
      "['A0.jpg', 'A1.jpg', 'A2.jpg', 'B5.jpg', 'B4.jpg', 'B6.jpg', 'B3.jpg', 'B2.jpg', 'B1.jpg']\n",
      "['A0.jpg', 'A1.jpg', 'A3.jpg', 'A4.jpg', 'B5.jpg', 'B4.jpg', 'B6.jpg', 'B3.jpg', 'B2.jpg', 'B0.jpg', 'B1.jpg']\n",
      "['B5.jpg', 'B4.jpg', 'B3.jpg', 'B2.jpg', 'B0.jpg']\n",
      "['A0.jpg', 'A1.jpg', 'A3.jpg', 'A2.jpg', 'B5.jpg', 'B4.jpg', 'B6.jpg', 'B3.jpg', 'B2.jpg', 'B0.jpg']\n",
      "['A0.jpg', 'A1.jpg', 'A3.jpg', 'A2.jpg', 'A4.jpg', 'B5.jpg', 'B3.jpg', 'B2.jpg', 'B0.jpg', 'B1.jpg']\n",
      "['B3.jpg', 'B2.jpg', 'B0.jpg', 'B1.jpg']\n",
      "['A0.jpg', 'A1.jpg', 'A3.jpg', 'A2.jpg', 'A4.jpg', 'B5.jpg', 'B6.jpg', 'B3.jpg', 'B2.jpg', 'B0.jpg', 'B1.jpg']\n",
      "['A0.jpg', 'A1.jpg', 'A2.jpg', 'B4.jpg', 'B3.jpg', 'B2.jpg', 'B0.jpg', 'B1.jpg']\n",
      "['B5.jpg', 'B4.jpg', 'B3.jpg', 'B2.jpg', 'B0.jpg', 'B1.jpg']\n",
      "['B4.jpg', 'B6.jpg', 'B3.jpg', 'B2.jpg', 'B0.jpg']\n",
      "['A0.jpg', 'A1.jpg', 'A3.jpg', 'A2.jpg', 'B5.jpg', 'B4.jpg', 'B3.jpg', 'B2.jpg', 'B0.jpg', 'B1.jpg']\n",
      "['A0.jpg', 'A1.jpg', 'B5.jpg', 'B4.jpg', 'B3.jpg', 'B2.jpg', 'B0.jpg', 'B1.jpg']\n",
      "['A0.jpg', 'A1.jpg', 'A3.jpg', 'A2.jpg', 'A4.jpg', 'B5.jpg', 'B4.jpg', 'B6.jpg', 'B2.jpg', 'B0.jpg', 'B1.jpg']\n",
      "['A0.jpg', 'A1.jpg', 'A3.jpg', 'A2.jpg', 'B4.jpg', 'B3.jpg', 'B2.jpg', 'B0.jpg', 'B1.jpg']\n",
      "['A0.jpg', 'A1.jpg', 'A3.jpg', 'A2.jpg', 'A4.jpg', 'B5.jpg', 'B4.jpg', 'B3.jpg', 'B2.jpg', 'B0.jpg']\n",
      "['A0.jpg', 'A1.jpg', 'A3.jpg', 'A2.jpg', 'A4.jpg', 'B6.jpg', 'B3.jpg', 'B2.jpg', 'B1.jpg']\n",
      "['A0.jpg', 'A1.jpg', 'A3.jpg', 'A2.jpg', 'A4.jpg', 'B4.jpg', 'B6.jpg', 'B3.jpg', 'B2.jpg', 'B0.jpg', 'B1.jpg']\n",
      "['B3.jpg', 'B2.jpg', 'B0.jpg', 'B1.jpg']\n",
      "['A0.jpg', 'A1.jpg', 'A3.jpg', 'A2.jpg', 'A4.jpg', 'B4.jpg', 'B6.jpg', 'B3.jpg', 'B2.jpg', 'B0.jpg', 'B1.jpg']\n",
      "['A0.jpg', 'A1.jpg', 'A3.jpg', 'A2.jpg', 'A4.jpg', 'B4.jpg', 'B6.jpg', 'B3.jpg', 'B2.jpg', 'B0.jpg', 'B1.jpg']\n",
      "['A0.jpg', 'A1.jpg', 'A2.jpg', 'B4.jpg', 'B3.jpg', 'B2.jpg', 'B0.jpg', 'B1.jpg']\n",
      "['A0.jpg', 'A1.jpg', 'A3.jpg', 'A2.jpg', 'A4.jpg', 'B5.jpg', 'B4.jpg', 'B6.jpg', 'B3.jpg', 'B2.jpg', 'B0.jpg']\n",
      "['A0.jpg', 'A1.jpg', 'A3.jpg', 'A2.jpg', 'B5.jpg', 'B6.jpg', 'B3.jpg', 'B2.jpg', 'B1.jpg']\n",
      "['A0.jpg', 'A1.jpg', 'A3.jpg', 'A2.jpg', 'A4.jpg', 'B5.jpg', 'B6.jpg', 'B3.jpg', 'B2.jpg', 'B0.jpg', 'B1.jpg']\n",
      "['A0.jpg', 'A1.jpg', 'A3.jpg', 'A2.jpg', 'A4.jpg', 'B5.jpg', 'B4.jpg', 'B6.jpg', 'B2.jpg', 'B0.jpg', 'B1.jpg']\n",
      "['A0.jpg', 'A1.jpg', 'A3.jpg', 'A2.jpg', 'A4.jpg', 'B4.jpg', 'B6.jpg', 'B3.jpg', 'B2.jpg', 'B0.jpg', 'B1.jpg']\n",
      "['B3.jpg', 'B2.jpg', 'B0.jpg', 'B1.jpg']\n",
      "['A0.jpg', 'A1.jpg', 'A2.jpg', 'B5.jpg', 'B4.jpg', 'B3.jpg', 'B2.jpg', 'B0.jpg', 'B1.jpg']\n",
      "['A0.jpg', 'A1.jpg', 'A3.jpg', 'A2.jpg', 'B5.jpg', 'B4.jpg', 'B3.jpg', 'B2.jpg', 'B0.jpg', 'B1.jpg']\n",
      "['A0.jpg', 'A1.jpg', 'A3.jpg', 'A2.jpg', 'A4.jpg', 'B5.jpg', 'B2.jpg']\n",
      "['A1.jpg', 'A3.jpg', 'A2.jpg', 'B5.jpg', 'B4.jpg', 'B6.jpg', 'B3.jpg', 'B2.jpg', 'B0.jpg']\n",
      "['A0.jpg', 'B5.jpg', 'B0.jpg', 'B1.jpg']\n",
      "['A0.jpg', 'A1.jpg', 'A3.jpg', 'A2.jpg', 'B5.jpg', 'B4.jpg', 'B6.jpg', 'B3.jpg', 'B2.jpg', 'B0.jpg', 'B1.jpg']\n",
      "['A0.jpg', 'A1.jpg', 'A3.jpg', 'A2.jpg', 'B3.jpg', 'B2.jpg', 'B0.jpg', 'B1.jpg']\n",
      "['A0.jpg', 'A1.jpg', 'A3.jpg', 'A2.jpg', 'A4.jpg', 'B5.jpg', 'B4.jpg', 'B6.jpg', 'B3.jpg', 'B2.jpg', 'B0.jpg', 'B1.jpg']\n",
      "['A0.jpg', 'A1.jpg', 'A2.jpg', 'B5.jpg', 'B4.jpg', 'B3.jpg', 'B2.jpg', 'B0.jpg', 'B1.jpg']\n",
      "['A0.jpg', 'A1.jpg', 'A3.jpg', 'A2.jpg', 'A4.jpg', 'B5.jpg', 'B6.jpg', 'B2.jpg', 'B0.jpg', 'B1.jpg']\n",
      "['A0.jpg', 'A1.jpg', 'A3.jpg', 'A2.jpg', 'A4.jpg', 'B5.jpg', 'B4.jpg', 'B6.jpg', 'B3.jpg', 'B2.jpg', 'B0.jpg', 'B1.jpg']\n",
      "['B5.jpg', 'B4.jpg', 'B3.jpg', 'B2.jpg', 'B1.jpg']\n",
      "['B3.jpg', 'B2.jpg', 'B0.jpg', 'B1.jpg']\n",
      "['A0.jpg', 'A1.jpg', 'B4.jpg', 'B0.jpg', 'B1.jpg']\n",
      "['A0.jpg', 'A1.jpg', 'A3.jpg', 'A2.jpg', 'A4.jpg', 'B5.jpg', 'B4.jpg', 'B6.jpg', 'B3.jpg', 'B2.jpg', 'B0.jpg', 'B1.jpg']\n",
      "['A0.jpg', 'B4.jpg', 'B3.jpg', 'B2.jpg', 'B0.jpg', 'B1.jpg']\n",
      "['A1.jpg', 'A3.jpg', 'A2.jpg', 'A4.jpg', 'B3.jpg', 'B2.jpg', 'B0.jpg', 'B1.jpg']\n",
      "['B3.jpg', 'B2.jpg', 'B0.jpg', 'B1.jpg']\n",
      "['B5.jpg', 'B4.jpg', 'B6.jpg', 'B3.jpg', 'B2.jpg', 'B0.jpg']\n",
      "['A0.jpg', 'A3.jpg', 'A2.jpg', 'A4.jpg', 'B5.jpg', 'B4.jpg', 'B6.jpg', 'B3.jpg', 'B2.jpg', 'B0.jpg', 'B1.jpg']\n",
      "['A0.jpg', 'A1.jpg', 'A3.jpg', 'A2.jpg', 'B4.jpg', 'B6.jpg', 'B2.jpg']\n",
      "['A0.jpg', 'A1.jpg', 'A3.jpg', 'A2.jpg', 'B5.jpg', 'B4.jpg', 'B6.jpg', 'B3.jpg', 'B2.jpg', 'B1.jpg']\n",
      "['A0.jpg', 'A1.jpg', 'A3.jpg', 'A2.jpg', 'A4.jpg', 'B4.jpg', 'B6.jpg', 'B2.jpg', 'B0.jpg']\n",
      "['B3.jpg', 'B2.jpg', 'B0.jpg', 'B1.jpg']\n",
      "['A0.jpg', 'A1.jpg', 'A3.jpg', 'A2.jpg', 'B5.jpg', 'B4.jpg', 'B3.jpg', 'B2.jpg', 'B0.jpg', 'B1.jpg']\n",
      "['A0.jpg', 'A1.jpg', 'A2.jpg', 'B2.jpg', 'B0.jpg', 'B1.jpg']\n",
      "['A0.jpg', 'A1.jpg', 'B5.jpg', 'B4.jpg', 'B3.jpg', 'B2.jpg', 'B1.jpg']\n",
      "['A0.jpg', 'A1.jpg', 'A3.jpg', 'A2.jpg', 'B2.jpg', 'B0.jpg', 'B1.jpg']\n",
      "['A0.jpg', 'A2.jpg', 'A4.jpg', 'B5.jpg', 'B4.jpg', 'B6.jpg', 'B2.jpg', 'B0.jpg']\n",
      "['B5.jpg', 'B4.jpg', 'B6.jpg', 'B3.jpg', 'B2.jpg', 'B0.jpg']\n",
      "['A0.jpg', 'A1.jpg', 'A3.jpg', 'A2.jpg', 'A4.jpg', 'B4.jpg', 'B3.jpg', 'B2.jpg', 'B0.jpg', 'B1.jpg']\n",
      "['A0.jpg', 'A1.jpg', 'A3.jpg', 'A4.jpg', 'B5.jpg', 'B4.jpg', 'B6.jpg', 'B3.jpg', 'B2.jpg', 'B0.jpg']\n",
      "['A0.jpg', 'B5.jpg', 'B4.jpg', 'B6.jpg', 'B3.jpg', 'B2.jpg', 'B1.jpg']\n",
      "['A0.jpg', 'A1.jpg', 'A3.jpg', 'A2.jpg', 'A4.jpg', 'B4.jpg', 'B3.jpg', 'B2.jpg', 'B0.jpg', 'B1.jpg']\n",
      "['B5.jpg', 'B4.jpg', 'B6.jpg', 'B3.jpg', 'B2.jpg', 'B0.jpg', 'B1.jpg']\n",
      "['B6.jpg', 'B3.jpg', 'B2.jpg', 'B0.jpg', 'B1.jpg']\n",
      "['A0.jpg', 'A1.jpg', 'A3.jpg', 'A2.jpg', 'B6.jpg', 'B3.jpg', 'B2.jpg']\n",
      "['B3.jpg', 'B2.jpg', 'B0.jpg', 'B1.jpg']\n",
      "['A0.jpg', 'A1.jpg', 'A3.jpg', 'A2.jpg', 'A4.jpg', 'B5.jpg', 'B4.jpg', 'B3.jpg', 'B2.jpg', 'B0.jpg', 'B1.jpg']\n",
      "['A0.jpg', 'A1.jpg', 'A3.jpg', 'A2.jpg', 'A4.jpg']\n",
      "['A0.jpg', 'A1.jpg', 'A3.jpg', 'A2.jpg', 'A4.jpg', 'B5.jpg', 'B4.jpg', 'B6.jpg', 'B3.jpg', 'B2.jpg', 'B0.jpg', 'B1.jpg']\n",
      "['A0.jpg', 'A1.jpg', 'A3.jpg', 'A2.jpg', 'A4.jpg', 'B5.jpg', 'B4.jpg', 'B6.jpg', 'B3.jpg', 'B2.jpg', 'B0.jpg']\n",
      "['A0.jpg', 'A1.jpg', 'A3.jpg', 'A2.jpg', 'A4.jpg', 'B5.jpg', 'B3.jpg', 'B2.jpg', 'B0.jpg']\n",
      "['A1.jpg', 'A3.jpg', 'A2.jpg', 'B5.jpg', 'B4.jpg', 'B2.jpg', 'B1.jpg']\n",
      "['B5.jpg', 'B4.jpg', 'B6.jpg', 'B3.jpg', 'B2.jpg', 'B0.jpg', 'B1.jpg']\n",
      "['A0.jpg', 'A1.jpg', 'A3.jpg', 'A2.jpg', 'A4.jpg', 'B5.jpg', 'B4.jpg', 'B6.jpg', 'B3.jpg', 'B2.jpg', 'B0.jpg', 'B1.jpg']\n",
      "['A0.jpg', 'A1.jpg', 'A3.jpg', 'A2.jpg', 'A4.jpg', 'B5.jpg', 'B6.jpg', 'B3.jpg', 'B2.jpg', 'B0.jpg']\n",
      "['B3.jpg', 'B2.jpg', 'B0.jpg', 'B1.jpg']\n",
      "['A0.jpg', 'A1.jpg', 'A3.jpg', 'A2.jpg', 'A4.jpg', 'B5.jpg', 'B4.jpg', 'B6.jpg', 'B3.jpg', 'B2.jpg', 'B0.jpg', 'B1.jpg']\n",
      "['A0.jpg', 'A1.jpg', 'A3.jpg', 'A2.jpg', 'B4.jpg', 'B3.jpg', 'B2.jpg']\n",
      "['A0.jpg', 'B5.jpg', 'B3.jpg', 'B2.jpg', 'B1.jpg']\n",
      "['A0.jpg', 'A1.jpg', 'A3.jpg', 'A2.jpg', 'A4.jpg', 'B5.jpg', 'B4.jpg', 'B6.jpg', 'B3.jpg', 'B2.jpg', 'B0.jpg']\n",
      "['A0.jpg', 'A1.jpg', 'A3.jpg', 'A2.jpg', 'A4.jpg', 'B6.jpg', 'B2.jpg', 'B0.jpg', 'B1.jpg']\n",
      "['A1.jpg', 'A2.jpg', 'B6.jpg', 'B3.jpg', 'B2.jpg', 'B1.jpg']\n",
      "['B5.jpg', 'B4.jpg', 'B3.jpg', 'B2.jpg', 'B0.jpg', 'B1.jpg']\n",
      "['A0.jpg', 'A1.jpg', 'A3.jpg', 'A2.jpg', 'B5.jpg', 'B4.jpg', 'B0.jpg', 'B1.jpg']\n",
      "['A0.jpg', 'A1.jpg', 'A3.jpg', 'A2.jpg', 'A4.jpg', 'B5.jpg', 'B4.jpg', 'B6.jpg', 'B3.jpg', 'B2.jpg', 'B1.jpg']\n",
      "['A1.jpg', 'A3.jpg', 'A2.jpg', 'A4.jpg', 'B4.jpg', 'B6.jpg', 'B3.jpg', 'B2.jpg', 'B0.jpg', 'B1.jpg']\n",
      "['A0.jpg', 'A1.jpg', 'A3.jpg', 'A2.jpg', 'A4.jpg', 'B5.jpg', 'B4.jpg', 'B6.jpg', 'B3.jpg', 'B2.jpg', 'B0.jpg', 'B1.jpg']\n",
      "['B5.jpg', 'B4.jpg', 'B3.jpg', 'B2.jpg', 'B0.jpg', 'B1.jpg']\n",
      "['A0.jpg', 'A1.jpg', 'A3.jpg', 'A2.jpg', 'B4.jpg', 'B6.jpg', 'B3.jpg', 'B2.jpg', 'B0.jpg']\n",
      "['A0.jpg', 'A1.jpg', 'A3.jpg', 'A2.jpg', 'A4.jpg', 'B5.jpg', 'B2.jpg', 'B0.jpg']\n",
      "['B5.jpg', 'B6.jpg', 'B3.jpg', 'B2.jpg', 'B0.jpg', 'B1.jpg']\n",
      "['B5.jpg', 'B6.jpg', 'B3.jpg', 'B2.jpg']\n",
      "['B5.jpg', 'B4.jpg', 'B3.jpg', 'B0.jpg', 'B1.jpg']\n",
      "['B5.jpg', 'B4.jpg', 'B6.jpg', 'B3.jpg', 'B2.jpg', 'B0.jpg', 'B1.jpg']\n",
      "['B5.jpg', 'B4.jpg', 'B6.jpg', 'B3.jpg', 'B2.jpg', 'B0.jpg', 'B1.jpg']\n",
      "['B5.jpg', 'B4.jpg', 'B6.jpg', 'B3.jpg', 'B2.jpg', 'B1.jpg']\n",
      "['A0.jpg', 'A1.jpg', 'A3.jpg', 'A2.jpg', 'A4.jpg', 'B5.jpg', 'B4.jpg', 'B6.jpg', 'B3.jpg', 'B2.jpg', 'B0.jpg', 'B1.jpg']\n",
      "['A0.jpg', 'A1.jpg', 'A2.jpg', 'B5.jpg', 'B4.jpg', 'B3.jpg', 'B2.jpg', 'B0.jpg', 'B1.jpg']\n",
      "['A0.jpg', 'A1.jpg', 'A3.jpg', 'A2.jpg', 'B5.jpg', 'B4.jpg', 'B6.jpg', 'B3.jpg', 'B2.jpg']\n",
      "['B5.jpg', 'B4.jpg', 'B6.jpg', 'B3.jpg', 'B2.jpg', 'B0.jpg', 'B1.jpg']\n",
      "['B6.jpg', 'B3.jpg', 'B2.jpg', 'B0.jpg', 'B1.jpg']\n",
      "['B3.jpg', 'B2.jpg', 'B0.jpg', 'B1.jpg']\n",
      "['B5.jpg', 'B4.jpg', 'B3.jpg', 'B2.jpg', 'B0.jpg', 'B1.jpg']\n",
      "['A0.jpg', 'A1.jpg', 'A3.jpg', 'A2.jpg', 'A4.jpg', 'B4.jpg', 'B6.jpg', 'B3.jpg', 'B2.jpg', 'B0.jpg', 'B1.jpg']\n",
      "['A0.jpg', 'A1.jpg', 'A3.jpg', 'A2.jpg', 'A4.jpg', 'B5.jpg', 'B4.jpg', 'B6.jpg', 'B3.jpg', 'B2.jpg', 'B1.jpg']\n",
      "['A0.jpg', 'A1.jpg', 'A3.jpg', 'A2.jpg', 'A4.jpg', 'B3.jpg', 'B0.jpg', 'B1.jpg']\n",
      "['A0.jpg', 'A1.jpg', 'A3.jpg', 'A2.jpg', 'A4.jpg', 'B5.jpg', 'B4.jpg', 'B3.jpg', 'B2.jpg', 'B1.jpg']\n",
      "['A0.jpg', 'A1.jpg', 'A3.jpg', 'A2.jpg', 'A4.jpg', 'B5.jpg', 'B4.jpg', 'B6.jpg', 'B3.jpg', 'B2.jpg', 'B0.jpg']\n",
      "['A0.jpg', 'A1.jpg', 'A3.jpg', 'A2.jpg', 'A4.jpg', 'B5.jpg', 'B4.jpg', 'B3.jpg', 'B2.jpg', 'B0.jpg', 'B1.jpg']\n",
      "['A0.jpg', 'A1.jpg', 'A3.jpg', 'A2.jpg', 'A4.jpg', 'B5.jpg', 'B4.jpg', 'B6.jpg', 'B3.jpg', 'B2.jpg', 'B0.jpg']\n",
      "['A0.jpg', 'A1.jpg', 'A2.jpg', 'B5.jpg', 'B4.jpg', 'B3.jpg', 'B2.jpg', 'B0.jpg', 'B1.jpg']\n",
      "['A0.jpg', 'A1.jpg', 'A3.jpg', 'A2.jpg', 'A4.jpg', 'B5.jpg', 'B4.jpg', 'B6.jpg', 'B3.jpg', 'B2.jpg', 'B0.jpg', 'B1.jpg']\n",
      "['A0.jpg', 'A1.jpg', 'A3.jpg', 'A2.jpg', 'A4.jpg', 'B5.jpg', 'B4.jpg', 'B3.jpg', 'B2.jpg', 'B0.jpg', 'B1.jpg']\n",
      "['B5.jpg', 'B4.jpg', 'B3.jpg', 'B2.jpg', 'B0.jpg', 'B1.jpg']\n",
      "['A0.jpg', 'A1.jpg', 'A3.jpg', 'A2.jpg', 'A4.jpg', 'B5.jpg', 'B4.jpg', 'B6.jpg', 'B3.jpg', 'B2.jpg', 'B1.jpg']\n",
      "['A0.jpg', 'A1.jpg', 'A4.jpg', 'B4.jpg', 'B6.jpg', 'B2.jpg', 'B0.jpg']\n",
      "['A0.jpg', 'A1.jpg', 'A3.jpg', 'A2.jpg', 'A4.jpg', 'B5.jpg', 'B4.jpg', 'B6.jpg', 'B3.jpg', 'B2.jpg', 'B0.jpg', 'B1.jpg']\n",
      "['A0.jpg', 'A1.jpg', 'A3.jpg', 'A2.jpg', 'A4.jpg', 'B5.jpg', 'B4.jpg', 'B6.jpg', 'B3.jpg', 'B2.jpg', 'B0.jpg', 'B1.jpg']\n",
      "['A0.jpg', 'A1.jpg', 'A3.jpg', 'A2.jpg', 'A4.jpg', 'B5.jpg', 'B4.jpg', 'B6.jpg', 'B3.jpg', 'B2.jpg', 'B0.jpg', 'B1.jpg']\n",
      "['A0.jpg', 'A1.jpg', 'A3.jpg', 'A2.jpg', 'A4.jpg', 'B6.jpg', 'B2.jpg', 'B0.jpg', 'B1.jpg']\n",
      "['A0.jpg', 'A1.jpg', 'A3.jpg', 'A2.jpg', 'A4.jpg', 'B5.jpg', 'B4.jpg', 'B6.jpg', 'B3.jpg', 'B2.jpg', 'B0.jpg', 'B1.jpg']\n",
      "['A0.jpg', 'A1.jpg', 'A3.jpg', 'A2.jpg', 'A4.jpg', 'B5.jpg', 'B2.jpg', 'B0.jpg', 'B1.jpg']\n",
      "['A0.jpg', 'A1.jpg', 'A3.jpg', 'A2.jpg', 'A4.jpg', 'B5.jpg', 'B4.jpg', 'B6.jpg', 'B3.jpg', 'B2.jpg', 'B0.jpg', 'B1.jpg']\n",
      "['A0.jpg', 'B4.jpg', 'B3.jpg', 'B2.jpg', 'B0.jpg', 'B1.jpg']\n",
      "['A0.jpg', 'A1.jpg', 'A3.jpg', 'A2.jpg', 'A4.jpg', 'B4.jpg', 'B3.jpg', 'B2.jpg', 'B0.jpg', 'B1.jpg']\n",
      "['B3.jpg', 'B2.jpg', 'B0.jpg', 'B1.jpg']\n",
      "['A0.jpg', 'A1.jpg', 'A3.jpg', 'A2.jpg', 'A4.jpg', 'B4.jpg', 'B3.jpg', 'B2.jpg', 'B0.jpg']\n",
      "['A0.jpg', 'A1.jpg', 'A3.jpg', 'A2.jpg', 'A4.jpg', 'B5.jpg', 'B4.jpg', 'B6.jpg', 'B3.jpg', 'B2.jpg', 'B0.jpg', 'B1.jpg']\n",
      "['A0.jpg', 'A1.jpg', 'A3.jpg', 'A2.jpg', 'A4.jpg', 'B5.jpg', 'B3.jpg', 'B2.jpg', 'B1.jpg']\n",
      "['A0.jpg', 'A1.jpg', 'A2.jpg', 'B0.jpg']\n",
      "['A0.jpg', 'A1.jpg', 'A3.jpg', 'A2.jpg', 'A4.jpg', 'B5.jpg', 'B6.jpg', 'B3.jpg', 'B2.jpg', 'B0.jpg', 'B1.jpg']\n",
      "['B5.jpg', 'B4.jpg', 'B3.jpg', 'B2.jpg', 'B0.jpg', 'B1.jpg']\n",
      "['A0.jpg', 'A1.jpg', 'A3.jpg', 'A2.jpg', 'A4.jpg', 'B4.jpg', 'B6.jpg', 'B3.jpg', 'B2.jpg', 'B1.jpg']\n",
      "['A2.jpg', 'B5.jpg', 'B4.jpg', 'B6.jpg', 'B3.jpg', 'B2.jpg', 'B0.jpg', 'B1.jpg']\n",
      "['A0.jpg', 'A1.jpg', 'A2.jpg', 'A4.jpg', 'B5.jpg', 'B4.jpg', 'B6.jpg', 'B3.jpg', 'B2.jpg', 'B0.jpg', 'B1.jpg']\n",
      "['A0.jpg', 'A1.jpg', 'A3.jpg', 'A2.jpg', 'A4.jpg', 'B4.jpg', 'B3.jpg', 'B2.jpg', 'B1.jpg']\n",
      "['A0.jpg', 'A1.jpg', 'A3.jpg', 'A2.jpg', 'B5.jpg', 'B4.jpg', 'B6.jpg', 'B3.jpg', 'B2.jpg', 'B1.jpg']\n",
      "['A0.jpg', 'A1.jpg', 'A3.jpg', 'A2.jpg', 'A4.jpg', 'B4.jpg', 'B6.jpg', 'B3.jpg', 'B2.jpg', 'B0.jpg']\n",
      "['A0.jpg', 'A1.jpg', 'A3.jpg', 'A2.jpg', 'B4.jpg', 'B3.jpg', 'B2.jpg', 'B0.jpg', 'B1.jpg']\n",
      "['A1.jpg', 'A3.jpg', 'A2.jpg', 'A4.jpg', 'B5.jpg', 'B4.jpg', 'B6.jpg', 'B3.jpg', 'B2.jpg', 'B0.jpg', 'B1.jpg']\n",
      "['A0.jpg', 'A1.jpg', 'A3.jpg', 'A2.jpg', 'A4.jpg', 'B5.jpg', 'B4.jpg', 'B6.jpg', 'B3.jpg', 'B2.jpg', 'B0.jpg', 'B1.jpg']\n",
      "['A0.jpg', 'A1.jpg', 'A3.jpg', 'A2.jpg', 'A4.jpg', 'B5.jpg', 'B4.jpg', 'B6.jpg', 'B3.jpg', 'B2.jpg', 'B0.jpg', 'B1.jpg']\n",
      "['A0.jpg', 'A1.jpg', 'A3.jpg', 'A2.jpg', 'A4.jpg', 'B5.jpg', 'B4.jpg', 'B3.jpg', 'B2.jpg', 'B0.jpg', 'B1.jpg']\n",
      "['A0.jpg', 'A1.jpg', 'A4.jpg', 'B5.jpg', 'B4.jpg', 'B6.jpg', 'B3.jpg', 'B2.jpg', 'B0.jpg', 'B1.jpg']\n",
      "['A0.jpg', 'A1.jpg', 'A3.jpg', 'A2.jpg', 'A4.jpg', 'B3.jpg', 'B2.jpg']\n",
      "['A0.jpg', 'A1.jpg', 'A4.jpg', 'B5.jpg', 'B4.jpg', 'B6.jpg', 'B3.jpg', 'B0.jpg', 'B1.jpg']\n",
      "['A0.jpg', 'A1.jpg', 'A3.jpg', 'A2.jpg', 'A4.jpg', 'B5.jpg', 'B4.jpg', 'B6.jpg', 'B3.jpg', 'B2.jpg', 'B0.jpg', 'B1.jpg']\n",
      "['A0.jpg', 'A1.jpg', 'A3.jpg', 'A4.jpg', 'B5.jpg', 'B4.jpg', 'B0.jpg', 'B1.jpg']\n",
      "['A1.jpg', 'A3.jpg', 'A2.jpg', 'B5.jpg', 'B4.jpg', 'B6.jpg', 'B3.jpg', 'B2.jpg', 'B1.jpg']\n",
      "['A0.jpg', 'A1.jpg', 'B2.jpg', 'B0.jpg', 'B1.jpg']\n",
      "['A0.jpg', 'A1.jpg', 'B5.jpg', 'B4.jpg', 'B3.jpg', 'B2.jpg', 'B0.jpg']\n",
      "['A0.jpg', 'A1.jpg', 'A3.jpg', 'A2.jpg', 'B4.jpg', 'B3.jpg', 'B2.jpg', 'B0.jpg', 'B1.jpg']\n",
      "['B3.jpg', 'B2.jpg', 'B0.jpg', 'B1.jpg']\n",
      "['A0.jpg', 'A3.jpg', 'A4.jpg', 'B4.jpg', 'B3.jpg', 'B2.jpg', 'B0.jpg']\n",
      "['A1.jpg', 'A3.jpg', 'A2.jpg', 'A4.jpg', 'B5.jpg', 'B4.jpg', 'B6.jpg', 'B3.jpg', 'B2.jpg']\n",
      "['A0.jpg', 'A1.jpg', 'A2.jpg', 'B3.jpg', 'B2.jpg', 'B1.jpg']\n",
      "['A0.jpg', 'A1.jpg', 'A3.jpg', 'A2.jpg', 'A4.jpg', 'B6.jpg', 'B2.jpg', 'B0.jpg', 'B1.jpg']\n",
      "['A0.jpg', 'A1.jpg', 'A3.jpg', 'A2.jpg', 'A4.jpg', 'B5.jpg', 'B3.jpg', 'B2.jpg', 'B0.jpg', 'B1.jpg']\n",
      "['A0.jpg', 'A1.jpg', 'A3.jpg', 'A2.jpg', 'B4.jpg', 'B3.jpg', 'B2.jpg', 'B1.jpg']\n",
      "['A0.jpg', 'A1.jpg', 'A2.jpg', 'A4.jpg', 'B5.jpg', 'B4.jpg', 'B3.jpg', 'B2.jpg', 'B1.jpg']\n",
      "['A0.jpg', 'A1.jpg', 'A3.jpg', 'A2.jpg', 'A4.jpg', 'B5.jpg', 'B4.jpg', 'B3.jpg', 'B2.jpg', 'B0.jpg', 'B1.jpg']\n",
      "['A0.jpg', 'A1.jpg', 'A3.jpg', 'B6.jpg', 'B3.jpg', 'B2.jpg', 'B0.jpg']\n",
      "['A0.jpg', 'A1.jpg', 'A3.jpg', 'A2.jpg', 'A4.jpg', 'B4.jpg', 'B3.jpg', 'B2.jpg', 'B0.jpg']\n",
      "['A0.jpg', 'A1.jpg', 'A2.jpg', 'B5.jpg', 'B4.jpg', 'B2.jpg', 'B0.jpg', 'B1.jpg']\n",
      "['A0.jpg', 'A1.jpg', 'A3.jpg', 'A2.jpg', 'A4.jpg', 'B5.jpg', 'B4.jpg', 'B6.jpg', 'B3.jpg', 'B2.jpg', 'B0.jpg', 'B1.jpg']\n",
      "['B3.jpg', 'B2.jpg', 'B0.jpg', 'B1.jpg']\n",
      "['A0.jpg', 'A1.jpg', 'A3.jpg', 'A2.jpg', 'B5.jpg', 'B4.jpg', 'B6.jpg', 'B3.jpg', 'B2.jpg', 'B0.jpg', 'B1.jpg']\n",
      "['A0.jpg', 'A1.jpg', 'A3.jpg', 'A2.jpg', 'A4.jpg', 'B5.jpg', 'B4.jpg', 'B6.jpg', 'B3.jpg', 'B2.jpg', 'B0.jpg', 'B1.jpg']\n",
      "['A0.jpg', 'A1.jpg', 'A3.jpg', 'A2.jpg', 'A4.jpg', 'B5.jpg', 'B4.jpg', 'B6.jpg', 'B3.jpg', 'B2.jpg', 'B0.jpg']\n",
      "['A0.jpg', 'A1.jpg', 'A2.jpg', 'B4.jpg', 'B3.jpg', 'B2.jpg', 'B0.jpg']\n",
      "['B5.jpg', 'B4.jpg', 'B6.jpg', 'B3.jpg', 'B2.jpg', 'B0.jpg', 'B1.jpg']\n",
      "['A0.jpg', 'A1.jpg', 'A3.jpg', 'A2.jpg', 'A4.jpg', 'B5.jpg', 'B4.jpg', 'B6.jpg', 'B3.jpg', 'B2.jpg', 'B1.jpg']\n",
      "['A0.jpg', 'A1.jpg', 'A3.jpg', 'A2.jpg', 'A4.jpg', 'B4.jpg', 'B6.jpg', 'B3.jpg', 'B2.jpg', 'B0.jpg']\n",
      "['A0.jpg', 'A1.jpg', 'B3.jpg', 'B2.jpg', 'B0.jpg', 'B1.jpg']\n",
      "['A0.jpg', 'A1.jpg', 'A3.jpg', 'A2.jpg', 'B5.jpg', 'B4.jpg', 'B6.jpg', 'B3.jpg', 'B2.jpg', 'B1.jpg']\n",
      "['A0.jpg', 'A1.jpg', 'A3.jpg', 'A2.jpg', 'B5.jpg', 'B4.jpg', 'B6.jpg', 'B3.jpg', 'B2.jpg', 'B1.jpg']\n"
     ]
    },
    {
     "name": "stderr",
     "output_type": "stream",
     "text": [
      "\n"
     ]
    }
   ],
   "source": [
    "for x in tqdm(subfolders):\n",
    "    file_path = input_path + x\n",
    "    for y, z, filenames in os.walk(file_path):\n",
    "        print(filenames)\n",
    "        break"
   ]
  },
  {
   "cell_type": "code",
   "execution_count": 39,
   "metadata": {},
   "outputs": [],
   "source": [
    "sub2 =[]\n",
    "for folder_name, subs, filenames in os.walk('./hand_east/train/'):\n",
    "        # Print the subfolder name\n",
    "        # print(f\"Subfolder: {subfolders}\")\n",
    "        sub2.extend(subs)\n",
    "        break"
   ]
  },
  {
   "cell_type": "code",
   "execution_count": 47,
   "metadata": {},
   "outputs": [
    {
     "name": "stderr",
     "output_type": "stream",
     "text": [
      "100%|██████████| 1328/1328 [00:00<00:00, 34437.36it/s]\n"
     ]
    }
   ],
   "source": [
    "sub3 =[]\n",
    "for x in tqdm(sub2):\n",
    "    file_path = output_path + x\n",
    "    for y, z, filenames in os.walk(file_path):\n",
    "        sub3.append(filenames)\n",
    "        break"
   ]
  },
  {
   "cell_type": "code",
   "execution_count": 48,
   "metadata": {},
   "outputs": [],
   "source": [
    "c =0\n",
    "temp = []\n",
    "for x in sub3:\n",
    "    if(len(x)==1):\n",
    "        c += 1"
   ]
  },
  {
   "cell_type": "code",
   "execution_count": 49,
   "metadata": {},
   "outputs": [
    {
     "data": {
      "text/plain": [
       "152"
      ]
     },
     "execution_count": 49,
     "metadata": {},
     "output_type": "execute_result"
    }
   ],
   "source": [
    "c"
   ]
  },
  {
   "cell_type": "code",
   "execution_count": 51,
   "metadata": {},
   "outputs": [],
   "source": [
    "pd.DataFrame.to_csv(data_east,'data_east.scv')"
   ]
  },
  {
   "cell_type": "code",
   "execution_count": 57,
   "metadata": {},
   "outputs": [],
   "source": [
    "dd = pd.read_csv('data_east.scv')\n"
   ]
  },
  {
   "cell_type": "code",
   "execution_count": 54,
   "metadata": {},
   "outputs": [
    {
     "data": {
      "text/html": [
       "<div>\n",
       "<style scoped>\n",
       "    .dataframe tbody tr th:only-of-type {\n",
       "        vertical-align: middle;\n",
       "    }\n",
       "\n",
       "    .dataframe tbody tr th {\n",
       "        vertical-align: top;\n",
       "    }\n",
       "\n",
       "    .dataframe thead th {\n",
       "        text-align: right;\n",
       "    }\n",
       "</style>\n",
       "<table border=\"1\" class=\"dataframe\">\n",
       "  <thead>\n",
       "    <tr style=\"text-align: right;\">\n",
       "      <th></th>\n",
       "      <th>Unnamed: 0</th>\n",
       "      <th>filename</th>\n",
       "      <th>folder</th>\n",
       "      <th>imagename</th>\n",
       "      <th>cropped</th>\n",
       "    </tr>\n",
       "  </thead>\n",
       "  <tbody>\n",
       "    <tr>\n",
       "      <th>0</th>\n",
       "      <td>0</td>\n",
       "      <td>./dataset/train/P2369/B4.jpg</td>\n",
       "      <td>P2369</td>\n",
       "      <td>B4.jpg</td>\n",
       "      <td>./hand_east/train/P2369/B4.jpg</td>\n",
       "    </tr>\n",
       "    <tr>\n",
       "      <th>1</th>\n",
       "      <td>1</td>\n",
       "      <td>./dataset/train/P2369/B6.jpg</td>\n",
       "      <td>P2369</td>\n",
       "      <td>B6.jpg</td>\n",
       "      <td>./hand_east/train/P2369/B6.jpg</td>\n",
       "    </tr>\n",
       "    <tr>\n",
       "      <th>2</th>\n",
       "      <td>2</td>\n",
       "      <td>./dataset/train/P2369/B2.jpg</td>\n",
       "      <td>P2369</td>\n",
       "      <td>B2.jpg</td>\n",
       "      <td>./hand_east/train/P2369/B2.jpg</td>\n",
       "    </tr>\n",
       "    <tr>\n",
       "      <th>3</th>\n",
       "      <td>3</td>\n",
       "      <td>./dataset/train/P2369/B0.jpg</td>\n",
       "      <td>P2369</td>\n",
       "      <td>B0.jpg</td>\n",
       "      <td>./hand_east/train/P2369/B0.jpg</td>\n",
       "    </tr>\n",
       "    <tr>\n",
       "      <th>4</th>\n",
       "      <td>4</td>\n",
       "      <td>./dataset/train/P2369/B1.jpg</td>\n",
       "      <td>P2369</td>\n",
       "      <td>B1.jpg</td>\n",
       "      <td>./hand_east/train/P2369/B1.jpg</td>\n",
       "    </tr>\n",
       "  </tbody>\n",
       "</table>\n",
       "</div>"
      ],
      "text/plain": [
       "   Unnamed: 0                      filename folder imagename  \\\n",
       "0           0  ./dataset/train/P2369/B4.jpg  P2369    B4.jpg   \n",
       "1           1  ./dataset/train/P2369/B6.jpg  P2369    B6.jpg   \n",
       "2           2  ./dataset/train/P2369/B2.jpg  P2369    B2.jpg   \n",
       "3           3  ./dataset/train/P2369/B0.jpg  P2369    B0.jpg   \n",
       "4           4  ./dataset/train/P2369/B1.jpg  P2369    B1.jpg   \n",
       "\n",
       "                          cropped  \n",
       "0  ./hand_east/train/P2369/B4.jpg  \n",
       "1  ./hand_east/train/P2369/B6.jpg  \n",
       "2  ./hand_east/train/P2369/B2.jpg  \n",
       "3  ./hand_east/train/P2369/B0.jpg  \n",
       "4  ./hand_east/train/P2369/B1.jpg  "
      ]
     },
     "execution_count": 54,
     "metadata": {},
     "output_type": "execute_result"
    }
   ],
   "source": [
    "dd.head()"
   ]
  },
  {
   "attachments": {},
   "cell_type": "markdown",
   "metadata": {},
   "source": [
    "## Processing the Validation folder"
   ]
  },
  {
   "cell_type": "code",
   "execution_count": 60,
   "metadata": {},
   "outputs": [],
   "source": [
    "val_files = []\n",
    "for _, _, filenames in os.walk('./dataset/val/'):\n",
    "    val_files.extend(filenames)\n",
    "    break"
   ]
  },
  {
   "cell_type": "code",
   "execution_count": 61,
   "metadata": {},
   "outputs": [
    {
     "data": {
      "text/plain": [
       "730"
      ]
     },
     "execution_count": 61,
     "metadata": {},
     "output_type": "execute_result"
    }
   ],
   "source": [
    "len(val_files)"
   ]
  },
  {
   "cell_type": "code",
   "execution_count": 66,
   "metadata": {},
   "outputs": [],
   "source": [
    "\n",
    "def crop_rectangular_box(image):\n",
    "    \n",
    "    \n",
    "\n",
    "    \n",
    "    # Find contours in the binary image\n",
    "    contours, _ = cv2.findContours(image, cv2.RETR_EXTERNAL, cv2.CHAIN_APPROX_SIMPLE)\n",
    "    \n",
    "    # Find the contour with the largest area\n",
    "    largest_contour = max(contours, key=cv2.contourArea)\n",
    "    \n",
    "    # Get the bounding rectangle of the largest contour\n",
    "    x, y, w, h = cv2.boundingRect(largest_contour)\n",
    "    \n",
    "    # Crop the image based on the bounding rectangle\n",
    "    cropped_image = image[y:y+h, x:x+w]\n",
    "    #cropped_image = cv2.cvtColor(cropped_image, cv2.COLOR_BGR2GRAY)\n",
    "    #output = cv2.merge([cropped_image,cropped_image,cropped_image])\n",
    "    \n",
    "    return cropped_image\n"
   ]
  },
  {
   "cell_type": "code",
   "execution_count": 73,
   "metadata": {},
   "outputs": [
    {
     "name": "stderr",
     "output_type": "stream",
     "text": [
      "100%|██████████| 730/730 [07:35<00:00,  1.60it/s]\n"
     ]
    }
   ],
   "source": [
    "total = 0\n",
    "count1 = 0\n",
    "count2 = 0\n",
    "temp =[]\n",
    "input_path = './dataset/val/'\n",
    "output_path = './hand_east/val/'\n",
    "\n",
    "for f in tqdm(val_files):\n",
    "    img = input_path + f\n",
    "    image1 = cv2.imread(img)\n",
    "    image_knn = to_knn(image1)\n",
    "    ci = detect_text_region(image_knn)\n",
    "    if ci:\n",
    "        arr = np.array(ci)\n",
    "        m_max = arr.max(axis=0)\n",
    "        m_min = arr.min(axis=0)\n",
    "        min_y = m_min[0]\n",
    "        max_y = m_max[1]\n",
    "        min_x = m_min[2]\n",
    "        max_x = m_max[3]\n",
    "        cropped = image_knn[min_y:max_y,min_x:max_x]\n",
    "        outimg = cropped[0:,100:500]\n",
    "        temp.append(outimg.shape)\n",
    "        if(outimg.shape[0]==0 or outimg.shape[1]==0):\n",
    "            cimage = crop_rectangular_box(image_knn[:,:,0])\n",
    "            outimg = cimage[0:,200:600]\n",
    "            resized = cv2.resize(outimg,(256,256))\n",
    "            newdir = output_path\n",
    "            if not os.path.exists(newdir):\n",
    "                os.makedirs(newdir)\n",
    "            opg = newdir + f\n",
    "            cv2.imwrite(opg,resized)\n",
    "            continue\n",
    "        resized = cv2.resize(outimg,(256,256))\n",
    "        newdir = output_path\n",
    "        if not os.path.exists(newdir):\n",
    "            os.makedirs(newdir)\n",
    "        opg = newdir + f\n",
    "        cv2.imwrite(opg,resized)\n",
    "    else:\n",
    "\n",
    "        cimage = crop_rectangular_box(image_knn[:,:,0])\n",
    "        outimg = cimage[0:,200:600]\n",
    "        resized = cv2.resize(outimg,(256,256))\n",
    "        newdir = output_path\n",
    "        if not os.path.exists(newdir):\n",
    "            os.makedirs(newdir)\n",
    "        opg = newdir + f\n",
    "        cv2.imwrite(opg,resized)"
   ]
  },
  {
   "cell_type": "code",
   "execution_count": 71,
   "metadata": {},
   "outputs": [
    {
     "data": {
      "text/plain": [
       "[(80, 0, 3)]"
      ]
     },
     "execution_count": 71,
     "metadata": {},
     "output_type": "execute_result"
    }
   ],
   "source": [
    "temp"
   ]
  },
  {
   "cell_type": "code",
   "execution_count": 2,
   "metadata": {},
   "outputs": [],
   "source": [
    "data_east = pd.read_csv('hand_east/data_east.csv')"
   ]
  },
  {
   "cell_type": "code",
   "execution_count": 30,
   "metadata": {},
   "outputs": [],
   "source": [
    "data_pairs = pd.DataFrame(columns=['img0','img1','label'])"
   ]
  },
  {
   "cell_type": "code",
   "execution_count": 31,
   "metadata": {},
   "outputs": [
    {
     "name": "stdout",
     "output_type": "stream",
     "text": [
      "1000\n",
      "2000\n",
      "3000\n",
      "4000\n",
      "5000\n",
      "6000\n",
      "7000\n",
      "8000\n",
      "9000\n",
      "10000\n",
      "11000\n",
      "12000\n",
      "13000\n",
      "14000\n",
      "15000\n",
      "16000\n",
      "17000\n",
      "18000\n",
      "19000\n",
      "20000\n",
      "21000\n",
      "22000\n",
      "23000\n",
      "24000\n",
      "25000\n",
      "26000\n",
      "27000\n",
      "28000\n",
      "29000\n",
      "30000\n",
      "31000\n",
      "32000\n",
      "33000\n",
      "34000\n",
      "35000\n",
      "36000\n",
      "37000\n",
      "38000\n",
      "39000\n",
      "40000\n",
      "41000\n",
      "42000\n",
      "43000\n",
      "44000\n",
      "45000\n",
      "46000\n",
      "47000\n",
      "48000\n",
      "49000\n",
      "50000\n",
      "51000\n",
      "52000\n",
      "53000\n",
      "54000\n",
      "55000\n",
      "56000\n",
      "57000\n",
      "58000\n",
      "59000\n",
      "60000\n",
      "61000\n",
      "62000\n",
      "63000\n",
      "64000\n",
      "65000\n",
      "66000\n",
      "67000\n",
      "68000\n",
      "69000\n",
      "70000\n",
      "71000\n",
      "72000\n",
      "73000\n",
      "74000\n",
      "75000\n",
      "76000\n",
      "77000\n",
      "78000\n",
      "79000\n",
      "80000\n",
      "81000\n",
      "82000\n",
      "83000\n",
      "84000\n",
      "85000\n",
      "86000\n",
      "87000\n",
      "88000\n",
      "89000\n",
      "90000\n",
      "91000\n",
      "92000\n",
      "93000\n",
      "94000\n",
      "95000\n",
      "96000\n",
      "97000\n",
      "98000\n",
      "99000\n",
      "100000\n",
      "101000\n",
      "102000\n",
      "103000\n",
      "104000\n",
      "105000\n",
      "106000\n",
      "107000\n",
      "108000\n",
      "109000\n",
      "110000\n",
      "111000\n",
      "112000\n",
      "113000\n",
      "114000\n",
      "115000\n",
      "116000\n",
      "117000\n",
      "118000\n",
      "119000\n",
      "120000\n",
      "121000\n",
      "122000\n",
      "123000\n",
      "124000\n",
      "125000\n",
      "126000\n",
      "127000\n",
      "128000\n",
      "129000\n",
      "130000\n",
      "131000\n",
      "132000\n",
      "133000\n",
      "134000\n",
      "135000\n",
      "136000\n",
      "137000\n",
      "138000\n",
      "139000\n",
      "140000\n",
      "141000\n",
      "142000\n",
      "143000\n",
      "144000\n",
      "145000\n",
      "146000\n",
      "147000\n",
      "148000\n",
      "149000\n",
      "150000\n",
      "151000\n",
      "152000\n",
      "153000\n",
      "154000\n",
      "155000\n",
      "156000\n",
      "157000\n",
      "158000\n",
      "159000\n",
      "160000\n",
      "161000\n",
      "162000\n",
      "163000\n",
      "164000\n",
      "165000\n",
      "166000\n",
      "167000\n",
      "168000\n",
      "169000\n",
      "170000\n",
      "171000\n",
      "172000\n",
      "173000\n",
      "174000\n",
      "175000\n",
      "176000\n",
      "177000\n",
      "178000\n",
      "179000\n",
      "180000\n",
      "181000\n",
      "182000\n",
      "183000\n",
      "184000\n",
      "185000\n",
      "186000\n",
      "187000\n",
      "188000\n",
      "189000\n",
      "190000\n",
      "191000\n",
      "192000\n",
      "193000\n",
      "194000\n",
      "195000\n",
      "196000\n",
      "197000\n",
      "198000\n",
      "199000\n",
      "200000\n",
      "201000\n",
      "202000\n",
      "203000\n",
      "204000\n",
      "205000\n",
      "206000\n",
      "207000\n",
      "208000\n",
      "209000\n",
      "210000\n",
      "211000\n",
      "212000\n",
      "213000\n",
      "214000\n",
      "215000\n",
      "216000\n",
      "217000\n",
      "218000\n",
      "219000\n",
      "220000\n",
      "221000\n",
      "222000\n",
      "223000\n",
      "224000\n",
      "225000\n",
      "226000\n",
      "227000\n",
      "228000\n",
      "229000\n",
      "230000\n",
      "231000\n",
      "232000\n",
      "233000\n",
      "234000\n",
      "235000\n",
      "236000\n",
      "237000\n",
      "238000\n",
      "239000\n",
      "240000\n",
      "241000\n",
      "242000\n",
      "243000\n",
      "244000\n",
      "245000\n",
      "246000\n",
      "247000\n",
      "248000\n",
      "249000\n",
      "250000\n",
      "251000\n",
      "252000\n",
      "253000\n",
      "254000\n",
      "255000\n",
      "256000\n",
      "257000\n",
      "258000\n",
      "259000\n",
      "260000\n",
      "261000\n",
      "262000\n",
      "263000\n",
      "264000\n",
      "265000\n",
      "266000\n",
      "267000\n",
      "268000\n",
      "269000\n",
      "270000\n",
      "271000\n",
      "272000\n",
      "273000\n",
      "274000\n",
      "275000\n",
      "276000\n",
      "277000\n",
      "278000\n",
      "279000\n",
      "280000\n",
      "281000\n",
      "282000\n",
      "283000\n",
      "284000\n",
      "285000\n",
      "286000\n",
      "287000\n",
      "288000\n",
      "289000\n",
      "290000\n",
      "291000\n",
      "292000\n",
      "293000\n",
      "294000\n",
      "295000\n",
      "296000\n",
      "297000\n",
      "298000\n",
      "299000\n",
      "300000\n",
      "301000\n",
      "302000\n",
      "303000\n",
      "304000\n",
      "305000\n",
      "306000\n",
      "307000\n",
      "308000\n",
      "309000\n",
      "310000\n",
      "311000\n",
      "312000\n",
      "313000\n",
      "314000\n",
      "315000\n",
      "316000\n",
      "317000\n",
      "318000\n",
      "319000\n",
      "320000\n",
      "321000\n",
      "322000\n",
      "323000\n",
      "324000\n",
      "325000\n",
      "326000\n",
      "327000\n",
      "328000\n",
      "329000\n",
      "330000\n",
      "331000\n",
      "332000\n",
      "333000\n",
      "334000\n",
      "335000\n",
      "336000\n",
      "337000\n",
      "338000\n",
      "339000\n",
      "340000\n",
      "341000\n",
      "342000\n",
      "343000\n",
      "344000\n",
      "345000\n",
      "346000\n",
      "347000\n",
      "348000\n",
      "349000\n",
      "350000\n",
      "351000\n",
      "352000\n",
      "353000\n",
      "354000\n",
      "355000\n",
      "356000\n",
      "357000\n",
      "358000\n",
      "359000\n",
      "360000\n",
      "361000\n",
      "362000\n",
      "363000\n",
      "364000\n",
      "365000\n",
      "366000\n",
      "367000\n",
      "368000\n",
      "369000\n",
      "370000\n",
      "371000\n",
      "372000\n",
      "373000\n",
      "374000\n",
      "375000\n",
      "376000\n",
      "377000\n",
      "378000\n",
      "379000\n",
      "380000\n",
      "381000\n",
      "382000\n",
      "383000\n",
      "384000\n",
      "385000\n",
      "386000\n",
      "387000\n",
      "388000\n",
      "389000\n",
      "390000\n",
      "391000\n",
      "392000\n",
      "393000\n",
      "394000\n",
      "395000\n",
      "396000\n",
      "397000\n",
      "398000\n",
      "399000\n",
      "400000\n",
      "401000\n",
      "402000\n",
      "403000\n",
      "404000\n",
      "405000\n",
      "406000\n",
      "407000\n",
      "408000\n",
      "409000\n",
      "410000\n",
      "411000\n",
      "412000\n",
      "413000\n",
      "414000\n",
      "415000\n",
      "416000\n",
      "417000\n",
      "418000\n",
      "419000\n",
      "420000\n",
      "421000\n",
      "422000\n",
      "423000\n",
      "424000\n",
      "425000\n",
      "426000\n",
      "427000\n",
      "428000\n",
      "429000\n",
      "430000\n",
      "431000\n",
      "432000\n",
      "433000\n",
      "434000\n",
      "435000\n",
      "436000\n",
      "437000\n",
      "438000\n",
      "439000\n",
      "440000\n",
      "441000\n",
      "442000\n",
      "443000\n",
      "444000\n",
      "445000\n",
      "446000\n",
      "447000\n",
      "448000\n",
      "449000\n",
      "450000\n",
      "451000\n",
      "452000\n",
      "453000\n",
      "454000\n",
      "455000\n",
      "456000\n",
      "457000\n",
      "458000\n",
      "459000\n",
      "460000\n",
      "461000\n",
      "462000\n",
      "463000\n",
      "464000\n",
      "465000\n",
      "466000\n",
      "467000\n",
      "468000\n",
      "469000\n",
      "470000\n",
      "471000\n",
      "472000\n",
      "473000\n",
      "474000\n",
      "475000\n",
      "476000\n",
      "477000\n",
      "478000\n",
      "479000\n",
      "480000\n",
      "481000\n",
      "482000\n",
      "483000\n",
      "484000\n",
      "485000\n",
      "486000\n",
      "487000\n",
      "488000\n",
      "489000\n",
      "490000\n",
      "491000\n",
      "492000\n",
      "493000\n",
      "494000\n",
      "495000\n",
      "496000\n",
      "497000\n",
      "498000\n",
      "499000\n",
      "500000\n",
      "501000\n",
      "502000\n",
      "503000\n",
      "504000\n",
      "505000\n",
      "506000\n",
      "507000\n",
      "508000\n",
      "509000\n",
      "510000\n",
      "511000\n",
      "512000\n",
      "513000\n",
      "514000\n",
      "515000\n",
      "516000\n",
      "517000\n",
      "518000\n",
      "519000\n",
      "520000\n",
      "521000\n",
      "522000\n",
      "523000\n",
      "524000\n",
      "525000\n",
      "526000\n",
      "527000\n",
      "528000\n",
      "529000\n",
      "530000\n",
      "531000\n",
      "532000\n",
      "533000\n",
      "534000\n",
      "535000\n",
      "536000\n",
      "537000\n",
      "538000\n",
      "539000\n",
      "540000\n",
      "541000\n",
      "542000\n",
      "543000\n",
      "544000\n",
      "545000\n",
      "546000\n",
      "547000\n",
      "548000\n",
      "549000\n",
      "550000\n",
      "551000\n",
      "552000\n",
      "553000\n",
      "554000\n",
      "555000\n",
      "556000\n",
      "557000\n",
      "558000\n",
      "559000\n",
      "560000\n",
      "561000\n",
      "562000\n",
      "563000\n",
      "564000\n",
      "565000\n",
      "566000\n",
      "567000\n",
      "568000\n",
      "569000\n",
      "570000\n",
      "571000\n",
      "572000\n",
      "573000\n",
      "574000\n",
      "575000\n",
      "576000\n",
      "577000\n",
      "578000\n",
      "579000\n",
      "580000\n",
      "581000\n",
      "582000\n",
      "583000\n",
      "584000\n",
      "585000\n",
      "586000\n",
      "587000\n",
      "588000\n",
      "589000\n",
      "590000\n",
      "591000\n",
      "592000\n",
      "593000\n",
      "594000\n",
      "595000\n",
      "596000\n",
      "597000\n",
      "598000\n",
      "599000\n",
      "600000\n",
      "601000\n",
      "602000\n",
      "603000\n",
      "604000\n",
      "605000\n",
      "606000\n",
      "607000\n",
      "608000\n",
      "609000\n",
      "610000\n",
      "611000\n",
      "612000\n",
      "613000\n",
      "614000\n",
      "615000\n",
      "616000\n",
      "617000\n",
      "618000\n",
      "619000\n",
      "620000\n",
      "621000\n",
      "622000\n",
      "623000\n",
      "624000\n",
      "625000\n",
      "626000\n",
      "627000\n",
      "628000\n",
      "629000\n",
      "630000\n",
      "631000\n",
      "632000\n",
      "633000\n",
      "634000\n",
      "635000\n",
      "636000\n",
      "637000\n",
      "638000\n",
      "639000\n",
      "640000\n",
      "641000\n",
      "642000\n",
      "643000\n",
      "644000\n",
      "645000\n",
      "646000\n",
      "647000\n",
      "648000\n",
      "649000\n",
      "650000\n",
      "651000\n",
      "652000\n",
      "653000\n",
      "654000\n",
      "655000\n",
      "656000\n",
      "657000\n",
      "658000\n",
      "659000\n",
      "660000\n",
      "661000\n",
      "662000\n",
      "663000\n",
      "664000\n",
      "665000\n",
      "666000\n",
      "667000\n",
      "668000\n",
      "669000\n",
      "670000\n",
      "671000\n",
      "672000\n",
      "673000\n",
      "674000\n",
      "675000\n",
      "676000\n",
      "677000\n",
      "678000\n",
      "679000\n",
      "680000\n",
      "681000\n",
      "682000\n",
      "683000\n",
      "684000\n",
      "685000\n",
      "686000\n",
      "687000\n",
      "688000\n",
      "689000\n",
      "690000\n",
      "691000\n",
      "692000\n",
      "693000\n",
      "694000\n",
      "695000\n",
      "696000\n",
      "697000\n",
      "698000\n",
      "699000\n",
      "700000\n",
      "701000\n",
      "702000\n",
      "703000\n",
      "704000\n",
      "705000\n",
      "706000\n",
      "707000\n",
      "708000\n",
      "709000\n",
      "710000\n",
      "711000\n",
      "712000\n",
      "713000\n",
      "714000\n",
      "715000\n",
      "716000\n",
      "717000\n",
      "718000\n",
      "719000\n",
      "720000\n",
      "721000\n",
      "722000\n",
      "723000\n",
      "724000\n",
      "725000\n",
      "726000\n",
      "727000\n",
      "728000\n",
      "729000\n",
      "730000\n",
      "731000\n",
      "732000\n",
      "733000\n",
      "734000\n",
      "735000\n",
      "736000\n",
      "737000\n",
      "738000\n",
      "739000\n",
      "740000\n",
      "741000\n",
      "742000\n",
      "743000\n",
      "744000\n",
      "745000\n",
      "746000\n",
      "747000\n",
      "748000\n",
      "749000\n",
      "750000\n",
      "751000\n",
      "752000\n",
      "753000\n",
      "754000\n",
      "755000\n",
      "756000\n",
      "757000\n",
      "758000\n",
      "759000\n",
      "760000\n",
      "761000\n",
      "762000\n",
      "763000\n",
      "764000\n",
      "765000\n",
      "766000\n",
      "767000\n",
      "768000\n",
      "769000\n",
      "770000\n",
      "771000\n",
      "772000\n",
      "773000\n",
      "774000\n",
      "775000\n",
      "776000\n",
      "777000\n",
      "778000\n",
      "779000\n",
      "780000\n",
      "781000\n",
      "782000\n",
      "783000\n",
      "784000\n",
      "785000\n",
      "786000\n",
      "787000\n",
      "788000\n",
      "789000\n",
      "790000\n",
      "791000\n",
      "792000\n",
      "793000\n",
      "794000\n",
      "795000\n",
      "796000\n",
      "797000\n",
      "798000\n",
      "799000\n",
      "800000\n",
      "801000\n",
      "802000\n",
      "803000\n",
      "804000\n",
      "805000\n",
      "806000\n",
      "807000\n",
      "808000\n",
      "809000\n",
      "810000\n",
      "811000\n",
      "812000\n",
      "813000\n",
      "814000\n",
      "815000\n",
      "816000\n",
      "817000\n",
      "818000\n",
      "819000\n",
      "820000\n",
      "821000\n",
      "822000\n",
      "823000\n",
      "824000\n",
      "825000\n",
      "826000\n",
      "827000\n",
      "828000\n",
      "829000\n",
      "830000\n",
      "831000\n",
      "832000\n",
      "833000\n",
      "834000\n",
      "835000\n",
      "836000\n",
      "837000\n",
      "838000\n",
      "839000\n",
      "840000\n",
      "841000\n",
      "842000\n",
      "843000\n",
      "844000\n",
      "845000\n",
      "846000\n",
      "847000\n",
      "848000\n",
      "849000\n",
      "850000\n",
      "851000\n",
      "852000\n",
      "853000\n",
      "854000\n",
      "855000\n",
      "856000\n",
      "857000\n",
      "858000\n",
      "859000\n",
      "860000\n",
      "861000\n",
      "862000\n",
      "863000\n",
      "864000\n",
      "865000\n",
      "866000\n",
      "867000\n",
      "868000\n",
      "869000\n",
      "870000\n",
      "871000\n",
      "872000\n",
      "873000\n",
      "874000\n",
      "875000\n",
      "876000\n",
      "877000\n",
      "878000\n",
      "879000\n",
      "880000\n",
      "881000\n",
      "882000\n",
      "883000\n",
      "884000\n",
      "885000\n",
      "886000\n",
      "887000\n",
      "888000\n",
      "889000\n",
      "890000\n",
      "891000\n",
      "892000\n",
      "893000\n",
      "894000\n",
      "895000\n",
      "896000\n",
      "897000\n",
      "898000\n",
      "899000\n",
      "900000\n",
      "901000\n",
      "902000\n",
      "903000\n",
      "904000\n",
      "905000\n",
      "906000\n",
      "907000\n",
      "908000\n",
      "909000\n",
      "910000\n",
      "911000\n",
      "912000\n",
      "913000\n",
      "914000\n",
      "915000\n",
      "916000\n",
      "917000\n",
      "918000\n",
      "919000\n",
      "920000\n",
      "921000\n",
      "922000\n",
      "923000\n",
      "924000\n",
      "925000\n",
      "926000\n",
      "927000\n",
      "928000\n",
      "929000\n",
      "930000\n",
      "931000\n",
      "932000\n",
      "933000\n",
      "934000\n",
      "935000\n",
      "936000\n",
      "937000\n",
      "938000\n",
      "939000\n",
      "940000\n",
      "941000\n",
      "942000\n",
      "943000\n",
      "944000\n",
      "945000\n",
      "946000\n",
      "947000\n",
      "948000\n",
      "949000\n",
      "950000\n",
      "951000\n",
      "952000\n",
      "953000\n",
      "954000\n",
      "955000\n",
      "956000\n",
      "957000\n",
      "958000\n",
      "959000\n",
      "960000\n",
      "961000\n",
      "962000\n",
      "963000\n",
      "964000\n",
      "965000\n",
      "966000\n",
      "967000\n",
      "968000\n",
      "969000\n",
      "970000\n",
      "971000\n",
      "972000\n",
      "973000\n",
      "974000\n",
      "975000\n",
      "976000\n",
      "977000\n",
      "978000\n",
      "979000\n",
      "980000\n",
      "981000\n",
      "982000\n",
      "983000\n",
      "984000\n",
      "985000\n",
      "986000\n",
      "987000\n",
      "988000\n",
      "989000\n",
      "990000\n",
      "991000\n",
      "992000\n",
      "993000\n",
      "994000\n",
      "995000\n",
      "996000\n",
      "997000\n",
      "998000\n",
      "999000\n",
      "1000000\n",
      "1001000\n",
      "1002000\n",
      "1003000\n",
      "1004000\n",
      "1005000\n",
      "1006000\n",
      "1007000\n",
      "1008000\n",
      "1009000\n",
      "1010000\n",
      "1011000\n",
      "1012000\n",
      "1013000\n",
      "1014000\n",
      "1015000\n",
      "1016000\n",
      "1017000\n",
      "1018000\n",
      "1019000\n",
      "1020000\n",
      "1021000\n",
      "1022000\n",
      "1023000\n",
      "1024000\n",
      "1025000\n",
      "1026000\n",
      "1027000\n",
      "1028000\n",
      "1029000\n",
      "1030000\n",
      "1031000\n",
      "1032000\n",
      "1033000\n",
      "1034000\n",
      "1035000\n",
      "1036000\n",
      "1037000\n",
      "1038000\n",
      "1039000\n",
      "1040000\n",
      "1041000\n",
      "1042000\n",
      "1043000\n",
      "1044000\n",
      "1045000\n",
      "1046000\n",
      "1047000\n",
      "1048000\n",
      "1049000\n",
      "1050000\n",
      "1051000\n",
      "1052000\n",
      "1053000\n",
      "1054000\n",
      "1055000\n",
      "1056000\n",
      "1057000\n",
      "1058000\n",
      "1059000\n",
      "1060000\n",
      "1061000\n",
      "1062000\n",
      "1063000\n",
      "1064000\n",
      "1065000\n",
      "1066000\n",
      "1067000\n",
      "1068000\n",
      "1069000\n",
      "1070000\n",
      "1071000\n",
      "1072000\n",
      "1073000\n",
      "1074000\n",
      "1075000\n",
      "1076000\n",
      "1077000\n",
      "1078000\n",
      "1079000\n",
      "1080000\n",
      "1081000\n",
      "1082000\n",
      "1083000\n",
      "1084000\n",
      "1085000\n",
      "1086000\n",
      "1087000\n",
      "1088000\n",
      "1089000\n",
      "1090000\n",
      "1091000\n",
      "1092000\n",
      "1093000\n",
      "1094000\n",
      "1095000\n",
      "1096000\n",
      "1097000\n",
      "1098000\n",
      "1099000\n",
      "1100000\n",
      "1101000\n",
      "1102000\n",
      "1103000\n",
      "1104000\n",
      "1105000\n",
      "1106000\n",
      "1107000\n",
      "1108000\n",
      "1109000\n",
      "1110000\n",
      "1111000\n",
      "1112000\n",
      "1113000\n",
      "1114000\n",
      "1115000\n",
      "1116000\n",
      "1117000\n",
      "1118000\n",
      "1119000\n",
      "1120000\n",
      "1121000\n",
      "1122000\n",
      "1123000\n",
      "1124000\n"
     ]
    },
    {
     "ename": "KeyboardInterrupt",
     "evalue": "",
     "output_type": "error",
     "traceback": [
      "\u001b[0;31m---------------------------------------------------------------------------\u001b[0m",
      "\u001b[0;31mKeyboardInterrupt\u001b[0m                         Traceback (most recent call last)",
      "\u001b[1;32m/Users/soumy/Downloads/handwriting/hand3.ipynb Cell 24\u001b[0m in \u001b[0;36m<cell line: 2>\u001b[0;34m()\u001b[0m\n\u001b[1;32m     <a href='vscode-notebook-cell:/Users/soumy/Downloads/handwriting/hand3.ipynb#X41sZmlsZQ%3D%3D?line=16'>17</a>\u001b[0m xi \u001b[39m=\u001b[39m df1[\u001b[39m'\u001b[39m\u001b[39mcropped\u001b[39m\u001b[39m'\u001b[39m]\u001b[39m.\u001b[39miloc[i]\n\u001b[1;32m     <a href='vscode-notebook-cell:/Users/soumy/Downloads/handwriting/hand3.ipynb#X41sZmlsZQ%3D%3D?line=17'>18</a>\u001b[0m xj \u001b[39m=\u001b[39m df2[\u001b[39m'\u001b[39m\u001b[39mcropped\u001b[39m\u001b[39m'\u001b[39m]\u001b[39m.\u001b[39miloc[j]\n\u001b[0;32m---> <a href='vscode-notebook-cell:/Users/soumy/Downloads/handwriting/hand3.ipynb#X41sZmlsZQ%3D%3D?line=18'>19</a>\u001b[0m dx \u001b[39m=\u001b[39m (data_pairs[\u001b[39m'\u001b[39;49m\u001b[39mimg0\u001b[39;49m\u001b[39m'\u001b[39;49m] \u001b[39m==\u001b[39;49m xj) \u001b[39m&\u001b[39m (data_pairs[\u001b[39m'\u001b[39m\u001b[39mimg1\u001b[39m\u001b[39m'\u001b[39m] \u001b[39m==\u001b[39m xi)\n\u001b[1;32m     <a href='vscode-notebook-cell:/Users/soumy/Downloads/handwriting/hand3.ipynb#X41sZmlsZQ%3D%3D?line=19'>20</a>\u001b[0m \u001b[39mif\u001b[39;00m \u001b[39mnot\u001b[39;00m dx\u001b[39m.\u001b[39many():\n\u001b[1;32m     <a href='vscode-notebook-cell:/Users/soumy/Downloads/handwriting/hand3.ipynb#X41sZmlsZQ%3D%3D?line=20'>21</a>\u001b[0m     data_pairs\u001b[39m.\u001b[39mloc[\u001b[39mlen\u001b[39m(data_pairs)] \u001b[39m=\u001b[39m [xi,xj,\u001b[39m0\u001b[39m]\n",
      "File \u001b[0;32m~/miniconda3/envs/cv/lib/python3.8/site-packages/pandas/core/ops/common.py:72\u001b[0m, in \u001b[0;36m_unpack_zerodim_and_defer.<locals>.new_method\u001b[0;34m(self, other)\u001b[0m\n\u001b[1;32m     68\u001b[0m             \u001b[39mreturn\u001b[39;00m \u001b[39mNotImplemented\u001b[39m\n\u001b[1;32m     70\u001b[0m other \u001b[39m=\u001b[39m item_from_zerodim(other)\n\u001b[0;32m---> 72\u001b[0m \u001b[39mreturn\u001b[39;00m method(\u001b[39mself\u001b[39;49m, other)\n",
      "File \u001b[0;32m~/miniconda3/envs/cv/lib/python3.8/site-packages/pandas/core/arraylike.py:42\u001b[0m, in \u001b[0;36mOpsMixin.__eq__\u001b[0;34m(self, other)\u001b[0m\n\u001b[1;32m     40\u001b[0m \u001b[39m@unpack_zerodim_and_defer\u001b[39m(\u001b[39m\"\u001b[39m\u001b[39m__eq__\u001b[39m\u001b[39m\"\u001b[39m)\n\u001b[1;32m     41\u001b[0m \u001b[39mdef\u001b[39;00m \u001b[39m__eq__\u001b[39m(\u001b[39mself\u001b[39m, other):\n\u001b[0;32m---> 42\u001b[0m     \u001b[39mreturn\u001b[39;00m \u001b[39mself\u001b[39;49m\u001b[39m.\u001b[39;49m_cmp_method(other, operator\u001b[39m.\u001b[39;49meq)\n",
      "File \u001b[0;32m~/miniconda3/envs/cv/lib/python3.8/site-packages/pandas/core/series.py:6243\u001b[0m, in \u001b[0;36mSeries._cmp_method\u001b[0;34m(self, other, op)\u001b[0m\n\u001b[1;32m   6240\u001b[0m rvalues \u001b[39m=\u001b[39m extract_array(other, extract_numpy\u001b[39m=\u001b[39m\u001b[39mTrue\u001b[39;00m, extract_range\u001b[39m=\u001b[39m\u001b[39mTrue\u001b[39;00m)\n\u001b[1;32m   6242\u001b[0m \u001b[39mwith\u001b[39;00m np\u001b[39m.\u001b[39merrstate(\u001b[39mall\u001b[39m\u001b[39m=\u001b[39m\u001b[39m\"\u001b[39m\u001b[39mignore\u001b[39m\u001b[39m\"\u001b[39m):\n\u001b[0;32m-> 6243\u001b[0m     res_values \u001b[39m=\u001b[39m ops\u001b[39m.\u001b[39;49mcomparison_op(lvalues, rvalues, op)\n\u001b[1;32m   6245\u001b[0m \u001b[39mreturn\u001b[39;00m \u001b[39mself\u001b[39m\u001b[39m.\u001b[39m_construct_result(res_values, name\u001b[39m=\u001b[39mres_name)\n",
      "File \u001b[0;32m~/miniconda3/envs/cv/lib/python3.8/site-packages/pandas/core/ops/array_ops.py:287\u001b[0m, in \u001b[0;36mcomparison_op\u001b[0;34m(left, right, op)\u001b[0m\n\u001b[1;32m    284\u001b[0m     \u001b[39mreturn\u001b[39;00m invalid_comparison(lvalues, rvalues, op)\n\u001b[1;32m    286\u001b[0m \u001b[39melif\u001b[39;00m is_object_dtype(lvalues\u001b[39m.\u001b[39mdtype) \u001b[39mor\u001b[39;00m \u001b[39misinstance\u001b[39m(rvalues, \u001b[39mstr\u001b[39m):\n\u001b[0;32m--> 287\u001b[0m     res_values \u001b[39m=\u001b[39m comp_method_OBJECT_ARRAY(op, lvalues, rvalues)\n\u001b[1;32m    289\u001b[0m \u001b[39melse\u001b[39;00m:\n\u001b[1;32m    290\u001b[0m     res_values \u001b[39m=\u001b[39m _na_arithmetic_op(lvalues, rvalues, op, is_cmp\u001b[39m=\u001b[39m\u001b[39mTrue\u001b[39;00m)\n",
      "File \u001b[0;32m~/miniconda3/envs/cv/lib/python3.8/site-packages/pandas/core/ops/array_ops.py:75\u001b[0m, in \u001b[0;36mcomp_method_OBJECT_ARRAY\u001b[0;34m(op, x, y)\u001b[0m\n\u001b[1;32m     73\u001b[0m     result \u001b[39m=\u001b[39m libops\u001b[39m.\u001b[39mvec_compare(x\u001b[39m.\u001b[39mravel(), y\u001b[39m.\u001b[39mravel(), op)\n\u001b[1;32m     74\u001b[0m \u001b[39melse\u001b[39;00m:\n\u001b[0;32m---> 75\u001b[0m     result \u001b[39m=\u001b[39m libops\u001b[39m.\u001b[39;49mscalar_compare(x\u001b[39m.\u001b[39;49mravel(), y, op)\n\u001b[1;32m     76\u001b[0m \u001b[39mreturn\u001b[39;00m result\u001b[39m.\u001b[39mreshape(x\u001b[39m.\u001b[39mshape)\n",
      "\u001b[0;31mKeyboardInterrupt\u001b[0m: "
     ]
    }
   ],
   "source": [
    "count = 0\n",
    "for x in subfolders:\n",
    "    df1 = data_east[data_east['folder']==x]\n",
    "    if(len(df1)>1):\n",
    "        for i in range(len(df1)):\n",
    "            for j in range(len(df1)):\n",
    "                if(i!=j):\n",
    "                    xi = df1['cropped'].iloc[i]\n",
    "                    xj = df1['cropped'].iloc[j]\n",
    "                    data_pairs.loc[len(data_pairs)] = [xi,xj,1]\n",
    "                    count += 1\n",
    "                    if(count%1000==0):\n",
    "                        print(count)\n",
    "    df2 = data_east[data_east['folder']!=x]\n",
    "    for i in range(len(df1)):\n",
    "        for j in range(len(df2)):\n",
    "            xi = df1['cropped'].iloc[i]\n",
    "            xj = df2['cropped'].iloc[j]\n",
    "            dx = (data_pairs['img0'] == xj) & (data_pairs['img1'] == xi)\n",
    "            if not dx.any():\n",
    "                data_pairs.loc[len(data_pairs)] = [xi,xj,0]\n",
    "                count += 1\n",
    "                if(count%1000==0):\n",
    "                    print(count)"
   ]
  },
  {
   "cell_type": "code",
   "execution_count": 24,
   "metadata": {},
   "outputs": [
    {
     "data": {
      "text/plain": [
       "True"
      ]
     },
     "execution_count": 24,
     "metadata": {},
     "output_type": "execute_result"
    }
   ],
   "source": [
    "np.array([data_east['folder']=='P2369']).any()"
   ]
  },
  {
   "cell_type": "code",
   "execution_count": 93,
   "metadata": {},
   "outputs": [],
   "source": [
    "dd = data_east[data_east['folder']!='P2369']"
   ]
  },
  {
   "cell_type": "code",
   "execution_count": 10,
   "metadata": {},
   "outputs": [
    {
     "data": {
      "text/plain": [
       "'./hand_east/train/M1042/B3.jpg'"
      ]
     },
     "execution_count": 10,
     "metadata": {},
     "output_type": "execute_result"
    }
   ],
   "source": [
    "df2['cropped'].iloc[0]"
   ]
  },
  {
   "cell_type": "code",
   "execution_count": 33,
   "metadata": {},
   "outputs": [
    {
     "name": "stdout",
     "output_type": "stream",
     "text": [
      "<class 'pandas.core.frame.DataFrame'>\n",
      "Int64Index: 1124455 entries, 0 to 1124454\n",
      "Data columns (total 3 columns):\n",
      " #   Column  Non-Null Count    Dtype \n",
      "---  ------  --------------    ----- \n",
      " 0   img0    1124455 non-null  object\n",
      " 1   img1    1124455 non-null  object\n",
      " 2   label   1124455 non-null  int64 \n",
      "dtypes: int64(1), object(2)\n",
      "memory usage: 34.3+ MB\n"
     ]
    }
   ],
   "source": [
    "data_pairs.info()"
   ]
  },
  {
   "cell_type": "code",
   "execution_count": null,
   "metadata": {},
   "outputs": [],
   "source": []
  }
 ],
 "metadata": {
  "kernelspec": {
   "display_name": "cv",
   "language": "python",
   "name": "python3"
  },
  "language_info": {
   "codemirror_mode": {
    "name": "ipython",
    "version": 3
   },
   "file_extension": ".py",
   "mimetype": "text/x-python",
   "name": "python",
   "nbconvert_exporter": "python",
   "pygments_lexer": "ipython3",
   "version": "3.8.13"
  },
  "orig_nbformat": 4
 },
 "nbformat": 4,
 "nbformat_minor": 2
}
